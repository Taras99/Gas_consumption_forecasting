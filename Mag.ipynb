{
  "cells": [
    {
      "cell_type": "markdown",
      "metadata": {
        "id": "view-in-github",
        "colab_type": "text"
      },
      "source": [
        "<a href=\"https://colab.research.google.com/github/Taras99/Gas_consumption_forecasting/blob/main/Mag.ipynb\" target=\"_parent\"><img src=\"https://colab.research.google.com/assets/colab-badge.svg\" alt=\"Open In Colab\"/></a>"
      ]
    },
    {
      "cell_type": "code",
      "execution_count": null,
      "metadata": {
        "colab": {
          "base_uri": "https://localhost:8080/"
        },
        "id": "6f7dce33",
        "outputId": "89ee5140-af5a-4ac0-9f94-982df2585812"
      },
      "outputs": [
        {
          "output_type": "stream",
          "name": "stdout",
          "text": [
            "Mounted at /content/drive\n"
          ]
        }
      ],
      "source": [
        "from google.colab import drive\n",
        "drive.mount(\"/content/drive\", force_remount=True)\n"
      ],
      "id": "6f7dce33"
    },
    {
      "cell_type": "code",
      "execution_count": null,
      "metadata": {
        "id": "gl-ML7hn7YSF"
      },
      "outputs": [],
      "source": [
        "import pandas as pd\n",
        "from pathlib import Path\n",
        "import tensorflow as tf \n",
        "from tensorflow import keras \n",
        "from tensorflow.keras.models import Sequential\n",
        "from tensorflow.keras.layers import Activation, Dense, Dropout, Embedding, LSTM, GlobalMaxPooling1D, SpatialDropout1D\n",
        "from tensorflow.keras.optimizers import Adam \n",
        "from tensorflow.keras.metrics import categorical_crossentropy \n",
        "import numpy as np\n",
        "import seaborn as sns\n",
        "import matplotlib.pyplot as plt\n",
        "from sklearn.preprocessing import MinMaxScaler\n",
        "from sklearn.metrics import mean_squared_error\n",
        "from math import sqrt"
      ],
      "id": "gl-ML7hn7YSF"
    },
    {
      "cell_type": "markdown",
      "metadata": {
        "id": "EMXrZOZ312lE"
      },
      "source": [],
      "id": "EMXrZOZ312lE"
    },
    {
      "cell_type": "code",
      "execution_count": null,
      "metadata": {
        "id": "e0b10d82"
      },
      "outputs": [],
      "source": [
        "# Seed RNG to ensure experiments are consistent\n",
        "np.random.seed(42)"
      ],
      "id": "e0b10d82"
    },
    {
      "cell_type": "code",
      "execution_count": null,
      "metadata": {
        "id": "33a0e10d"
      },
      "outputs": [],
      "source": [
        "gas_file = Path(\"/content/drive/MyDrive/2006-2019(+day_of_week)_t_gaz_sum_hours_full.csv\")\n",
        "wether_file = Path(\"/content/drive/MyDrive/2006-2019(3hour)_meteo_rp5ua.csv\")"
      ],
      "id": "33a0e10d"
    },
    {
      "cell_type": "markdown",
      "source": [
        "# Новий розділ"
      ],
      "metadata": {
        "id": "oGQvt-429CRy"
      },
      "id": "oGQvt-429CRy"
    },
    {
      "cell_type": "code",
      "source": [],
      "metadata": {
        "id": "Z5lM3Rn_9MfH"
      },
      "id": "Z5lM3Rn_9MfH",
      "execution_count": null,
      "outputs": []
    },
    {
      "cell_type": "code",
      "execution_count": null,
      "metadata": {
        "colab": {
          "base_uri": "https://localhost:8080/",
          "height": 206
        },
        "id": "Z9sKZP1hn3IO",
        "outputId": "4a6fa145-4275-45a1-d66f-fbc72f7e9a62"
      },
      "outputs": [
        {
          "data": {
            "text/html": [
              "\n",
              "  <div id=\"df-c024a7e6-5f38-4f82-b0d3-6ef06e3c441f\">\n",
              "    <div class=\"colab-df-container\">\n",
              "      <div>\n",
              "<style scoped>\n",
              "    .dataframe tbody tr th:only-of-type {\n",
              "        vertical-align: middle;\n",
              "    }\n",
              "\n",
              "    .dataframe tbody tr th {\n",
              "        vertical-align: top;\n",
              "    }\n",
              "\n",
              "    .dataframe thead th {\n",
              "        text-align: right;\n",
              "    }\n",
              "</style>\n",
              "<table border=\"1\" class=\"dataframe\">\n",
              "  <thead>\n",
              "    <tr style=\"text-align: right;\">\n",
              "      <th></th>\n",
              "      <th>TS</th>\n",
              "      <th>Q</th>\n",
              "      <th>DAYOFWEEK(TS)</th>\n",
              "    </tr>\n",
              "  </thead>\n",
              "  <tbody>\n",
              "    <tr>\n",
              "      <th>0</th>\n",
              "      <td>2006-01-01 00:00:00</td>\n",
              "      <td>40518.2</td>\n",
              "      <td>1</td>\n",
              "    </tr>\n",
              "    <tr>\n",
              "      <th>1</th>\n",
              "      <td>2006-01-01 01:00:00</td>\n",
              "      <td>39043.2</td>\n",
              "      <td>1</td>\n",
              "    </tr>\n",
              "    <tr>\n",
              "      <th>2</th>\n",
              "      <td>2006-01-01 02:00:00</td>\n",
              "      <td>38551.7</td>\n",
              "      <td>1</td>\n",
              "    </tr>\n",
              "    <tr>\n",
              "      <th>3</th>\n",
              "      <td>2006-01-01 03:00:00</td>\n",
              "      <td>38284.3</td>\n",
              "      <td>1</td>\n",
              "    </tr>\n",
              "    <tr>\n",
              "      <th>4</th>\n",
              "      <td>2006-01-01 04:00:00</td>\n",
              "      <td>38545.7</td>\n",
              "      <td>1</td>\n",
              "    </tr>\n",
              "  </tbody>\n",
              "</table>\n",
              "</div>\n",
              "      <button class=\"colab-df-convert\" onclick=\"convertToInteractive('df-c024a7e6-5f38-4f82-b0d3-6ef06e3c441f')\"\n",
              "              title=\"Convert this dataframe to an interactive table.\"\n",
              "              style=\"display:none;\">\n",
              "        \n",
              "  <svg xmlns=\"http://www.w3.org/2000/svg\" height=\"24px\"viewBox=\"0 0 24 24\"\n",
              "       width=\"24px\">\n",
              "    <path d=\"M0 0h24v24H0V0z\" fill=\"none\"/>\n",
              "    <path d=\"M18.56 5.44l.94 2.06.94-2.06 2.06-.94-2.06-.94-.94-2.06-.94 2.06-2.06.94zm-11 1L8.5 8.5l.94-2.06 2.06-.94-2.06-.94L8.5 2.5l-.94 2.06-2.06.94zm10 10l.94 2.06.94-2.06 2.06-.94-2.06-.94-.94-2.06-.94 2.06-2.06.94z\"/><path d=\"M17.41 7.96l-1.37-1.37c-.4-.4-.92-.59-1.43-.59-.52 0-1.04.2-1.43.59L10.3 9.45l-7.72 7.72c-.78.78-.78 2.05 0 2.83L4 21.41c.39.39.9.59 1.41.59.51 0 1.02-.2 1.41-.59l7.78-7.78 2.81-2.81c.8-.78.8-2.07 0-2.86zM5.41 20L4 18.59l7.72-7.72 1.47 1.35L5.41 20z\"/>\n",
              "  </svg>\n",
              "      </button>\n",
              "      \n",
              "  <style>\n",
              "    .colab-df-container {\n",
              "      display:flex;\n",
              "      flex-wrap:wrap;\n",
              "      gap: 12px;\n",
              "    }\n",
              "\n",
              "    .colab-df-convert {\n",
              "      background-color: #E8F0FE;\n",
              "      border: none;\n",
              "      border-radius: 50%;\n",
              "      cursor: pointer;\n",
              "      display: none;\n",
              "      fill: #1967D2;\n",
              "      height: 32px;\n",
              "      padding: 0 0 0 0;\n",
              "      width: 32px;\n",
              "    }\n",
              "\n",
              "    .colab-df-convert:hover {\n",
              "      background-color: #E2EBFA;\n",
              "      box-shadow: 0px 1px 2px rgba(60, 64, 67, 0.3), 0px 1px 3px 1px rgba(60, 64, 67, 0.15);\n",
              "      fill: #174EA6;\n",
              "    }\n",
              "\n",
              "    [theme=dark] .colab-df-convert {\n",
              "      background-color: #3B4455;\n",
              "      fill: #D2E3FC;\n",
              "    }\n",
              "\n",
              "    [theme=dark] .colab-df-convert:hover {\n",
              "      background-color: #434B5C;\n",
              "      box-shadow: 0px 1px 3px 1px rgba(0, 0, 0, 0.15);\n",
              "      filter: drop-shadow(0px 1px 2px rgba(0, 0, 0, 0.3));\n",
              "      fill: #FFFFFF;\n",
              "    }\n",
              "  </style>\n",
              "\n",
              "      <script>\n",
              "        const buttonEl =\n",
              "          document.querySelector('#df-c024a7e6-5f38-4f82-b0d3-6ef06e3c441f button.colab-df-convert');\n",
              "        buttonEl.style.display =\n",
              "          google.colab.kernel.accessAllowed ? 'block' : 'none';\n",
              "\n",
              "        async function convertToInteractive(key) {\n",
              "          const element = document.querySelector('#df-c024a7e6-5f38-4f82-b0d3-6ef06e3c441f');\n",
              "          const dataTable =\n",
              "            await google.colab.kernel.invokeFunction('convertToInteractive',\n",
              "                                                     [key], {});\n",
              "          if (!dataTable) return;\n",
              "\n",
              "          const docLinkHtml = 'Like what you see? Visit the ' +\n",
              "            '<a target=\"_blank\" href=https://colab.research.google.com/notebooks/data_table.ipynb>data table notebook</a>'\n",
              "            + ' to learn more about interactive tables.';\n",
              "          element.innerHTML = '';\n",
              "          dataTable['output_type'] = 'display_data';\n",
              "          await google.colab.output.renderOutput(dataTable, element);\n",
              "          const docLink = document.createElement('div');\n",
              "          docLink.innerHTML = docLinkHtml;\n",
              "          element.appendChild(docLink);\n",
              "        }\n",
              "      </script>\n",
              "    </div>\n",
              "  </div>\n",
              "  "
            ],
            "text/plain": [
              "                    TS        Q  DAYOFWEEK(TS)\n",
              "0  2006-01-01 00:00:00  40518.2              1\n",
              "1  2006-01-01 01:00:00  39043.2              1\n",
              "2  2006-01-01 02:00:00  38551.7              1\n",
              "3  2006-01-01 03:00:00  38284.3              1\n",
              "4  2006-01-01 04:00:00  38545.7              1"
            ]
          },
          "execution_count": 145,
          "metadata": {},
          "output_type": "execute_result"
        }
      ],
      "source": [
        "gas_df = pd.read_csv(gas_file)\n",
        "gas_df.head()"
      ],
      "id": "Z9sKZP1hn3IO"
    },
    {
      "cell_type": "code",
      "execution_count": null,
      "metadata": {
        "colab": {
          "base_uri": "https://localhost:8080/",
          "height": 167
        },
        "id": "tooiiaTeoPDN",
        "outputId": "e5942bfd-d19c-434c-d055-3df27a98985c"
      },
      "outputs": [
        {
          "name": "stderr",
          "output_type": "stream",
          "text": [
            "/usr/local/lib/python3.7/dist-packages/ipykernel_launcher.py:6: FutureWarning: Series.dt.weekofyear and Series.dt.week have been deprecated.  Please use Series.dt.isocalendar().week instead.\n",
            "  \n"
          ]
        },
        {
          "data": {
            "text/html": [
              "\n",
              "  <div id=\"df-a1891e4f-e075-4a47-b591-c6208add5519\">\n",
              "    <div class=\"colab-df-container\">\n",
              "      <div>\n",
              "<style scoped>\n",
              "    .dataframe tbody tr th:only-of-type {\n",
              "        vertical-align: middle;\n",
              "    }\n",
              "\n",
              "    .dataframe tbody tr th {\n",
              "        vertical-align: top;\n",
              "    }\n",
              "\n",
              "    .dataframe thead th {\n",
              "        text-align: right;\n",
              "    }\n",
              "</style>\n",
              "<table border=\"1\" class=\"dataframe\">\n",
              "  <thead>\n",
              "    <tr style=\"text-align: right;\">\n",
              "      <th></th>\n",
              "      <th>Q</th>\n",
              "      <th>DAYOFWEEK(TS)</th>\n",
              "      <th>Month</th>\n",
              "      <th>Year</th>\n",
              "      <th>Date</th>\n",
              "      <th>Time</th>\n",
              "      <th>Week</th>\n",
              "      <th>Day</th>\n",
              "    </tr>\n",
              "    <tr>\n",
              "      <th>TS</th>\n",
              "      <th></th>\n",
              "      <th></th>\n",
              "      <th></th>\n",
              "      <th></th>\n",
              "      <th></th>\n",
              "      <th></th>\n",
              "      <th></th>\n",
              "      <th></th>\n",
              "    </tr>\n",
              "  </thead>\n",
              "  <tbody>\n",
              "    <tr>\n",
              "      <th>2006-01-01</th>\n",
              "      <td>40518.2</td>\n",
              "      <td>1</td>\n",
              "      <td>1</td>\n",
              "      <td>2006</td>\n",
              "      <td>2006-01-01</td>\n",
              "      <td>00:00:00</td>\n",
              "      <td>52</td>\n",
              "      <td>Sunday</td>\n",
              "    </tr>\n",
              "  </tbody>\n",
              "</table>\n",
              "</div>\n",
              "      <button class=\"colab-df-convert\" onclick=\"convertToInteractive('df-a1891e4f-e075-4a47-b591-c6208add5519')\"\n",
              "              title=\"Convert this dataframe to an interactive table.\"\n",
              "              style=\"display:none;\">\n",
              "        \n",
              "  <svg xmlns=\"http://www.w3.org/2000/svg\" height=\"24px\"viewBox=\"0 0 24 24\"\n",
              "       width=\"24px\">\n",
              "    <path d=\"M0 0h24v24H0V0z\" fill=\"none\"/>\n",
              "    <path d=\"M18.56 5.44l.94 2.06.94-2.06 2.06-.94-2.06-.94-.94-2.06-.94 2.06-2.06.94zm-11 1L8.5 8.5l.94-2.06 2.06-.94-2.06-.94L8.5 2.5l-.94 2.06-2.06.94zm10 10l.94 2.06.94-2.06 2.06-.94-2.06-.94-.94-2.06-.94 2.06-2.06.94z\"/><path d=\"M17.41 7.96l-1.37-1.37c-.4-.4-.92-.59-1.43-.59-.52 0-1.04.2-1.43.59L10.3 9.45l-7.72 7.72c-.78.78-.78 2.05 0 2.83L4 21.41c.39.39.9.59 1.41.59.51 0 1.02-.2 1.41-.59l7.78-7.78 2.81-2.81c.8-.78.8-2.07 0-2.86zM5.41 20L4 18.59l7.72-7.72 1.47 1.35L5.41 20z\"/>\n",
              "  </svg>\n",
              "      </button>\n",
              "      \n",
              "  <style>\n",
              "    .colab-df-container {\n",
              "      display:flex;\n",
              "      flex-wrap:wrap;\n",
              "      gap: 12px;\n",
              "    }\n",
              "\n",
              "    .colab-df-convert {\n",
              "      background-color: #E8F0FE;\n",
              "      border: none;\n",
              "      border-radius: 50%;\n",
              "      cursor: pointer;\n",
              "      display: none;\n",
              "      fill: #1967D2;\n",
              "      height: 32px;\n",
              "      padding: 0 0 0 0;\n",
              "      width: 32px;\n",
              "    }\n",
              "\n",
              "    .colab-df-convert:hover {\n",
              "      background-color: #E2EBFA;\n",
              "      box-shadow: 0px 1px 2px rgba(60, 64, 67, 0.3), 0px 1px 3px 1px rgba(60, 64, 67, 0.15);\n",
              "      fill: #174EA6;\n",
              "    }\n",
              "\n",
              "    [theme=dark] .colab-df-convert {\n",
              "      background-color: #3B4455;\n",
              "      fill: #D2E3FC;\n",
              "    }\n",
              "\n",
              "    [theme=dark] .colab-df-convert:hover {\n",
              "      background-color: #434B5C;\n",
              "      box-shadow: 0px 1px 3px 1px rgba(0, 0, 0, 0.15);\n",
              "      filter: drop-shadow(0px 1px 2px rgba(0, 0, 0, 0.3));\n",
              "      fill: #FFFFFF;\n",
              "    }\n",
              "  </style>\n",
              "\n",
              "      <script>\n",
              "        const buttonEl =\n",
              "          document.querySelector('#df-a1891e4f-e075-4a47-b591-c6208add5519 button.colab-df-convert');\n",
              "        buttonEl.style.display =\n",
              "          google.colab.kernel.accessAllowed ? 'block' : 'none';\n",
              "\n",
              "        async function convertToInteractive(key) {\n",
              "          const element = document.querySelector('#df-a1891e4f-e075-4a47-b591-c6208add5519');\n",
              "          const dataTable =\n",
              "            await google.colab.kernel.invokeFunction('convertToInteractive',\n",
              "                                                     [key], {});\n",
              "          if (!dataTable) return;\n",
              "\n",
              "          const docLinkHtml = 'Like what you see? Visit the ' +\n",
              "            '<a target=\"_blank\" href=https://colab.research.google.com/notebooks/data_table.ipynb>data table notebook</a>'\n",
              "            + ' to learn more about interactive tables.';\n",
              "          element.innerHTML = '';\n",
              "          dataTable['output_type'] = 'display_data';\n",
              "          await google.colab.output.renderOutput(dataTable, element);\n",
              "          const docLink = document.createElement('div');\n",
              "          docLink.innerHTML = docLinkHtml;\n",
              "          element.appendChild(docLink);\n",
              "        }\n",
              "      </script>\n",
              "    </div>\n",
              "  </div>\n",
              "  "
            ],
            "text/plain": [
              "                  Q  DAYOFWEEK(TS)  Month  Year        Date      Time  Week  \\\n",
              "TS                                                                            \n",
              "2006-01-01  40518.2              1      1  2006  2006-01-01  00:00:00    52   \n",
              "\n",
              "               Day  \n",
              "TS                  \n",
              "2006-01-01  Sunday  "
            ]
          },
          "execution_count": 146,
          "metadata": {},
          "output_type": "execute_result"
        }
      ],
      "source": [
        "dataset_gas = gas_df\n",
        "dataset_gas[\"Month\"] = pd.to_datetime(gas_df[\"TS\"]).dt.month\n",
        "dataset_gas[\"Year\"] = pd.to_datetime(gas_df[\"TS\"]).dt.year\n",
        "dataset_gas[\"Date\"] = pd.to_datetime(gas_df[\"TS\"]).dt.date\n",
        "dataset_gas[\"Time\"] = pd.to_datetime(gas_df[\"TS\"]).dt.time\n",
        "dataset_gas[\"Week\"] = pd.to_datetime(gas_df[\"TS\"]).dt.week\n",
        "dataset_gas[\"Day\"] = pd.to_datetime(gas_df[\"TS\"]).dt.day_name()\n",
        "dataset_gas = gas_df.set_index(\"TS\")\n",
        "dataset_gas.index = pd.to_datetime(dataset_gas.index)\n",
        "dataset_gas.head(1)"
      ],
      "id": "tooiiaTeoPDN"
    },
    {
      "cell_type": "code",
      "execution_count": null,
      "metadata": {
        "colab": {
          "base_uri": "https://localhost:8080/"
        },
        "id": "6MzqwyfUrCa2",
        "outputId": "2d19fc84-5035-4005-ad5a-875f4c43426e"
      },
      "outputs": [
        {
          "name": "stdout",
          "output_type": "stream",
          "text": [
            "[2006 2007 2008 2009 2010 2011 2012 2013 2014 2015 2016 2017 2018 2019] \n",
            "\n",
            "Total Number of Unique Year 14 \n",
            "\n"
          ]
        }
      ],
      "source": [
        "# How many Unique Year do we Have in Dataset \n",
        "print(gas_df.Year.unique(),\"\\n\")\n",
        "print(\"Total Number of Unique Year\", gas_df.Year.nunique(), \"\\n\")"
      ],
      "id": "6MzqwyfUrCa2"
    },
    {
      "cell_type": "code",
      "execution_count": null,
      "metadata": {
        "colab": {
          "base_uri": "https://localhost:8080/",
          "height": 346
        },
        "id": "WMxtRbbWrZKS",
        "outputId": "1585a726-e4e3-4843-8df6-7539f67539a1"
      },
      "outputs": [
        {
          "name": "stderr",
          "output_type": "stream",
          "text": [
            "No handles with labels found to put in legend.\n"
          ]
        },
        {
          "data": {
            "text/plain": [
              "Text(0.5, 1.0, 'Energy Consumption According to Year')"
            ]
          },
          "execution_count": 8,
          "metadata": {},
          "output_type": "execute_result"
        },
        {
          "data": {
            "image/png": "[encoded data removed]",
            "text/plain": [
              "<Figure size 432x288 with 1 Axes>"
            ]
          },
          "metadata": {},
          "output_type": "display_data"
        }
      ],
      "source": [
        "#Lets us see the energy consumption Each Year\n",
        "from matplotlib import style\n",
        "fig = plt.figure()\n",
        "ax1 = plt.subplot2grid((1,1), (0,0))\n",
        "\n",
        "style.use('ggplot')\n",
        "\n",
        "sns.boxplot(x=dataset_gas[\"Year\"], y=dataset_gas[\"Q\"], data=gas_df)\n",
        "sns.set(rc={'figure.figsize':(15,6)})\n",
        "\n",
        "plt.title(\"Energy consumptionnin Year ...\")\n",
        "plt.xlabel(\"Date\")\n",
        "plt.ylabel(\"Energy in MW\")\n",
        "plt.grid(True)\n",
        "plt.legend()\n",
        "\n",
        "for label in ax1.xaxis.get_ticklabels():\n",
        "    label.set_rotation(90)\n",
        "\n",
        "\n",
        "plt.title(\"Energy Consumption According to Year\")"
      ],
      "id": "WMxtRbbWrZKS"
    },
    {
      "cell_type": "code",
      "execution_count": null,
      "metadata": {
        "colab": {
          "base_uri": "https://localhost:8080/",
          "height": 449
        },
        "id": "jPcG7GXa997G",
        "outputId": "64317432-0ebf-422a-cc41-9b12575814a9"
      },
      "outputs": [
        {
          "name": "stderr",
          "output_type": "stream",
          "text": [
            "No handles with labels found to put in legend.\n"
          ]
        },
        {
          "data": {
            "text/plain": [
              "Text(0.5, 1.0, 'Energy Consumption According to Year')"
            ]
          },
          "execution_count": 9,
          "metadata": {},
          "output_type": "execute_result"
        },
        {
          "data": {
            "image/png": "[encoded data removed]",
            "text/plain": [
              "<Figure size 1080x432 with 1 Axes>"
            ]
          },
          "metadata": {},
          "output_type": "display_data"
        }
      ],
      "source": [
        "#Lets us see the energy consumption Each Year\n",
        "from matplotlib import style\n",
        "fig = plt.figure()\n",
        "ax1 = plt.subplot2grid((1,1), (0,0))\n",
        "\n",
        "style.use('ggplot')\n",
        "\n",
        "sns.barplot(x=dataset_gas[\"Month\"], y=dataset_gas[\"Q\"], data=gas_df)\n",
        "sns.set(rc={'figure.figsize':(15,6)})\n",
        "\n",
        "plt.title(\"Energy consumptionnin Year ...\")\n",
        "plt.xlabel(\"Date\")\n",
        "plt.ylabel(\"Energy in MW\")\n",
        "plt.grid(True)\n",
        "plt.legend()\n",
        "\n",
        "for label in ax1.xaxis.get_ticklabels():\n",
        "    label.set_rotation(90)\n",
        "\n",
        "\n",
        "plt.title(\"Energy Consumption According to Year\")"
      ],
      "id": "jPcG7GXa997G"
    },
    {
      "cell_type": "code",
      "execution_count": null,
      "metadata": {
        "colab": {
          "base_uri": "https://localhost:8080/",
          "height": 482
        },
        "id": "UXgc78Et99Oe",
        "outputId": "b85cef47-cb6c-40a3-f1de-3f6384bd605b"
      },
      "outputs": [
        {
          "name": "stderr",
          "output_type": "stream",
          "text": [
            "/usr/local/lib/python3.7/dist-packages/seaborn/distributions.py:2619: FutureWarning: `distplot` is a deprecated function and will be removed in a future version. Please adapt your code to use either `displot` (a figure-level function with similar flexibility) or `histplot` (an axes-level function for histograms).\n",
            "  warnings.warn(msg, FutureWarning)\n"
          ]
        },
        {
          "data": {
            "text/plain": [
              "Text(0.5, 1.0, 'Ennergy Distribution')"
            ]
          },
          "execution_count": 10,
          "metadata": {},
          "output_type": "execute_result"
        },
        {
          "data": {
            "image/png": "[encoded data removed]",
            "text/plain": [
              "<Figure size 1080x432 with 1 Axes>"
            ]
          },
          "metadata": {},
          "output_type": "display_data"
        }
      ],
      "source": [
        "sns.distplot(dataset_gas[\"Q\"])\n",
        "plt.title(\"Ennergy Distribution\")"
      ],
      "id": "UXgc78Et99Oe"
    },
    {
      "cell_type": "markdown",
      "metadata": {
        "id": "gZlATa37laaF"
      },
      "source": [
        "#Prepering data for LSTM model"
      ],
      "id": "gZlATa37laaF"
    },
    {
      "cell_type": "code",
      "execution_count": null,
      "metadata": {
        "id": "AuJh2QWNgwld"
      },
      "outputs": [],
      "source": [
        "# Resampeling \n",
        "#print(dataset_gas)"
      ],
      "id": "AuJh2QWNgwld"
    },
    {
      "cell_type": "code",
      "execution_count": null,
      "metadata": {
        "colab": {
          "base_uri": "https://localhost:8080/"
        },
        "id": "PHnlDpY3kor5",
        "outputId": "b7d006a8-9909-4dca-e590-186e55c0937b"
      },
      "outputs": [
        {
          "name": "stdout",
          "output_type": "stream",
          "text": [
            "                           Q  DAYOFWEEK(TS)  Month    Year  Week\n",
            "TS                                                              \n",
            "2006-01-01 00:00:00  40518.2            1.0    1.0  2006.0  52.0\n",
            "2006-01-01 01:00:00  39043.2            1.0    1.0  2006.0  52.0\n",
            "2006-01-01 02:00:00  38551.7            1.0    1.0  2006.0  52.0\n",
            "2006-01-01 03:00:00  38284.3            1.0    1.0  2006.0  52.0\n",
            "2006-01-01 04:00:00  38545.7            1.0    1.0  2006.0  52.0\n",
            "...                      ...            ...    ...     ...   ...\n",
            "2019-12-31 19:00:00  43434.8            3.0   12.0  2019.0   1.0\n",
            "2019-12-31 20:00:00  41943.0            3.0   12.0  2019.0   1.0\n",
            "2019-12-31 21:00:00  39574.2            3.0   12.0  2019.0   1.0\n",
            "2019-12-31 22:00:00  36841.5            3.0   12.0  2019.0   1.0\n",
            "2019-12-31 23:00:00  33227.7            3.0   12.0  2019.0   1.0\n",
            "\n",
            "[122712 rows x 5 columns]\n"
          ]
        }
      ],
      "source": [
        "NewDataSet = dataset_gas.resample('H').mean()\n",
        "print(NewDataSet)"
      ],
      "id": "PHnlDpY3kor5"
    },
    {
      "cell_type": "code",
      "execution_count": null,
      "metadata": {
        "colab": {
          "base_uri": "https://localhost:8080/"
        },
        "id": "CkLri8r2lBAJ",
        "outputId": "e116ee42-c72e-451d-f16b-e68bf0ae1765"
      },
      "outputs": [
        {
          "name": "stdout",
          "output_type": "stream",
          "text": [
            "Old Dataset  (122712, 8)\n",
            "New  Dataset  (122712, 5)\n"
          ]
        }
      ],
      "source": [
        "print(\"Old Dataset \",dataset_gas.shape )\n",
        "print(\"New  Dataset \",NewDataSet.shape )"
      ],
      "id": "CkLri8r2lBAJ"
    },
    {
      "cell_type": "code",
      "execution_count": null,
      "metadata": {
        "id": "Chs7o5ojlLhN"
      },
      "outputs": [],
      "source": [
        "TestData = NewDataSet.tail(100)\n",
        "\n",
        "Training_Set = NewDataSet.iloc[:,0:1]\n",
        "\n",
        "Training_Set = Training_Set[:-60]"
      ],
      "id": "Chs7o5ojlLhN"
    },
    {
      "cell_type": "code",
      "execution_count": null,
      "metadata": {
        "colab": {
          "base_uri": "https://localhost:8080/"
        },
        "id": "GdpslqRxlWVt",
        "outputId": "b610614d-9f32-4d36-877a-ae78cc15307e"
      },
      "outputs": [
        {
          "name": "stdout",
          "output_type": "stream",
          "text": [
            "Training Set Shape  (122652, 1)\n",
            "Test Set Shape  (100, 5)\n"
          ]
        }
      ],
      "source": [
        "print(\"Training Set Shape \", Training_Set.shape)\n",
        "print(\"Test Set Shape \", TestData.shape)"
      ],
      "id": "GdpslqRxlWVt"
    },
    {
      "cell_type": "code",
      "execution_count": null,
      "metadata": {
        "id": "8qCQpsbNldHg"
      },
      "outputs": [],
      "source": [
        "Training_Set = Training_Set.values\n",
        "sc = MinMaxScaler(feature_range=(0, 1))\n",
        "Train = sc.fit_transform(Training_Set)"
      ],
      "id": "8qCQpsbNldHg"
    },
    {
      "cell_type": "code",
      "execution_count": null,
      "metadata": {
        "colab": {
          "base_uri": "https://localhost:8080/"
        },
        "id": "WEYyJ7MLliUX",
        "outputId": "10286160-7b1f-45bd-b222-9c5b86d8c4e5"
      },
      "outputs": [
        {
          "name": "stdout",
          "output_type": "stream",
          "text": [
            "(122592, 60, 1)\n",
            "(122592, 1)\n"
          ]
        }
      ],
      "source": [
        "X_Train = []\n",
        "Y_Train = []\n",
        "\n",
        "# Range should be fromm 60 Values to END \n",
        "for i in range(60, Train.shape[0]):\n",
        "    \n",
        "    # X_Train 0-59 \n",
        "    X_Train.append(Train[i-60:i])\n",
        "    \n",
        "    # Y Would be 60 th Value based on past 60 Values \n",
        "    Y_Train.append(Train[i])\n",
        "\n",
        "# Convert into Numpy Array\n",
        "X_Train = np.array(X_Train)\n",
        "Y_Train = np.array(Y_Train)\n",
        "\n",
        "print(X_Train.shape)\n",
        "print(Y_Train.shape)"
      ],
      "id": "WEYyJ7MLliUX"
    },
    {
      "cell_type": "code",
      "execution_count": null,
      "metadata": {
        "colab": {
          "base_uri": "https://localhost:8080/"
        },
        "id": "sy4GMWv-ln_p",
        "outputId": "91fabf90-c25d-4c7e-fb91-1857f6cf3f03"
      },
      "outputs": [
        {
          "data": {
            "text/plain": [
              "(122592, 60, 1)"
            ]
          },
          "execution_count": 250,
          "metadata": {},
          "output_type": "execute_result"
        }
      ],
      "source": [
        "# Shape should be Number of [Datapoints , Steps , 1 )\n",
        "# we convert into 3-d Vector or #rd Dimesnsion\n",
        "X_Train = np.reshape(X_Train, newshape=(X_Train.shape[0], X_Train.shape[1], 1))\n",
        "X_Train.shape"
      ],
      "id": "sy4GMWv-ln_p"
    },
    {
      "cell_type": "code",
      "execution_count": null,
      "metadata": {
        "id": "kNGdBrQ4lt_G"
      },
      "outputs": [],
      "source": [
        "#MODEL\n",
        "\n",
        "regressor = Sequential()\n",
        "\n",
        "# Adding the first LSTM layer and some Dropout regularisation\n",
        "regressor.add(LSTM(units = 50, return_sequences = True, input_shape = (X_Train.shape[1], 1)))\n",
        "regressor.add(Dropout(0.2))\n",
        "\n",
        "# Adding a second LSTM layer and some Dropout regularisation\n",
        "regressor.add(LSTM(units = 50, return_sequences = True))\n",
        "regressor.add(Dropout(0.2))\n",
        "\n",
        "# Adding a third LSTM layer and some Dropout regularisation\n",
        "regressor.add(LSTM(units = 50, return_sequences = True))\n",
        "regressor.add(Dropout(0.2))\n",
        "\n",
        "# Adding a fourth LSTM layer and some Dropout regularisation\n",
        "regressor.add(LSTM(units = 50))\n",
        "regressor.add(Dropout(0.2))\n",
        "\n",
        "# Adding the output layer\n",
        "regressor.add(Dense(units = 1))\n",
        "\n",
        "# Compiling the RNN\n",
        "regressor.compile(optimizer = 'adam', loss = 'mean_squared_error')"
      ],
      "id": "kNGdBrQ4lt_G"
    },
    {
      "cell_type": "code",
      "execution_count": null,
      "metadata": {
        "colab": {
          "background_save": true,
          "base_uri": "https://localhost:8080/"
        },
        "id": "jaCPRPyHl4Gr",
        "outputId": "cccf7096-4be3-4bd1-cfb8-a6d0e3d2126b"
      },
      "outputs": [
        {
          "name": "stdout",
          "output_type": "stream",
          "text": [
            "Epoch 1/50\n",
            "3831/3831 [==============================] - 335s 87ms/step - loss: 4.1056e-04\n",
            "Epoch 2/50\n",
            "3831/3831 [==============================] - 336s 88ms/step - loss: 4.1092e-04\n",
            "Epoch 3/50\n",
            "3831/3831 [==============================] - 336s 88ms/step - loss: 4.0671e-04\n",
            "Epoch 4/50\n",
            "3831/3831 [==============================] - 336s 88ms/step - loss: 4.0209e-04\n",
            "Epoch 5/50\n",
            "3831/3831 [==============================] - 335s 88ms/step - loss: 3.9708e-04\n",
            "Epoch 6/50\n",
            "3831/3831 [==============================] - 333s 87ms/step - loss: 3.9273e-04\n",
            "Epoch 7/50\n",
            "3831/3831 [==============================] - 335s 87ms/step - loss: 3.8960e-04\n",
            "Epoch 8/50\n",
            "3831/3831 [==============================] - 335s 87ms/step - loss: 3.8864e-04\n",
            "Epoch 9/50\n",
            "3831/3831 [==============================] - 336s 88ms/step - loss: 3.7928e-04\n",
            "Epoch 10/50\n",
            "3831/3831 [==============================] - 337s 88ms/step - loss: 3.8399e-04\n",
            "Epoch 11/50\n",
            "3831/3831 [==============================] - 328s 86ms/step - loss: 3.7758e-04\n",
            "Epoch 12/50\n",
            "3831/3831 [==============================] - 322s 84ms/step - loss: 3.7478e-04\n",
            "Epoch 13/50\n",
            "3831/3831 [==============================] - 317s 83ms/step - loss: 3.7303e-04\n",
            "Epoch 14/50\n",
            "3831/3831 [==============================] - 318s 83ms/step - loss: 3.6881e-04\n",
            "Epoch 15/50\n",
            "3831/3831 [==============================] - 318s 83ms/step - loss: 3.6335e-04\n",
            "Epoch 16/50\n",
            "3831/3831 [==============================] - 319s 83ms/step - loss: 3.6318e-04\n",
            "Epoch 17/50\n",
            "3831/3831 [==============================] - 320s 84ms/step - loss: 3.6232e-04\n",
            "Epoch 18/50\n",
            "3831/3831 [==============================] - 319s 83ms/step - loss: 3.6161e-04\n",
            "Epoch 19/50\n",
            "3831/3831 [==============================] - 319s 83ms/step - loss: 3.5967e-04\n",
            "Epoch 20/50\n",
            "3831/3831 [==============================] - 318s 83ms/step - loss: 3.5313e-04\n",
            "Epoch 21/50\n",
            "3831/3831 [==============================] - 320s 84ms/step - loss: 3.5084e-04\n",
            "Epoch 22/50\n",
            "3831/3831 [==============================] - 322s 84ms/step - loss: 3.4959e-04\n",
            "Epoch 23/50\n",
            "  86/3831 [..............................] - ETA: 5:14 - loss: 3.7478e-04"
          ]
        }
      ],
      "source": [
        "regressor.fit(X_Train, Y_Train, epochs = 50, batch_size = 32)"
      ],
      "id": "jaCPRPyHl4Gr"
    },
    {
      "cell_type": "code",
      "execution_count": null,
      "metadata": {
        "colab": {
          "base_uri": "https://localhost:8080/",
          "height": 143
        },
        "id": "8BjgRwIVlnkS",
        "outputId": "4c61867f-cc5d-4962-c3f5-57ebdafefba7"
      },
      "outputs": [
        {
          "data": {
            "text/html": [
              "\n",
              "  <div id=\"df-ea6fc9bf-df97-4649-96aa-e2dbd4a6816f\">\n",
              "    <div class=\"colab-df-container\">\n",
              "      <div>\n",
              "<style scoped>\n",
              "    .dataframe tbody tr th:only-of-type {\n",
              "        vertical-align: middle;\n",
              "    }\n",
              "\n",
              "    .dataframe tbody tr th {\n",
              "        vertical-align: top;\n",
              "    }\n",
              "\n",
              "    .dataframe thead th {\n",
              "        text-align: right;\n",
              "    }\n",
              "</style>\n",
              "<table border=\"1\" class=\"dataframe\">\n",
              "  <thead>\n",
              "    <tr style=\"text-align: right;\">\n",
              "      <th></th>\n",
              "      <th>Q</th>\n",
              "      <th>DAYOFWEEK(TS)</th>\n",
              "      <th>Month</th>\n",
              "      <th>Year</th>\n",
              "      <th>Week</th>\n",
              "    </tr>\n",
              "    <tr>\n",
              "      <th>TS</th>\n",
              "      <th></th>\n",
              "      <th></th>\n",
              "      <th></th>\n",
              "      <th></th>\n",
              "      <th></th>\n",
              "    </tr>\n",
              "  </thead>\n",
              "  <tbody>\n",
              "    <tr>\n",
              "      <th>2019-12-27 20:00:00</th>\n",
              "      <td>38842.4</td>\n",
              "      <td>6.0</td>\n",
              "      <td>12.0</td>\n",
              "      <td>2019.0</td>\n",
              "      <td>52.0</td>\n",
              "    </tr>\n",
              "    <tr>\n",
              "      <th>2019-12-27 21:00:00</th>\n",
              "      <td>38225.3</td>\n",
              "      <td>6.0</td>\n",
              "      <td>12.0</td>\n",
              "      <td>2019.0</td>\n",
              "      <td>52.0</td>\n",
              "    </tr>\n",
              "  </tbody>\n",
              "</table>\n",
              "</div>\n",
              "      <button class=\"colab-df-convert\" onclick=\"convertToInteractive('df-ea6fc9bf-df97-4649-96aa-e2dbd4a6816f')\"\n",
              "              title=\"Convert this dataframe to an interactive table.\"\n",
              "              style=\"display:none;\">\n",
              "        \n",
              "  <svg xmlns=\"http://www.w3.org/2000/svg\" height=\"24px\"viewBox=\"0 0 24 24\"\n",
              "       width=\"24px\">\n",
              "    <path d=\"M0 0h24v24H0V0z\" fill=\"none\"/>\n",
              "    <path d=\"M18.56 5.44l.94 2.06.94-2.06 2.06-.94-2.06-.94-.94-2.06-.94 2.06-2.06.94zm-11 1L8.5 8.5l.94-2.06 2.06-.94-2.06-.94L8.5 2.5l-.94 2.06-2.06.94zm10 10l.94 2.06.94-2.06 2.06-.94-2.06-.94-.94-2.06-.94 2.06-2.06.94z\"/><path d=\"M17.41 7.96l-1.37-1.37c-.4-.4-.92-.59-1.43-.59-.52 0-1.04.2-1.43.59L10.3 9.45l-7.72 7.72c-.78.78-.78 2.05 0 2.83L4 21.41c.39.39.9.59 1.41.59.51 0 1.02-.2 1.41-.59l7.78-7.78 2.81-2.81c.8-.78.8-2.07 0-2.86zM5.41 20L4 18.59l7.72-7.72 1.47 1.35L5.41 20z\"/>\n",
              "  </svg>\n",
              "      </button>\n",
              "      \n",
              "  <style>\n",
              "    .colab-df-container {\n",
              "      display:flex;\n",
              "      flex-wrap:wrap;\n",
              "      gap: 12px;\n",
              "    }\n",
              "\n",
              "    .colab-df-convert {\n",
              "      background-color: #E8F0FE;\n",
              "      border: none;\n",
              "      border-radius: 50%;\n",
              "      cursor: pointer;\n",
              "      display: none;\n",
              "      fill: #1967D2;\n",
              "      height: 32px;\n",
              "      padding: 0 0 0 0;\n",
              "      width: 32px;\n",
              "    }\n",
              "\n",
              "    .colab-df-convert:hover {\n",
              "      background-color: #E2EBFA;\n",
              "      box-shadow: 0px 1px 2px rgba(60, 64, 67, 0.3), 0px 1px 3px 1px rgba(60, 64, 67, 0.15);\n",
              "      fill: #174EA6;\n",
              "    }\n",
              "\n",
              "    [theme=dark] .colab-df-convert {\n",
              "      background-color: #3B4455;\n",
              "      fill: #D2E3FC;\n",
              "    }\n",
              "\n",
              "    [theme=dark] .colab-df-convert:hover {\n",
              "      background-color: #434B5C;\n",
              "      box-shadow: 0px 1px 3px 1px rgba(0, 0, 0, 0.15);\n",
              "      filter: drop-shadow(0px 1px 2px rgba(0, 0, 0, 0.3));\n",
              "      fill: #FFFFFF;\n",
              "    }\n",
              "  </style>\n",
              "\n",
              "      <script>\n",
              "        const buttonEl =\n",
              "          document.querySelector('#df-ea6fc9bf-df97-4649-96aa-e2dbd4a6816f button.colab-df-convert');\n",
              "        buttonEl.style.display =\n",
              "          google.colab.kernel.accessAllowed ? 'block' : 'none';\n",
              "\n",
              "        async function convertToInteractive(key) {\n",
              "          const element = document.querySelector('#df-ea6fc9bf-df97-4649-96aa-e2dbd4a6816f');\n",
              "          const dataTable =\n",
              "            await google.colab.kernel.invokeFunction('convertToInteractive',\n",
              "                                                     [key], {});\n",
              "          if (!dataTable) return;\n",
              "\n",
              "          const docLinkHtml = 'Like what you see? Visit the ' +\n",
              "            '<a target=\"_blank\" href=https://colab.research.google.com/notebooks/data_table.ipynb>data table notebook</a>'\n",
              "            + ' to learn more about interactive tables.';\n",
              "          element.innerHTML = '';\n",
              "          dataTable['output_type'] = 'display_data';\n",
              "          await google.colab.output.renderOutput(dataTable, element);\n",
              "          const docLink = document.createElement('div');\n",
              "          docLink.innerHTML = docLinkHtml;\n",
              "          element.appendChild(docLink);\n",
              "        }\n",
              "      </script>\n",
              "    </div>\n",
              "  </div>\n",
              "  "
            ],
            "text/plain": [
              "                           Q  DAYOFWEEK(TS)  Month    Year  Week\n",
              "TS                                                              \n",
              "2019-12-27 20:00:00  38842.4            6.0   12.0  2019.0  52.0\n",
              "2019-12-27 21:00:00  38225.3            6.0   12.0  2019.0  52.0"
            ]
          },
          "execution_count": 21,
          "metadata": {},
          "output_type": "execute_result"
        }
      ],
      "source": [
        "TestData.head(2)"
      ],
      "id": "8BjgRwIVlnkS"
    },
    {
      "cell_type": "code",
      "execution_count": null,
      "metadata": {
        "colab": {
          "base_uri": "https://localhost:8080/"
        },
        "id": "ndclEiA-szGN",
        "outputId": "6c267da6-95ae-4783-9527-2ed976655b32"
      },
      "outputs": [
        {
          "data": {
            "text/plain": [
              "(100, 5)"
            ]
          },
          "execution_count": 253,
          "metadata": {},
          "output_type": "execute_result"
        }
      ],
      "source": [
        "TestData.shape"
      ],
      "id": "ndclEiA-szGN"
    },
    {
      "cell_type": "code",
      "execution_count": null,
      "metadata": {
        "colab": {
          "base_uri": "https://localhost:8080/"
        },
        "id": "igqf8hHPs5R7",
        "outputId": "1b7f2e2e-cd04-473f-a3dc-5e1a7ba9fb61"
      },
      "outputs": [
        {
          "data": {
            "text/plain": [
              "(122712, 5)"
            ]
          },
          "execution_count": 254,
          "metadata": {},
          "output_type": "execute_result"
        }
      ],
      "source": [
        "NewDataSet.shape"
      ],
      "id": "igqf8hHPs5R7"
    },
    {
      "cell_type": "code",
      "execution_count": null,
      "metadata": {
        "id": "9acazPYttAfk"
      },
      "outputs": [],
      "source": [],
      "id": "9acazPYttAfk"
    },
    {
      "cell_type": "code",
      "execution_count": null,
      "metadata": {
        "id": "thamOZKGAHkm"
      },
      "outputs": [],
      "source": [
        "Df_Total = NewDataSet[[\"Q\"]]"
      ],
      "id": "thamOZKGAHkm"
    },
    {
      "cell_type": "code",
      "execution_count": null,
      "metadata": {
        "colab": {
          "base_uri": "https://localhost:8080/"
        },
        "id": "2MZaYEsNsy50",
        "outputId": "b096c390-c99a-4336-8911-9dbca307d7ef"
      },
      "outputs": [
        {
          "data": {
            "text/plain": [
              "(122712, 1)"
            ]
          },
          "execution_count": 259,
          "metadata": {},
          "output_type": "execute_result"
        }
      ],
      "source": [
        "Df_Total.shape"
      ],
      "id": "2MZaYEsNsy50"
    },
    {
      "cell_type": "code",
      "execution_count": null,
      "metadata": {
        "colab": {
          "base_uri": "https://localhost:8080/"
        },
        "id": "vFvX5xpUtJ3j",
        "outputId": "d39b8c93-9838-4c74-ecff-da0ea5d44b70"
      },
      "outputs": [
        {
          "data": {
            "text/plain": [
              "(160, 1)"
            ]
          },
          "execution_count": 260,
          "metadata": {},
          "output_type": "execute_result"
        }
      ],
      "source": [
        "inputs = Df_Total[len(Df_Total) - len(TestData) - 60:].values\n",
        "inputs.shape"
      ],
      "id": "vFvX5xpUtJ3j"
    },
    {
      "cell_type": "code",
      "execution_count": null,
      "metadata": {
        "id": "NriCFLvVtI9z"
      },
      "outputs": [],
      "source": [
        "inputs = Df_Total[len(Df_Total) - len(TestData) - 60:].values\n",
        "\n",
        "# We need to Reshape\n",
        "inputs = inputs.reshape(-1,1)\n",
        "\n",
        "# Normalize the Dataset\n",
        "inputs = sc.transform(inputs)\n",
        "\n",
        "X_test = []\n",
        "for i in range(60, 160):\n",
        "    X_test.append(inputs[i-60:i])\n",
        "    \n",
        "# Convert into Numpy Array\n",
        "X_test = np.array(X_test)\n",
        "\n",
        "# Reshape before Passing to Network\n",
        "X_test = np.reshape(X_test, (X_test.shape[0], X_test.shape[1], 1))\n",
        "\n",
        "# Pass to Model \n",
        "predicted_Q = regressor.predict(X_test)\n",
        "\n",
        "# Do inverse Transformation to get Values \n",
        "predicted_Q = sc.inverse_transform(predicted_Q)"
      ],
      "id": "NriCFLvVtI9z"
    },
    {
      "cell_type": "code",
      "execution_count": null,
      "metadata": {
        "id": "B7FJMlestcdc"
      },
      "outputs": [],
      "source": [
        "True_M3 = TestData[\"Q\"].to_list()\n",
        "Predicted_M3  = predicted_Q\n",
        "dates = TestData.index.to_list()"
      ],
      "id": "B7FJMlestcdc"
    },
    {
      "cell_type": "code",
      "execution_count": null,
      "metadata": {
        "id": "xI1_35hgtcN-"
      },
      "outputs": [],
      "source": [
        "Machine_Df = pd.DataFrame(data={\n",
        "    \"Date\":dates,\n",
        "    \"TrueM3\": True_M3,\n",
        "    \"PredictedM3\":[x[0] for x in Predicted_M3 ]\n",
        "})"
      ],
      "id": "xI1_35hgtcN-"
    },
    {
      "cell_type": "code",
      "execution_count": null,
      "metadata": {
        "colab": {
          "base_uri": "https://localhost:8080/",
          "height": 424
        },
        "id": "DHmLDpN2uq5E",
        "outputId": "08f65e5a-28ae-4419-9c4e-d707d251a402"
      },
      "outputs": [
        {
          "data": {
            "text/html": [
              "\n",
              "  <div id=\"df-c5b3641b-820f-41d8-96d1-4db4cf6b9330\">\n",
              "    <div class=\"colab-df-container\">\n",
              "      <div>\n",
              "<style scoped>\n",
              "    .dataframe tbody tr th:only-of-type {\n",
              "        vertical-align: middle;\n",
              "    }\n",
              "\n",
              "    .dataframe tbody tr th {\n",
              "        vertical-align: top;\n",
              "    }\n",
              "\n",
              "    .dataframe thead th {\n",
              "        text-align: right;\n",
              "    }\n",
              "</style>\n",
              "<table border=\"1\" class=\"dataframe\">\n",
              "  <thead>\n",
              "    <tr style=\"text-align: right;\">\n",
              "      <th></th>\n",
              "      <th>Date</th>\n",
              "      <th>TrueM3</th>\n",
              "      <th>PredictedM3</th>\n",
              "    </tr>\n",
              "  </thead>\n",
              "  <tbody>\n",
              "    <tr>\n",
              "      <th>0</th>\n",
              "      <td>2019-12-27 20:00:00</td>\n",
              "      <td>38842.4</td>\n",
              "      <td>38259.347656</td>\n",
              "    </tr>\n",
              "    <tr>\n",
              "      <th>1</th>\n",
              "      <td>2019-12-27 21:00:00</td>\n",
              "      <td>38225.3</td>\n",
              "      <td>37046.214844</td>\n",
              "    </tr>\n",
              "    <tr>\n",
              "      <th>2</th>\n",
              "      <td>2019-12-27 22:00:00</td>\n",
              "      <td>36877.4</td>\n",
              "      <td>34316.808594</td>\n",
              "    </tr>\n",
              "    <tr>\n",
              "      <th>3</th>\n",
              "      <td>2019-12-27 23:00:00</td>\n",
              "      <td>32856.5</td>\n",
              "      <td>30565.976562</td>\n",
              "    </tr>\n",
              "    <tr>\n",
              "      <th>4</th>\n",
              "      <td>2019-12-28 00:00:00</td>\n",
              "      <td>30854.9</td>\n",
              "      <td>29490.365234</td>\n",
              "    </tr>\n",
              "    <tr>\n",
              "      <th>...</th>\n",
              "      <td>...</td>\n",
              "      <td>...</td>\n",
              "      <td>...</td>\n",
              "    </tr>\n",
              "    <tr>\n",
              "      <th>95</th>\n",
              "      <td>2019-12-31 19:00:00</td>\n",
              "      <td>43434.8</td>\n",
              "      <td>43133.640625</td>\n",
              "    </tr>\n",
              "    <tr>\n",
              "      <th>96</th>\n",
              "      <td>2019-12-31 20:00:00</td>\n",
              "      <td>41943.0</td>\n",
              "      <td>42687.921875</td>\n",
              "    </tr>\n",
              "    <tr>\n",
              "      <th>97</th>\n",
              "      <td>2019-12-31 21:00:00</td>\n",
              "      <td>39574.2</td>\n",
              "      <td>40895.941406</td>\n",
              "    </tr>\n",
              "    <tr>\n",
              "      <th>98</th>\n",
              "      <td>2019-12-31 22:00:00</td>\n",
              "      <td>36841.5</td>\n",
              "      <td>37004.902344</td>\n",
              "    </tr>\n",
              "    <tr>\n",
              "      <th>99</th>\n",
              "      <td>2019-12-31 23:00:00</td>\n",
              "      <td>33227.7</td>\n",
              "      <td>31284.580078</td>\n",
              "    </tr>\n",
              "  </tbody>\n",
              "</table>\n",
              "<p>100 rows × 3 columns</p>\n",
              "</div>\n",
              "      <button class=\"colab-df-convert\" onclick=\"convertToInteractive('df-c5b3641b-820f-41d8-96d1-4db4cf6b9330')\"\n",
              "              title=\"Convert this dataframe to an interactive table.\"\n",
              "              style=\"display:none;\">\n",
              "        \n",
              "  <svg xmlns=\"http://www.w3.org/2000/svg\" height=\"24px\"viewBox=\"0 0 24 24\"\n",
              "       width=\"24px\">\n",
              "    <path d=\"M0 0h24v24H0V0z\" fill=\"none\"/>\n",
              "    <path d=\"M18.56 5.44l.94 2.06.94-2.06 2.06-.94-2.06-.94-.94-2.06-.94 2.06-2.06.94zm-11 1L8.5 8.5l.94-2.06 2.06-.94-2.06-.94L8.5 2.5l-.94 2.06-2.06.94zm10 10l.94 2.06.94-2.06 2.06-.94-2.06-.94-.94-2.06-.94 2.06-2.06.94z\"/><path d=\"M17.41 7.96l-1.37-1.37c-.4-.4-.92-.59-1.43-.59-.52 0-1.04.2-1.43.59L10.3 9.45l-7.72 7.72c-.78.78-.78 2.05 0 2.83L4 21.41c.39.39.9.59 1.41.59.51 0 1.02-.2 1.41-.59l7.78-7.78 2.81-2.81c.8-.78.8-2.07 0-2.86zM5.41 20L4 18.59l7.72-7.72 1.47 1.35L5.41 20z\"/>\n",
              "  </svg>\n",
              "      </button>\n",
              "      \n",
              "  <style>\n",
              "    .colab-df-container {\n",
              "      display:flex;\n",
              "      flex-wrap:wrap;\n",
              "      gap: 12px;\n",
              "    }\n",
              "\n",
              "    .colab-df-convert {\n",
              "      background-color: #E8F0FE;\n",
              "      border: none;\n",
              "      border-radius: 50%;\n",
              "      cursor: pointer;\n",
              "      display: none;\n",
              "      fill: #1967D2;\n",
              "      height: 32px;\n",
              "      padding: 0 0 0 0;\n",
              "      width: 32px;\n",
              "    }\n",
              "\n",
              "    .colab-df-convert:hover {\n",
              "      background-color: #E2EBFA;\n",
              "      box-shadow: 0px 1px 2px rgba(60, 64, 67, 0.3), 0px 1px 3px 1px rgba(60, 64, 67, 0.15);\n",
              "      fill: #174EA6;\n",
              "    }\n",
              "\n",
              "    [theme=dark] .colab-df-convert {\n",
              "      background-color: #3B4455;\n",
              "      fill: #D2E3FC;\n",
              "    }\n",
              "\n",
              "    [theme=dark] .colab-df-convert:hover {\n",
              "      background-color: #434B5C;\n",
              "      box-shadow: 0px 1px 3px 1px rgba(0, 0, 0, 0.15);\n",
              "      filter: drop-shadow(0px 1px 2px rgba(0, 0, 0, 0.3));\n",
              "      fill: #FFFFFF;\n",
              "    }\n",
              "  </style>\n",
              "\n",
              "      <script>\n",
              "        const buttonEl =\n",
              "          document.querySelector('#df-c5b3641b-820f-41d8-96d1-4db4cf6b9330 button.colab-df-convert');\n",
              "        buttonEl.style.display =\n",
              "          google.colab.kernel.accessAllowed ? 'block' : 'none';\n",
              "\n",
              "        async function convertToInteractive(key) {\n",
              "          const element = document.querySelector('#df-c5b3641b-820f-41d8-96d1-4db4cf6b9330');\n",
              "          const dataTable =\n",
              "            await google.colab.kernel.invokeFunction('convertToInteractive',\n",
              "                                                     [key], {});\n",
              "          if (!dataTable) return;\n",
              "\n",
              "          const docLinkHtml = 'Like what you see? Visit the ' +\n",
              "            '<a target=\"_blank\" href=https://colab.research.google.com/notebooks/data_table.ipynb>data table notebook</a>'\n",
              "            + ' to learn more about interactive tables.';\n",
              "          element.innerHTML = '';\n",
              "          dataTable['output_type'] = 'display_data';\n",
              "          await google.colab.output.renderOutput(dataTable, element);\n",
              "          const docLink = document.createElement('div');\n",
              "          docLink.innerHTML = docLinkHtml;\n",
              "          element.appendChild(docLink);\n",
              "        }\n",
              "      </script>\n",
              "    </div>\n",
              "  </div>\n",
              "  "
            ],
            "text/plain": [
              "                  Date   TrueM3   PredictedM3\n",
              "0  2019-12-27 20:00:00  38842.4  38259.347656\n",
              "1  2019-12-27 21:00:00  38225.3  37046.214844\n",
              "2  2019-12-27 22:00:00  36877.4  34316.808594\n",
              "3  2019-12-27 23:00:00  32856.5  30565.976562\n",
              "4  2019-12-28 00:00:00  30854.9  29490.365234\n",
              "..                 ...      ...           ...\n",
              "95 2019-12-31 19:00:00  43434.8  43133.640625\n",
              "96 2019-12-31 20:00:00  41943.0  42687.921875\n",
              "97 2019-12-31 21:00:00  39574.2  40895.941406\n",
              "98 2019-12-31 22:00:00  36841.5  37004.902344\n",
              "99 2019-12-31 23:00:00  33227.7  31284.580078\n",
              "\n",
              "[100 rows x 3 columns]"
            ]
          },
          "execution_count": 383,
          "metadata": {},
          "output_type": "execute_result"
        }
      ],
      "source": [
        "#Future Predicted\n",
        "Machine_Df"
      ],
      "id": "DHmLDpN2uq5E"
    },
    {
      "cell_type": "code",
      "execution_count": null,
      "metadata": {
        "colab": {
          "base_uri": "https://localhost:8080/",
          "height": 287
        },
        "id": "4OSrxkaKvFQS",
        "outputId": "f24c97bd-e79b-4c94-9985-17657cabde70"
      },
      "outputs": [
        {
          "ename": "IndexError",
          "evalue": "ignored",
          "output_type": "error",
          "traceback": [
            "\u001b[0;31m---------------------------------------------------------------------------\u001b[0m",
            "\u001b[0;31mIndexError\u001b[0m                                Traceback (most recent call last)",
            "\u001b[0;32m<ipython-input-386-639937517fc5>\u001b[0m in \u001b[0;36m<module>\u001b[0;34m()\u001b[0m\n\u001b[1;32m      1\u001b[0m \u001b[0mTrue_M3\u001b[0m \u001b[0;34m=\u001b[0m \u001b[0mTestData\u001b[0m\u001b[0;34m[\u001b[0m\u001b[0;34m\"Q\"\u001b[0m\u001b[0;34m]\u001b[0m\u001b[0;34m.\u001b[0m\u001b[0mto_list\u001b[0m\u001b[0;34m(\u001b[0m\u001b[0;34m)\u001b[0m\u001b[0;34m\u001b[0m\u001b[0;34m\u001b[0m\u001b[0m\n\u001b[0;32m----> 2\u001b[0;31m \u001b[0mPredicted_M3\u001b[0m  \u001b[0;34m=\u001b[0m \u001b[0;34m[\u001b[0m\u001b[0mx\u001b[0m\u001b[0;34m[\u001b[0m\u001b[0;36m0\u001b[0m\u001b[0;34m]\u001b[0m \u001b[0;32mfor\u001b[0m \u001b[0mx\u001b[0m \u001b[0;32min\u001b[0m \u001b[0mPredicted_M3\u001b[0m\u001b[0;34m]\u001b[0m\u001b[0;34m\u001b[0m\u001b[0;34m\u001b[0m\u001b[0m\n\u001b[0m\u001b[1;32m      3\u001b[0m \u001b[0mdates\u001b[0m \u001b[0;34m=\u001b[0m \u001b[0mTestData\u001b[0m\u001b[0;34m.\u001b[0m\u001b[0mindex\u001b[0m\u001b[0;34m.\u001b[0m\u001b[0mto_list\u001b[0m\u001b[0;34m(\u001b[0m\u001b[0;34m)\u001b[0m\u001b[0;34m\u001b[0m\u001b[0;34m\u001b[0m\u001b[0m\n",
            "\u001b[0;32m<ipython-input-386-639937517fc5>\u001b[0m in \u001b[0;36m<listcomp>\u001b[0;34m(.0)\u001b[0m\n\u001b[1;32m      1\u001b[0m \u001b[0mTrue_M3\u001b[0m \u001b[0;34m=\u001b[0m \u001b[0mTestData\u001b[0m\u001b[0;34m[\u001b[0m\u001b[0;34m\"Q\"\u001b[0m\u001b[0;34m]\u001b[0m\u001b[0;34m.\u001b[0m\u001b[0mto_list\u001b[0m\u001b[0;34m(\u001b[0m\u001b[0;34m)\u001b[0m\u001b[0;34m\u001b[0m\u001b[0;34m\u001b[0m\u001b[0m\n\u001b[0;32m----> 2\u001b[0;31m \u001b[0mPredicted_M3\u001b[0m  \u001b[0;34m=\u001b[0m \u001b[0;34m[\u001b[0m\u001b[0mx\u001b[0m\u001b[0;34m[\u001b[0m\u001b[0;36m0\u001b[0m\u001b[0;34m]\u001b[0m \u001b[0;32mfor\u001b[0m \u001b[0mx\u001b[0m \u001b[0;32min\u001b[0m \u001b[0mPredicted_M3\u001b[0m\u001b[0;34m]\u001b[0m\u001b[0;34m\u001b[0m\u001b[0;34m\u001b[0m\u001b[0m\n\u001b[0m\u001b[1;32m      3\u001b[0m \u001b[0mdates\u001b[0m \u001b[0;34m=\u001b[0m \u001b[0mTestData\u001b[0m\u001b[0;34m.\u001b[0m\u001b[0mindex\u001b[0m\u001b[0;34m.\u001b[0m\u001b[0mto_list\u001b[0m\u001b[0;34m(\u001b[0m\u001b[0;34m)\u001b[0m\u001b[0;34m\u001b[0m\u001b[0;34m\u001b[0m\u001b[0m\n",
            "\u001b[0;31mIndexError\u001b[0m: invalid index to scalar variable."
          ]
        }
      ],
      "source": [
        "True_M3 = TestData[\"Q\"].to_list()\n",
        "Predicted_M3  = [x[0] for x in Predicted_M3]\n",
        "dates = TestData.index.to_list()"
      ],
      "id": "4OSrxkaKvFQS"
    },
    {
      "cell_type": "code",
      "execution_count": null,
      "metadata": {
        "colab": {
          "base_uri": "https://localhost:8080/",
          "height": 418
        },
        "id": "zM0C0TT9vKTy",
        "outputId": "5f02c9bb-5bd0-4173-846d-c98d585ff76a"
      },
      "outputs": [
        {
          "data": {
            "text/plain": [
              "<matplotlib.legend.Legend at 0x7f0bdb30aa50>"
            ]
          },
          "execution_count": 388,
          "metadata": {},
          "output_type": "execute_result"
        },
        {
          "data": {
            "image/png": "[encoded data removed]",
            "text/plain": [
              "<Figure size 1080x432 with 1 Axes>"
            ]
          },
          "metadata": {},
          "output_type": "display_data"
        }
      ],
      "source": [
        "fig = plt.figure()\n",
        "\n",
        "ax1= fig.add_subplot(111)\n",
        "\n",
        "x = dates\n",
        "y = True_M3\n",
        "\n",
        "y1 = Predicted_M3\n",
        "\n",
        "plt.plot(x,y, color=\"green\",label = 'real')\n",
        "plt.plot(x,y1, color=\"red\",label = 'predicted')\n",
        "# beautify the x-labels\n",
        "plt.gcf().autofmt_xdate()\n",
        "plt.xlabel('Dates')\n",
        "plt.ylabel(\"Gas consumption in m3 \")\n",
        "plt.title(\"Machine Learned the Pattern Predicting Future Values \")\n",
        "plt.legend()"
      ],
      "id": "zM0C0TT9vKTy"
    },
    {
      "cell_type": "code",
      "execution_count": null,
      "metadata": {
        "id": "ZC9ZLxF5uqrb"
      },
      "outputs": [],
      "source": [],
      "id": "ZC9ZLxF5uqrb"
    },
    {
      "cell_type": "code",
      "execution_count": null,
      "metadata": {
        "id": "08b1fead"
      },
      "outputs": [],
      "source": [
        "# cleanup gas data by converting TS column to timestamp\n",
        "gas_df = pd.read_csv(gas_file).assign(TS=lambda df: pd.to_datetime(df.TS))"
      ],
      "id": "08b1fead"
    },
    {
      "cell_type": "code",
      "execution_count": null,
      "metadata": {
        "id": "6bde95ee"
      },
      "outputs": [],
      "source": [
        "# cleanup the weather data by removing empty columns and converting time to datetime objects\n",
        "weather_df = pd.read_csv(wether_file) \\\n",
        "    .assign(Time=lambda df: pd.to_datetime(df.Time)) \\\n",
        "    .drop(columns=['DD', 'N', 'WW', 'W1', 'W2', 'Cl', 'Nh', 'H', 'Cm', 'Ch', 'E', 'E1'])"
      ],
      "id": "6bde95ee"
    },
    {
      "cell_type": "code",
      "execution_count": null,
      "metadata": {
        "colab": {
          "base_uri": "https://localhost:8080/",
          "height": 407
        },
        "id": "bE41i-AMulZE",
        "outputId": "42a779f0-6b2d-46bf-b693-1f03d3619290"
      },
      "outputs": [
        {
          "data": {
            "text/html": [
              "\n",
              "  <div id=\"df-9a65fc13-6355-4c7a-ac34-b17a30e99e3a\">\n",
              "    <div class=\"colab-df-container\">\n",
              "      <div>\n",
              "<style scoped>\n",
              "    .dataframe tbody tr th:only-of-type {\n",
              "        vertical-align: middle;\n",
              "    }\n",
              "\n",
              "    .dataframe tbody tr th {\n",
              "        vertical-align: top;\n",
              "    }\n",
              "\n",
              "    .dataframe thead th {\n",
              "        text-align: right;\n",
              "    }\n",
              "</style>\n",
              "<table border=\"1\" class=\"dataframe\">\n",
              "  <thead>\n",
              "    <tr style=\"text-align: right;\">\n",
              "      <th></th>\n",
              "      <th>id</th>\n",
              "      <th>Time</th>\n",
              "      <th>T</th>\n",
              "      <th>Po</th>\n",
              "      <th>P</th>\n",
              "      <th>Pa</th>\n",
              "      <th>U</th>\n",
              "      <th>Ff</th>\n",
              "      <th>ff10</th>\n",
              "      <th>ff3</th>\n",
              "      <th>Tn</th>\n",
              "      <th>Tx</th>\n",
              "      <th>VV</th>\n",
              "      <th>Td</th>\n",
              "      <th>RRR</th>\n",
              "      <th>tR</th>\n",
              "      <th>Tg</th>\n",
              "      <th>sss</th>\n",
              "    </tr>\n",
              "  </thead>\n",
              "  <tbody>\n",
              "    <tr>\n",
              "      <th>0</th>\n",
              "      <td>2626</td>\n",
              "      <td>2006-01-01 02:00:00</td>\n",
              "      <td>-2.8</td>\n",
              "      <td>732.7</td>\n",
              "      <td>763.5</td>\n",
              "      <td>0.3</td>\n",
              "      <td>82.0</td>\n",
              "      <td>3.0</td>\n",
              "      <td>19.0</td>\n",
              "      <td>18.0</td>\n",
              "      <td>-4.550</td>\n",
              "      <td>0.6250</td>\n",
              "      <td>10.0</td>\n",
              "      <td>-5.5</td>\n",
              "      <td>1.760000</td>\n",
              "      <td>10.00000</td>\n",
              "      <td>-2.0</td>\n",
              "      <td>1.0</td>\n",
              "    </tr>\n",
              "    <tr>\n",
              "      <th>1</th>\n",
              "      <td>2627</td>\n",
              "      <td>2006-01-01 05:00:00</td>\n",
              "      <td>-4.5</td>\n",
              "      <td>733.3</td>\n",
              "      <td>764.4</td>\n",
              "      <td>0.3</td>\n",
              "      <td>86.0</td>\n",
              "      <td>2.0</td>\n",
              "      <td>19.0</td>\n",
              "      <td>18.0</td>\n",
              "      <td>-4.775</td>\n",
              "      <td>0.7375</td>\n",
              "      <td>10.0</td>\n",
              "      <td>-6.5</td>\n",
              "      <td>1.720000</td>\n",
              "      <td>9.66667</td>\n",
              "      <td>-2.0</td>\n",
              "      <td>1.0</td>\n",
              "    </tr>\n",
              "    <tr>\n",
              "      <th>2</th>\n",
              "      <td>2628</td>\n",
              "      <td>2006-01-01 08:00:00</td>\n",
              "      <td>-4.1</td>\n",
              "      <td>733.3</td>\n",
              "      <td>764.4</td>\n",
              "      <td>0.3</td>\n",
              "      <td>89.0</td>\n",
              "      <td>3.0</td>\n",
              "      <td>19.0</td>\n",
              "      <td>18.0</td>\n",
              "      <td>-5.000</td>\n",
              "      <td>0.8500</td>\n",
              "      <td>10.0</td>\n",
              "      <td>-5.7</td>\n",
              "      <td>1.680000</td>\n",
              "      <td>9.33333</td>\n",
              "      <td>-2.0</td>\n",
              "      <td>1.0</td>\n",
              "    </tr>\n",
              "    <tr>\n",
              "      <th>3</th>\n",
              "      <td>2629</td>\n",
              "      <td>2006-01-01 11:00:00</td>\n",
              "      <td>-1.8</td>\n",
              "      <td>734.4</td>\n",
              "      <td>765.3</td>\n",
              "      <td>0.3</td>\n",
              "      <td>79.0</td>\n",
              "      <td>3.0</td>\n",
              "      <td>19.0</td>\n",
              "      <td>18.0</td>\n",
              "      <td>-4.650</td>\n",
              "      <td>0.9625</td>\n",
              "      <td>10.0</td>\n",
              "      <td>-4.9</td>\n",
              "      <td>1.640000</td>\n",
              "      <td>9.00000</td>\n",
              "      <td>-2.0</td>\n",
              "      <td>1.0</td>\n",
              "    </tr>\n",
              "    <tr>\n",
              "      <th>4</th>\n",
              "      <td>2630</td>\n",
              "      <td>2006-01-01 14:00:00</td>\n",
              "      <td>1.2</td>\n",
              "      <td>733.4</td>\n",
              "      <td>763.9</td>\n",
              "      <td>0.3</td>\n",
              "      <td>74.0</td>\n",
              "      <td>3.0</td>\n",
              "      <td>19.0</td>\n",
              "      <td>18.0</td>\n",
              "      <td>-4.300</td>\n",
              "      <td>1.0750</td>\n",
              "      <td>10.0</td>\n",
              "      <td>-3.0</td>\n",
              "      <td>1.600000</td>\n",
              "      <td>8.66667</td>\n",
              "      <td>-2.0</td>\n",
              "      <td>1.0</td>\n",
              "    </tr>\n",
              "    <tr>\n",
              "      <th>5</th>\n",
              "      <td>2631</td>\n",
              "      <td>2006-01-01 17:00:00</td>\n",
              "      <td>1.0</td>\n",
              "      <td>733.6</td>\n",
              "      <td>764.0</td>\n",
              "      <td>0.3</td>\n",
              "      <td>75.0</td>\n",
              "      <td>6.0</td>\n",
              "      <td>19.0</td>\n",
              "      <td>18.0</td>\n",
              "      <td>-3.950</td>\n",
              "      <td>1.1875</td>\n",
              "      <td>10.0</td>\n",
              "      <td>-2.9</td>\n",
              "      <td>1.560000</td>\n",
              "      <td>8.33333</td>\n",
              "      <td>-2.0</td>\n",
              "      <td>1.0</td>\n",
              "    </tr>\n",
              "    <tr>\n",
              "      <th>6</th>\n",
              "      <td>2632</td>\n",
              "      <td>2006-01-01 20:00:00</td>\n",
              "      <td>-0.6</td>\n",
              "      <td>733.6</td>\n",
              "      <td>764.2</td>\n",
              "      <td>0.3</td>\n",
              "      <td>78.0</td>\n",
              "      <td>5.0</td>\n",
              "      <td>19.0</td>\n",
              "      <td>18.0</td>\n",
              "      <td>-3.600</td>\n",
              "      <td>1.3000</td>\n",
              "      <td>10.0</td>\n",
              "      <td>-4.0</td>\n",
              "      <td>1.520000</td>\n",
              "      <td>8.00000</td>\n",
              "      <td>-2.0</td>\n",
              "      <td>1.0</td>\n",
              "    </tr>\n",
              "    <tr>\n",
              "      <th>7</th>\n",
              "      <td>2633</td>\n",
              "      <td>2006-01-01 23:00:00</td>\n",
              "      <td>-1.9</td>\n",
              "      <td>733.8</td>\n",
              "      <td>764.6</td>\n",
              "      <td>0.3</td>\n",
              "      <td>81.0</td>\n",
              "      <td>5.0</td>\n",
              "      <td>19.0</td>\n",
              "      <td>18.0</td>\n",
              "      <td>-3.250</td>\n",
              "      <td>1.5500</td>\n",
              "      <td>10.0</td>\n",
              "      <td>-4.7</td>\n",
              "      <td>1.480000</td>\n",
              "      <td>7.66667</td>\n",
              "      <td>-2.0</td>\n",
              "      <td>1.0</td>\n",
              "    </tr>\n",
              "    <tr>\n",
              "      <th>8</th>\n",
              "      <td>2874</td>\n",
              "      <td>2006-01-02 02:00:00</td>\n",
              "      <td>-1.6</td>\n",
              "      <td>733.0</td>\n",
              "      <td>763.9</td>\n",
              "      <td>0.3</td>\n",
              "      <td>94.0</td>\n",
              "      <td>5.0</td>\n",
              "      <td>19.0</td>\n",
              "      <td>18.0</td>\n",
              "      <td>-3.050</td>\n",
              "      <td>-1.6500</td>\n",
              "      <td>4.0</td>\n",
              "      <td>-2.4</td>\n",
              "      <td>0.483333</td>\n",
              "      <td>6.00000</td>\n",
              "      <td>-2.0</td>\n",
              "      <td>3.0</td>\n",
              "    </tr>\n",
              "    <tr>\n",
              "      <th>9</th>\n",
              "      <td>2875</td>\n",
              "      <td>2006-01-02 05:00:00</td>\n",
              "      <td>-1.2</td>\n",
              "      <td>732.5</td>\n",
              "      <td>763.3</td>\n",
              "      <td>0.3</td>\n",
              "      <td>93.0</td>\n",
              "      <td>8.0</td>\n",
              "      <td>19.0</td>\n",
              "      <td>18.0</td>\n",
              "      <td>-2.825</td>\n",
              "      <td>-1.2750</td>\n",
              "      <td>4.0</td>\n",
              "      <td>-2.2</td>\n",
              "      <td>0.475000</td>\n",
              "      <td>9.00000</td>\n",
              "      <td>-2.0</td>\n",
              "      <td>3.0</td>\n",
              "    </tr>\n",
              "  </tbody>\n",
              "</table>\n",
              "</div>\n",
              "      <button class=\"colab-df-convert\" onclick=\"convertToInteractive('df-9a65fc13-6355-4c7a-ac34-b17a30e99e3a')\"\n",
              "              title=\"Convert this dataframe to an interactive table.\"\n",
              "              style=\"display:none;\">\n",
              "        \n",
              "  <svg xmlns=\"http://www.w3.org/2000/svg\" height=\"24px\"viewBox=\"0 0 24 24\"\n",
              "       width=\"24px\">\n",
              "    <path d=\"M0 0h24v24H0V0z\" fill=\"none\"/>\n",
              "    <path d=\"M18.56 5.44l.94 2.06.94-2.06 2.06-.94-2.06-.94-.94-2.06-.94 2.06-2.06.94zm-11 1L8.5 8.5l.94-2.06 2.06-.94-2.06-.94L8.5 2.5l-.94 2.06-2.06.94zm10 10l.94 2.06.94-2.06 2.06-.94-2.06-.94-.94-2.06-.94 2.06-2.06.94z\"/><path d=\"M17.41 7.96l-1.37-1.37c-.4-.4-.92-.59-1.43-.59-.52 0-1.04.2-1.43.59L10.3 9.45l-7.72 7.72c-.78.78-.78 2.05 0 2.83L4 21.41c.39.39.9.59 1.41.59.51 0 1.02-.2 1.41-.59l7.78-7.78 2.81-2.81c.8-.78.8-2.07 0-2.86zM5.41 20L4 18.59l7.72-7.72 1.47 1.35L5.41 20z\"/>\n",
              "  </svg>\n",
              "      </button>\n",
              "      \n",
              "  <style>\n",
              "    .colab-df-container {\n",
              "      display:flex;\n",
              "      flex-wrap:wrap;\n",
              "      gap: 12px;\n",
              "    }\n",
              "\n",
              "    .colab-df-convert {\n",
              "      background-color: #E8F0FE;\n",
              "      border: none;\n",
              "      border-radius: 50%;\n",
              "      cursor: pointer;\n",
              "      display: none;\n",
              "      fill: #1967D2;\n",
              "      height: 32px;\n",
              "      padding: 0 0 0 0;\n",
              "      width: 32px;\n",
              "    }\n",
              "\n",
              "    .colab-df-convert:hover {\n",
              "      background-color: #E2EBFA;\n",
              "      box-shadow: 0px 1px 2px rgba(60, 64, 67, 0.3), 0px 1px 3px 1px rgba(60, 64, 67, 0.15);\n",
              "      fill: #174EA6;\n",
              "    }\n",
              "\n",
              "    [theme=dark] .colab-df-convert {\n",
              "      background-color: #3B4455;\n",
              "      fill: #D2E3FC;\n",
              "    }\n",
              "\n",
              "    [theme=dark] .colab-df-convert:hover {\n",
              "      background-color: #434B5C;\n",
              "      box-shadow: 0px 1px 3px 1px rgba(0, 0, 0, 0.15);\n",
              "      filter: drop-shadow(0px 1px 2px rgba(0, 0, 0, 0.3));\n",
              "      fill: #FFFFFF;\n",
              "    }\n",
              "  </style>\n",
              "\n",
              "      <script>\n",
              "        const buttonEl =\n",
              "          document.querySelector('#df-9a65fc13-6355-4c7a-ac34-b17a30e99e3a button.colab-df-convert');\n",
              "        buttonEl.style.display =\n",
              "          google.colab.kernel.accessAllowed ? 'block' : 'none';\n",
              "\n",
              "        async function convertToInteractive(key) {\n",
              "          const element = document.querySelector('#df-9a65fc13-6355-4c7a-ac34-b17a30e99e3a');\n",
              "          const dataTable =\n",
              "            await google.colab.kernel.invokeFunction('convertToInteractive',\n",
              "                                                     [key], {});\n",
              "          if (!dataTable) return;\n",
              "\n",
              "          const docLinkHtml = 'Like what you see? Visit the ' +\n",
              "            '<a target=\"_blank\" href=https://colab.research.google.com/notebooks/data_table.ipynb>data table notebook</a>'\n",
              "            + ' to learn more about interactive tables.';\n",
              "          element.innerHTML = '';\n",
              "          dataTable['output_type'] = 'display_data';\n",
              "          await google.colab.output.renderOutput(dataTable, element);\n",
              "          const docLink = document.createElement('div');\n",
              "          docLink.innerHTML = docLinkHtml;\n",
              "          element.appendChild(docLink);\n",
              "        }\n",
              "      </script>\n",
              "    </div>\n",
              "  </div>\n",
              "  "
            ],
            "text/plain": [
              "     id                Time    T     Po      P   Pa     U   Ff  ff10   ff3  \\\n",
              "0  2626 2006-01-01 02:00:00 -2.8  732.7  763.5  0.3  82.0  3.0  19.0  18.0   \n",
              "1  2627 2006-01-01 05:00:00 -4.5  733.3  764.4  0.3  86.0  2.0  19.0  18.0   \n",
              "2  2628 2006-01-01 08:00:00 -4.1  733.3  764.4  0.3  89.0  3.0  19.0  18.0   \n",
              "3  2629 2006-01-01 11:00:00 -1.8  734.4  765.3  0.3  79.0  3.0  19.0  18.0   \n",
              "4  2630 2006-01-01 14:00:00  1.2  733.4  763.9  0.3  74.0  3.0  19.0  18.0   \n",
              "5  2631 2006-01-01 17:00:00  1.0  733.6  764.0  0.3  75.0  6.0  19.0  18.0   \n",
              "6  2632 2006-01-01 20:00:00 -0.6  733.6  764.2  0.3  78.0  5.0  19.0  18.0   \n",
              "7  2633 2006-01-01 23:00:00 -1.9  733.8  764.6  0.3  81.0  5.0  19.0  18.0   \n",
              "8  2874 2006-01-02 02:00:00 -1.6  733.0  763.9  0.3  94.0  5.0  19.0  18.0   \n",
              "9  2875 2006-01-02 05:00:00 -1.2  732.5  763.3  0.3  93.0  8.0  19.0  18.0   \n",
              "\n",
              "      Tn      Tx    VV   Td       RRR        tR   Tg  sss  \n",
              "0 -4.550  0.6250  10.0 -5.5  1.760000  10.00000 -2.0  1.0  \n",
              "1 -4.775  0.7375  10.0 -6.5  1.720000   9.66667 -2.0  1.0  \n",
              "2 -5.000  0.8500  10.0 -5.7  1.680000   9.33333 -2.0  1.0  \n",
              "3 -4.650  0.9625  10.0 -4.9  1.640000   9.00000 -2.0  1.0  \n",
              "4 -4.300  1.0750  10.0 -3.0  1.600000   8.66667 -2.0  1.0  \n",
              "5 -3.950  1.1875  10.0 -2.9  1.560000   8.33333 -2.0  1.0  \n",
              "6 -3.600  1.3000  10.0 -4.0  1.520000   8.00000 -2.0  1.0  \n",
              "7 -3.250  1.5500  10.0 -4.7  1.480000   7.66667 -2.0  1.0  \n",
              "8 -3.050 -1.6500   4.0 -2.4  0.483333   6.00000 -2.0  3.0  \n",
              "9 -2.825 -1.2750   4.0 -2.2  0.475000   9.00000 -2.0  3.0  "
            ]
          },
          "execution_count": 314,
          "metadata": {},
          "output_type": "execute_result"
        }
      ],
      "source": [
        "weather_df.head(10)"
      ],
      "id": "bE41i-AMulZE"
    },
    {
      "cell_type": "code",
      "execution_count": null,
      "metadata": {
        "colab": {
          "base_uri": "https://localhost:8080/"
        },
        "id": "Zjlslmw9qTy9",
        "outputId": "81a25a6e-7885-4cb2-c07d-0135e4f3acab"
      },
      "outputs": [
        {
          "name": "stdout",
          "output_type": "stream",
          "text": [
            "<class 'pandas.core.frame.DataFrame'>\n",
            "RangeIndex: 41052 entries, 0 to 41051\n",
            "Data columns (total 18 columns):\n",
            " #   Column  Non-Null Count  Dtype         \n",
            "---  ------  --------------  -----         \n",
            " 0   id      41052 non-null  int64         \n",
            " 1   Time    41052 non-null  datetime64[ns]\n",
            " 2   T       41052 non-null  float64       \n",
            " 3   Po      41052 non-null  float64       \n",
            " 4   P       41052 non-null  float64       \n",
            " 5   Pa      41052 non-null  float64       \n",
            " 6   U       41052 non-null  float64       \n",
            " 7   Ff      41052 non-null  float64       \n",
            " 8   ff10    41052 non-null  float64       \n",
            " 9   ff3     41052 non-null  float64       \n",
            " 10  Tn      41052 non-null  float64       \n",
            " 11  Tx      41052 non-null  float64       \n",
            " 12  VV      41052 non-null  float64       \n",
            " 13  Td      41052 non-null  float64       \n",
            " 14  RRR     41052 non-null  float64       \n",
            " 15  tR      41052 non-null  float64       \n",
            " 16  Tg      41052 non-null  float64       \n",
            " 17  sss     41052 non-null  float64       \n",
            "dtypes: datetime64[ns](1), float64(16), int64(1)\n",
            "memory usage: 5.6 MB\n"
          ]
        }
      ],
      "source": [
        "weather_df.info()"
      ],
      "id": "Zjlslmw9qTy9"
    },
    {
      "cell_type": "code",
      "execution_count": null,
      "metadata": {
        "colab": {
          "base_uri": "https://localhost:8080/"
        },
        "id": "88T0tA4cq4Jb",
        "outputId": "8622121c-ffcd-4c94-efcf-5a8122c4f0a9"
      },
      "outputs": [
        {
          "name": "stdout",
          "output_type": "stream",
          "text": [
            "<class 'pandas.core.frame.DataFrame'>\n",
            "RangeIndex: 122712 entries, 0 to 122711\n",
            "Data columns (total 3 columns):\n",
            " #   Column         Non-Null Count   Dtype         \n",
            "---  ------         --------------   -----         \n",
            " 0   TS             122712 non-null  datetime64[ns]\n",
            " 1   Q              122712 non-null  float64       \n",
            " 2   DAYOFWEEK(TS)  122712 non-null  int64         \n",
            "dtypes: datetime64[ns](1), float64(1), int64(1)\n",
            "memory usage: 2.8 MB\n"
          ]
        }
      ],
      "source": [
        "gas_df.info()"
      ],
      "id": "88T0tA4cq4Jb"
    },
    {
      "cell_type": "code",
      "execution_count": null,
      "metadata": {
        "id": "NFs4-weLHBkd"
      },
      "outputs": [],
      "source": [
        "gas_df.rename(columns = {'TS':'Time'}, inplace = True)"
      ],
      "id": "NFs4-weLHBkd"
    },
    {
      "cell_type": "code",
      "execution_count": null,
      "metadata": {
        "colab": {
          "base_uri": "https://localhost:8080/",
          "height": 206
        },
        "id": "GkrxZvSdKy6T",
        "outputId": "e094e44e-99de-484a-8a57-b83c88a415cf"
      },
      "outputs": [
        {
          "data": {
            "text/html": [
              "\n",
              "  <div id=\"df-220dd406-1c54-4364-97be-6ed933feff1b\">\n",
              "    <div class=\"colab-df-container\">\n",
              "      <div>\n",
              "<style scoped>\n",
              "    .dataframe tbody tr th:only-of-type {\n",
              "        vertical-align: middle;\n",
              "    }\n",
              "\n",
              "    .dataframe tbody tr th {\n",
              "        vertical-align: top;\n",
              "    }\n",
              "\n",
              "    .dataframe thead th {\n",
              "        text-align: right;\n",
              "    }\n",
              "</style>\n",
              "<table border=\"1\" class=\"dataframe\">\n",
              "  <thead>\n",
              "    <tr style=\"text-align: right;\">\n",
              "      <th></th>\n",
              "      <th>Time</th>\n",
              "      <th>Q</th>\n",
              "      <th>DAYOFWEEK(TS)</th>\n",
              "    </tr>\n",
              "  </thead>\n",
              "  <tbody>\n",
              "    <tr>\n",
              "      <th>0</th>\n",
              "      <td>2006-01-01 00:00:00</td>\n",
              "      <td>40518.2</td>\n",
              "      <td>1</td>\n",
              "    </tr>\n",
              "    <tr>\n",
              "      <th>1</th>\n",
              "      <td>2006-01-01 01:00:00</td>\n",
              "      <td>39043.2</td>\n",
              "      <td>1</td>\n",
              "    </tr>\n",
              "    <tr>\n",
              "      <th>2</th>\n",
              "      <td>2006-01-01 02:00:00</td>\n",
              "      <td>38551.7</td>\n",
              "      <td>1</td>\n",
              "    </tr>\n",
              "    <tr>\n",
              "      <th>3</th>\n",
              "      <td>2006-01-01 03:00:00</td>\n",
              "      <td>38284.3</td>\n",
              "      <td>1</td>\n",
              "    </tr>\n",
              "    <tr>\n",
              "      <th>4</th>\n",
              "      <td>2006-01-01 04:00:00</td>\n",
              "      <td>38545.7</td>\n",
              "      <td>1</td>\n",
              "    </tr>\n",
              "  </tbody>\n",
              "</table>\n",
              "</div>\n",
              "      <button class=\"colab-df-convert\" onclick=\"convertToInteractive('df-220dd406-1c54-4364-97be-6ed933feff1b')\"\n",
              "              title=\"Convert this dataframe to an interactive table.\"\n",
              "              style=\"display:none;\">\n",
              "        \n",
              "  <svg xmlns=\"http://www.w3.org/2000/svg\" height=\"24px\"viewBox=\"0 0 24 24\"\n",
              "       width=\"24px\">\n",
              "    <path d=\"M0 0h24v24H0V0z\" fill=\"none\"/>\n",
              "    <path d=\"M18.56 5.44l.94 2.06.94-2.06 2.06-.94-2.06-.94-.94-2.06-.94 2.06-2.06.94zm-11 1L8.5 8.5l.94-2.06 2.06-.94-2.06-.94L8.5 2.5l-.94 2.06-2.06.94zm10 10l.94 2.06.94-2.06 2.06-.94-2.06-.94-.94-2.06-.94 2.06-2.06.94z\"/><path d=\"M17.41 7.96l-1.37-1.37c-.4-.4-.92-.59-1.43-.59-.52 0-1.04.2-1.43.59L10.3 9.45l-7.72 7.72c-.78.78-.78 2.05 0 2.83L4 21.41c.39.39.9.59 1.41.59.51 0 1.02-.2 1.41-.59l7.78-7.78 2.81-2.81c.8-.78.8-2.07 0-2.86zM5.41 20L4 18.59l7.72-7.72 1.47 1.35L5.41 20z\"/>\n",
              "  </svg>\n",
              "      </button>\n",
              "      \n",
              "  <style>\n",
              "    .colab-df-container {\n",
              "      display:flex;\n",
              "      flex-wrap:wrap;\n",
              "      gap: 12px;\n",
              "    }\n",
              "\n",
              "    .colab-df-convert {\n",
              "      background-color: #E8F0FE;\n",
              "      border: none;\n",
              "      border-radius: 50%;\n",
              "      cursor: pointer;\n",
              "      display: none;\n",
              "      fill: #1967D2;\n",
              "      height: 32px;\n",
              "      padding: 0 0 0 0;\n",
              "      width: 32px;\n",
              "    }\n",
              "\n",
              "    .colab-df-convert:hover {\n",
              "      background-color: #E2EBFA;\n",
              "      box-shadow: 0px 1px 2px rgba(60, 64, 67, 0.3), 0px 1px 3px 1px rgba(60, 64, 67, 0.15);\n",
              "      fill: #174EA6;\n",
              "    }\n",
              "\n",
              "    [theme=dark] .colab-df-convert {\n",
              "      background-color: #3B4455;\n",
              "      fill: #D2E3FC;\n",
              "    }\n",
              "\n",
              "    [theme=dark] .colab-df-convert:hover {\n",
              "      background-color: #434B5C;\n",
              "      box-shadow: 0px 1px 3px 1px rgba(0, 0, 0, 0.15);\n",
              "      filter: drop-shadow(0px 1px 2px rgba(0, 0, 0, 0.3));\n",
              "      fill: #FFFFFF;\n",
              "    }\n",
              "  </style>\n",
              "\n",
              "      <script>\n",
              "        const buttonEl =\n",
              "          document.querySelector('#df-220dd406-1c54-4364-97be-6ed933feff1b button.colab-df-convert');\n",
              "        buttonEl.style.display =\n",
              "          google.colab.kernel.accessAllowed ? 'block' : 'none';\n",
              "\n",
              "        async function convertToInteractive(key) {\n",
              "          const element = document.querySelector('#df-220dd406-1c54-4364-97be-6ed933feff1b');\n",
              "          const dataTable =\n",
              "            await google.colab.kernel.invokeFunction('convertToInteractive',\n",
              "                                                     [key], {});\n",
              "          if (!dataTable) return;\n",
              "\n",
              "          const docLinkHtml = 'Like what you see? Visit the ' +\n",
              "            '<a target=\"_blank\" href=https://colab.research.google.com/notebooks/data_table.ipynb>data table notebook</a>'\n",
              "            + ' to learn more about interactive tables.';\n",
              "          element.innerHTML = '';\n",
              "          dataTable['output_type'] = 'display_data';\n",
              "          await google.colab.output.renderOutput(dataTable, element);\n",
              "          const docLink = document.createElement('div');\n",
              "          docLink.innerHTML = docLinkHtml;\n",
              "          element.appendChild(docLink);\n",
              "        }\n",
              "      </script>\n",
              "    </div>\n",
              "  </div>\n",
              "  "
            ],
            "text/plain": [
              "                 Time        Q  DAYOFWEEK(TS)\n",
              "0 2006-01-01 00:00:00  40518.2              1\n",
              "1 2006-01-01 01:00:00  39043.2              1\n",
              "2 2006-01-01 02:00:00  38551.7              1\n",
              "3 2006-01-01 03:00:00  38284.3              1\n",
              "4 2006-01-01 04:00:00  38545.7              1"
            ]
          },
          "execution_count": 318,
          "metadata": {},
          "output_type": "execute_result"
        }
      ],
      "source": [
        "gas_df.head()"
      ],
      "id": "GkrxZvSdKy6T"
    },
    {
      "cell_type": "code",
      "execution_count": null,
      "metadata": {
        "id": "Tfvez-0AKMBr"
      },
      "outputs": [],
      "source": [
        "n = gas_df['Time']"
      ],
      "id": "Tfvez-0AKMBr"
    },
    {
      "cell_type": "code",
      "execution_count": null,
      "metadata": {
        "id": "ddef51ae"
      },
      "outputs": [],
      "source": [
        "# simple merge of the dataframes \n",
        "df = pd.merge(gas_df,weather_df, on=\"Time\", how=\"outer\")"
      ],
      "id": "ddef51ae"
    },
    {
      "cell_type": "code",
      "execution_count": null,
      "metadata": {
        "colab": {
          "base_uri": "https://localhost:8080/",
          "height": 311
        },
        "id": "sahsV6JYI8hg",
        "outputId": "1190343f-87b0-44f1-897c-708931b9ef76"
      },
      "outputs": [
        {
          "ename": "KeyError",
          "evalue": "ignored",
          "output_type": "error",
          "traceback": [
            "\u001b[0;31m---------------------------------------------------------------------------\u001b[0m",
            "\u001b[0;31mKeyError\u001b[0m                                  Traceback (most recent call last)",
            "\u001b[0;32m<ipython-input-322-e68a64ab2a76>\u001b[0m in \u001b[0;36m<module>\u001b[0;34m()\u001b[0m\n\u001b[0;32m----> 1\u001b[0;31m \u001b[0mdf\u001b[0m \u001b[0;34m=\u001b[0m \u001b[0mdf\u001b[0m\u001b[0;34m.\u001b[0m\u001b[0mdrop\u001b[0m\u001b[0;34m(\u001b[0m\u001b[0;34m'Time'\u001b[0m\u001b[0;34m,\u001b[0m \u001b[0maxis\u001b[0m \u001b[0;34m=\u001b[0m \u001b[0;36m1\u001b[0m\u001b[0;34m)\u001b[0m\u001b[0;34m\u001b[0m\u001b[0;34m\u001b[0m\u001b[0m\n\u001b[0m",
            "\u001b[0;32m/usr/local/lib/python3.7/dist-packages/pandas/util/_decorators.py\u001b[0m in \u001b[0;36mwrapper\u001b[0;34m(*args, **kwargs)\u001b[0m\n\u001b[1;32m    309\u001b[0m                     \u001b[0mstacklevel\u001b[0m\u001b[0;34m=\u001b[0m\u001b[0mstacklevel\u001b[0m\u001b[0;34m,\u001b[0m\u001b[0;34m\u001b[0m\u001b[0;34m\u001b[0m\u001b[0m\n\u001b[1;32m    310\u001b[0m                 )\n\u001b[0;32m--> 311\u001b[0;31m             \u001b[0;32mreturn\u001b[0m \u001b[0mfunc\u001b[0m\u001b[0;34m(\u001b[0m\u001b[0;34m*\u001b[0m\u001b[0margs\u001b[0m\u001b[0;34m,\u001b[0m \u001b[0;34m**\u001b[0m\u001b[0mkwargs\u001b[0m\u001b[0;34m)\u001b[0m\u001b[0;34m\u001b[0m\u001b[0;34m\u001b[0m\u001b[0m\n\u001b[0m\u001b[1;32m    312\u001b[0m \u001b[0;34m\u001b[0m\u001b[0m\n\u001b[1;32m    313\u001b[0m         \u001b[0;32mreturn\u001b[0m \u001b[0mwrapper\u001b[0m\u001b[0;34m\u001b[0m\u001b[0;34m\u001b[0m\u001b[0m\n",
            "\u001b[0;32m/usr/local/lib/python3.7/dist-packages/pandas/core/frame.py\u001b[0m in \u001b[0;36mdrop\u001b[0;34m(self, labels, axis, index, columns, level, inplace, errors)\u001b[0m\n\u001b[1;32m   4911\u001b[0m             \u001b[0mlevel\u001b[0m\u001b[0;34m=\u001b[0m\u001b[0mlevel\u001b[0m\u001b[0;34m,\u001b[0m\u001b[0;34m\u001b[0m\u001b[0;34m\u001b[0m\u001b[0m\n\u001b[1;32m   4912\u001b[0m             \u001b[0minplace\u001b[0m\u001b[0;34m=\u001b[0m\u001b[0minplace\u001b[0m\u001b[0;34m,\u001b[0m\u001b[0;34m\u001b[0m\u001b[0;34m\u001b[0m\u001b[0m\n\u001b[0;32m-> 4913\u001b[0;31m             \u001b[0merrors\u001b[0m\u001b[0;34m=\u001b[0m\u001b[0merrors\u001b[0m\u001b[0;34m,\u001b[0m\u001b[0;34m\u001b[0m\u001b[0;34m\u001b[0m\u001b[0m\n\u001b[0m\u001b[1;32m   4914\u001b[0m         )\n\u001b[1;32m   4915\u001b[0m \u001b[0;34m\u001b[0m\u001b[0m\n",
            "\u001b[0;32m/usr/local/lib/python3.7/dist-packages/pandas/core/generic.py\u001b[0m in \u001b[0;36mdrop\u001b[0;34m(self, labels, axis, index, columns, level, inplace, errors)\u001b[0m\n\u001b[1;32m   4148\u001b[0m         \u001b[0;32mfor\u001b[0m \u001b[0maxis\u001b[0m\u001b[0;34m,\u001b[0m \u001b[0mlabels\u001b[0m \u001b[0;32min\u001b[0m \u001b[0maxes\u001b[0m\u001b[0;34m.\u001b[0m\u001b[0mitems\u001b[0m\u001b[0;34m(\u001b[0m\u001b[0;34m)\u001b[0m\u001b[0;34m:\u001b[0m\u001b[0;34m\u001b[0m\u001b[0;34m\u001b[0m\u001b[0m\n\u001b[1;32m   4149\u001b[0m             \u001b[0;32mif\u001b[0m \u001b[0mlabels\u001b[0m \u001b[0;32mis\u001b[0m \u001b[0;32mnot\u001b[0m \u001b[0;32mNone\u001b[0m\u001b[0;34m:\u001b[0m\u001b[0;34m\u001b[0m\u001b[0;34m\u001b[0m\u001b[0m\n\u001b[0;32m-> 4150\u001b[0;31m                 \u001b[0mobj\u001b[0m \u001b[0;34m=\u001b[0m \u001b[0mobj\u001b[0m\u001b[0;34m.\u001b[0m\u001b[0m_drop_axis\u001b[0m\u001b[0;34m(\u001b[0m\u001b[0mlabels\u001b[0m\u001b[0;34m,\u001b[0m \u001b[0maxis\u001b[0m\u001b[0;34m,\u001b[0m \u001b[0mlevel\u001b[0m\u001b[0;34m=\u001b[0m\u001b[0mlevel\u001b[0m\u001b[0;34m,\u001b[0m \u001b[0merrors\u001b[0m\u001b[0;34m=\u001b[0m\u001b[0merrors\u001b[0m\u001b[0;34m)\u001b[0m\u001b[0;34m\u001b[0m\u001b[0;34m\u001b[0m\u001b[0m\n\u001b[0m\u001b[1;32m   4151\u001b[0m \u001b[0;34m\u001b[0m\u001b[0m\n\u001b[1;32m   4152\u001b[0m         \u001b[0;32mif\u001b[0m \u001b[0minplace\u001b[0m\u001b[0;34m:\u001b[0m\u001b[0;34m\u001b[0m\u001b[0;34m\u001b[0m\u001b[0m\n",
            "\u001b[0;32m/usr/local/lib/python3.7/dist-packages/pandas/core/generic.py\u001b[0m in \u001b[0;36m_drop_axis\u001b[0;34m(self, labels, axis, level, errors)\u001b[0m\n\u001b[1;32m   4183\u001b[0m                 \u001b[0mnew_axis\u001b[0m \u001b[0;34m=\u001b[0m \u001b[0maxis\u001b[0m\u001b[0;34m.\u001b[0m\u001b[0mdrop\u001b[0m\u001b[0;34m(\u001b[0m\u001b[0mlabels\u001b[0m\u001b[0;34m,\u001b[0m \u001b[0mlevel\u001b[0m\u001b[0;34m=\u001b[0m\u001b[0mlevel\u001b[0m\u001b[0;34m,\u001b[0m \u001b[0merrors\u001b[0m\u001b[0;34m=\u001b[0m\u001b[0merrors\u001b[0m\u001b[0;34m)\u001b[0m\u001b[0;34m\u001b[0m\u001b[0;34m\u001b[0m\u001b[0m\n\u001b[1;32m   4184\u001b[0m             \u001b[0;32melse\u001b[0m\u001b[0;34m:\u001b[0m\u001b[0;34m\u001b[0m\u001b[0;34m\u001b[0m\u001b[0m\n\u001b[0;32m-> 4185\u001b[0;31m                 \u001b[0mnew_axis\u001b[0m \u001b[0;34m=\u001b[0m \u001b[0maxis\u001b[0m\u001b[0;34m.\u001b[0m\u001b[0mdrop\u001b[0m\u001b[0;34m(\u001b[0m\u001b[0mlabels\u001b[0m\u001b[0;34m,\u001b[0m \u001b[0merrors\u001b[0m\u001b[0;34m=\u001b[0m\u001b[0merrors\u001b[0m\u001b[0;34m)\u001b[0m\u001b[0;34m\u001b[0m\u001b[0;34m\u001b[0m\u001b[0m\n\u001b[0m\u001b[1;32m   4186\u001b[0m             \u001b[0mresult\u001b[0m \u001b[0;34m=\u001b[0m \u001b[0mself\u001b[0m\u001b[0;34m.\u001b[0m\u001b[0mreindex\u001b[0m\u001b[0;34m(\u001b[0m\u001b[0;34m**\u001b[0m\u001b[0;34m{\u001b[0m\u001b[0maxis_name\u001b[0m\u001b[0;34m:\u001b[0m \u001b[0mnew_axis\u001b[0m\u001b[0;34m}\u001b[0m\u001b[0;34m)\u001b[0m\u001b[0;34m\u001b[0m\u001b[0;34m\u001b[0m\u001b[0m\n\u001b[1;32m   4187\u001b[0m \u001b[0;34m\u001b[0m\u001b[0m\n",
            "\u001b[0;32m/usr/local/lib/python3.7/dist-packages/pandas/core/indexes/base.py\u001b[0m in \u001b[0;36mdrop\u001b[0;34m(self, labels, errors)\u001b[0m\n\u001b[1;32m   6015\u001b[0m         \u001b[0;32mif\u001b[0m \u001b[0mmask\u001b[0m\u001b[0;34m.\u001b[0m\u001b[0many\u001b[0m\u001b[0;34m(\u001b[0m\u001b[0;34m)\u001b[0m\u001b[0;34m:\u001b[0m\u001b[0;34m\u001b[0m\u001b[0;34m\u001b[0m\u001b[0m\n\u001b[1;32m   6016\u001b[0m             \u001b[0;32mif\u001b[0m \u001b[0merrors\u001b[0m \u001b[0;34m!=\u001b[0m \u001b[0;34m\"ignore\"\u001b[0m\u001b[0;34m:\u001b[0m\u001b[0;34m\u001b[0m\u001b[0;34m\u001b[0m\u001b[0m\n\u001b[0;32m-> 6017\u001b[0;31m                 \u001b[0;32mraise\u001b[0m \u001b[0mKeyError\u001b[0m\u001b[0;34m(\u001b[0m\u001b[0;34mf\"{labels[mask]} not found in axis\"\u001b[0m\u001b[0;34m)\u001b[0m\u001b[0;34m\u001b[0m\u001b[0;34m\u001b[0m\u001b[0m\n\u001b[0m\u001b[1;32m   6018\u001b[0m             \u001b[0mindexer\u001b[0m \u001b[0;34m=\u001b[0m \u001b[0mindexer\u001b[0m\u001b[0;34m[\u001b[0m\u001b[0;34m~\u001b[0m\u001b[0mmask\u001b[0m\u001b[0;34m]\u001b[0m\u001b[0;34m\u001b[0m\u001b[0;34m\u001b[0m\u001b[0m\n\u001b[1;32m   6019\u001b[0m         \u001b[0;32mreturn\u001b[0m \u001b[0mself\u001b[0m\u001b[0;34m.\u001b[0m\u001b[0mdelete\u001b[0m\u001b[0;34m(\u001b[0m\u001b[0mindexer\u001b[0m\u001b[0;34m)\u001b[0m\u001b[0;34m\u001b[0m\u001b[0;34m\u001b[0m\u001b[0m\n",
            "\u001b[0;31mKeyError\u001b[0m: \"['Time'] not found in axis\""
          ]
        }
      ],
      "source": [
        "df = df.drop('Time', axis = 1)"
      ],
      "id": "sahsV6JYI8hg"
    },
    {
      "cell_type": "code",
      "execution_count": null,
      "metadata": {
        "id": "UHRUQ56KI6Z9"
      },
      "outputs": [],
      "source": [
        "df = df.interpolate(method ='linear', limit_direction ='backward', axis = 0)"
      ],
      "id": "UHRUQ56KI6Z9"
    },
    {
      "cell_type": "code",
      "execution_count": null,
      "metadata": {
        "id": "2qXGv3bvIE4Y"
      },
      "outputs": [],
      "source": [
        "df['Time'] = n"
      ],
      "id": "2qXGv3bvIE4Y"
    },
    {
      "cell_type": "code",
      "execution_count": null,
      "metadata": {
        "id": "39odwDxcJzVi"
      },
      "outputs": [],
      "source": [
        "df = pd.merge(n,df, on=\"Time\", how=\"inner\")"
      ],
      "id": "39odwDxcJzVi"
    },
    {
      "cell_type": "code",
      "execution_count": null,
      "metadata": {
        "id": "KItfydxAMBUn"
      },
      "outputs": [],
      "source": [
        "df = df.dropna()"
      ],
      "id": "KItfydxAMBUn"
    },
    {
      "cell_type": "code",
      "execution_count": null,
      "metadata": {
        "id": "c21549da"
      },
      "outputs": [],
      "source": [
        "9# convert time to seconds since epoch and fill missing values with zeroes\n",
        "# TODO: check number of missing values beforehand\n",
        "# TODO: use better strategy to fill missing values\n",
        "data = df.assign(timestamp=lambda df: df.Time.apply(lambda t: t.timestamp())).fillna(0).drop(columns=[\"Time\"])"
      ],
      "id": "c21549da"
    },
    {
      "cell_type": "code",
      "execution_count": null,
      "metadata": {
        "colab": {
          "base_uri": "https://localhost:8080/"
        },
        "id": "c288fce2",
        "outputId": "46fa8713-bc2a-48a5-c9eb-c9f8ef2217d7"
      },
      "outputs": [
        {
          "name": "stdout",
          "output_type": "stream",
          "text": [
            "<class 'pandas.core.frame.DataFrame'>\n",
            "Int64Index: 122712 entries, 0 to 122711\n",
            "Data columns (total 20 columns):\n",
            " #   Column         Non-Null Count   Dtype  \n",
            "---  ------         --------------   -----  \n",
            " 0   Q              122712 non-null  float64\n",
            " 1   DAYOFWEEK(TS)  122712 non-null  float64\n",
            " 2   id             122712 non-null  float64\n",
            " 3   T              122712 non-null  float64\n",
            " 4   Po             122712 non-null  float64\n",
            " 5   P              122712 non-null  float64\n",
            " 6   Pa             122712 non-null  float64\n",
            " 7   U              122712 non-null  float64\n",
            " 8   Ff             122712 non-null  float64\n",
            " 9   ff10           122712 non-null  float64\n",
            " 10  ff3            122712 non-null  float64\n",
            " 11  Tn             122712 non-null  float64\n",
            " 12  Tx             122712 non-null  float64\n",
            " 13  VV             122712 non-null  float64\n",
            " 14  Td             122712 non-null  float64\n",
            " 15  RRR            122712 non-null  float64\n",
            " 16  tR             122712 non-null  float64\n",
            " 17  Tg             122712 non-null  float64\n",
            " 18  sss            122712 non-null  float64\n",
            " 19  timestamp      122712 non-null  float64\n",
            "dtypes: float64(20)\n",
            "memory usage: 19.7 MB\n"
          ]
        }
      ],
      "source": [
        "\n",
        "data.info()"
      ],
      "id": "c288fce2"
    },
    {
      "cell_type": "code",
      "execution_count": null,
      "metadata": {
        "colab": {
          "base_uri": "https://localhost:8080/",
          "height": 270
        },
        "id": "F9yW7qqZm1hB",
        "outputId": "37a2eec4-1f90-4abf-a49c-c6ddbf4e98c7"
      },
      "outputs": [
        {
          "data": {
            "text/html": [
              "\n",
              "  <div id=\"df-827bd982-0ba7-41b9-9bf3-4b525d2d42a2\">\n",
              "    <div class=\"colab-df-container\">\n",
              "      <div>\n",
              "<style scoped>\n",
              "    .dataframe tbody tr th:only-of-type {\n",
              "        vertical-align: middle;\n",
              "    }\n",
              "\n",
              "    .dataframe tbody tr th {\n",
              "        vertical-align: top;\n",
              "    }\n",
              "\n",
              "    .dataframe thead th {\n",
              "        text-align: right;\n",
              "    }\n",
              "</style>\n",
              "<table border=\"1\" class=\"dataframe\">\n",
              "  <thead>\n",
              "    <tr style=\"text-align: right;\">\n",
              "      <th></th>\n",
              "      <th>Q</th>\n",
              "      <th>DAYOFWEEK(TS)</th>\n",
              "      <th>id</th>\n",
              "      <th>T</th>\n",
              "      <th>Po</th>\n",
              "      <th>P</th>\n",
              "      <th>Pa</th>\n",
              "      <th>U</th>\n",
              "      <th>Ff</th>\n",
              "      <th>ff10</th>\n",
              "      <th>ff3</th>\n",
              "      <th>Tn</th>\n",
              "      <th>Tx</th>\n",
              "      <th>VV</th>\n",
              "      <th>Td</th>\n",
              "      <th>RRR</th>\n",
              "      <th>tR</th>\n",
              "      <th>Tg</th>\n",
              "      <th>sss</th>\n",
              "      <th>timestamp</th>\n",
              "    </tr>\n",
              "  </thead>\n",
              "  <tbody>\n",
              "    <tr>\n",
              "      <th>122707</th>\n",
              "      <td>28844.6</td>\n",
              "      <td>4.0</td>\n",
              "      <td>43567.333333</td>\n",
              "      <td>2.166667</td>\n",
              "      <td>733.700000</td>\n",
              "      <td>764.000000</td>\n",
              "      <td>0.033333</td>\n",
              "      <td>93.0</td>\n",
              "      <td>3.000000</td>\n",
              "      <td>18.0</td>\n",
              "      <td>22.297633</td>\n",
              "      <td>1.700000</td>\n",
              "      <td>11.858333</td>\n",
              "      <td>10.0</td>\n",
              "      <td>1.166667</td>\n",
              "      <td>1.0</td>\n",
              "      <td>12.0</td>\n",
              "      <td>-3.0</td>\n",
              "      <td>2.0</td>\n",
              "      <td>1.577819e+09</td>\n",
              "    </tr>\n",
              "    <tr>\n",
              "      <th>122708</th>\n",
              "      <td>29502.1</td>\n",
              "      <td>4.0</td>\n",
              "      <td>43567.666667</td>\n",
              "      <td>2.233333</td>\n",
              "      <td>733.800000</td>\n",
              "      <td>764.100000</td>\n",
              "      <td>0.166667</td>\n",
              "      <td>93.0</td>\n",
              "      <td>2.000000</td>\n",
              "      <td>18.0</td>\n",
              "      <td>22.302867</td>\n",
              "      <td>1.750000</td>\n",
              "      <td>11.804167</td>\n",
              "      <td>10.0</td>\n",
              "      <td>1.233333</td>\n",
              "      <td>1.0</td>\n",
              "      <td>12.0</td>\n",
              "      <td>-3.0</td>\n",
              "      <td>2.0</td>\n",
              "      <td>1.577822e+09</td>\n",
              "    </tr>\n",
              "    <tr>\n",
              "      <th>122709</th>\n",
              "      <td>30441.7</td>\n",
              "      <td>4.0</td>\n",
              "      <td>43568.000000</td>\n",
              "      <td>2.300000</td>\n",
              "      <td>733.900000</td>\n",
              "      <td>764.200000</td>\n",
              "      <td>0.300000</td>\n",
              "      <td>93.0</td>\n",
              "      <td>1.000000</td>\n",
              "      <td>18.0</td>\n",
              "      <td>22.308100</td>\n",
              "      <td>1.800000</td>\n",
              "      <td>11.750000</td>\n",
              "      <td>10.0</td>\n",
              "      <td>1.300000</td>\n",
              "      <td>1.0</td>\n",
              "      <td>12.0</td>\n",
              "      <td>-3.0</td>\n",
              "      <td>2.0</td>\n",
              "      <td>1.577826e+09</td>\n",
              "    </tr>\n",
              "    <tr>\n",
              "      <th>122710</th>\n",
              "      <td>28379.4</td>\n",
              "      <td>4.0</td>\n",
              "      <td>43568.333333</td>\n",
              "      <td>3.466667</td>\n",
              "      <td>734.166667</td>\n",
              "      <td>764.333333</td>\n",
              "      <td>0.466667</td>\n",
              "      <td>92.0</td>\n",
              "      <td>0.666667</td>\n",
              "      <td>18.0</td>\n",
              "      <td>22.313333</td>\n",
              "      <td>1.733333</td>\n",
              "      <td>11.695833</td>\n",
              "      <td>10.0</td>\n",
              "      <td>2.266667</td>\n",
              "      <td>1.0</td>\n",
              "      <td>12.0</td>\n",
              "      <td>-3.0</td>\n",
              "      <td>2.0</td>\n",
              "      <td>1.577830e+09</td>\n",
              "    </tr>\n",
              "    <tr>\n",
              "      <th>122711</th>\n",
              "      <td>21092.4</td>\n",
              "      <td>4.0</td>\n",
              "      <td>43568.666667</td>\n",
              "      <td>4.633333</td>\n",
              "      <td>734.433333</td>\n",
              "      <td>764.466667</td>\n",
              "      <td>0.633333</td>\n",
              "      <td>91.0</td>\n",
              "      <td>0.333333</td>\n",
              "      <td>18.0</td>\n",
              "      <td>22.318567</td>\n",
              "      <td>1.666667</td>\n",
              "      <td>11.641667</td>\n",
              "      <td>10.0</td>\n",
              "      <td>3.233333</td>\n",
              "      <td>1.0</td>\n",
              "      <td>12.0</td>\n",
              "      <td>-3.0</td>\n",
              "      <td>2.0</td>\n",
              "      <td>1.577833e+09</td>\n",
              "    </tr>\n",
              "  </tbody>\n",
              "</table>\n",
              "</div>\n",
              "      <button class=\"colab-df-convert\" onclick=\"convertToInteractive('df-827bd982-0ba7-41b9-9bf3-4b525d2d42a2')\"\n",
              "              title=\"Convert this dataframe to an interactive table.\"\n",
              "              style=\"display:none;\">\n",
              "        \n",
              "  <svg xmlns=\"http://www.w3.org/2000/svg\" height=\"24px\"viewBox=\"0 0 24 24\"\n",
              "       width=\"24px\">\n",
              "    <path d=\"M0 0h24v24H0V0z\" fill=\"none\"/>\n",
              "    <path d=\"M18.56 5.44l.94 2.06.94-2.06 2.06-.94-2.06-.94-.94-2.06-.94 2.06-2.06.94zm-11 1L8.5 8.5l.94-2.06 2.06-.94-2.06-.94L8.5 2.5l-.94 2.06-2.06.94zm10 10l.94 2.06.94-2.06 2.06-.94-2.06-.94-.94-2.06-.94 2.06-2.06.94z\"/><path d=\"M17.41 7.96l-1.37-1.37c-.4-.4-.92-.59-1.43-.59-.52 0-1.04.2-1.43.59L10.3 9.45l-7.72 7.72c-.78.78-.78 2.05 0 2.83L4 21.41c.39.39.9.59 1.41.59.51 0 1.02-.2 1.41-.59l7.78-7.78 2.81-2.81c.8-.78.8-2.07 0-2.86zM5.41 20L4 18.59l7.72-7.72 1.47 1.35L5.41 20z\"/>\n",
              "  </svg>\n",
              "      </button>\n",
              "      \n",
              "  <style>\n",
              "    .colab-df-container {\n",
              "      display:flex;\n",
              "      flex-wrap:wrap;\n",
              "      gap: 12px;\n",
              "    }\n",
              "\n",
              "    .colab-df-convert {\n",
              "      background-color: #E8F0FE;\n",
              "      border: none;\n",
              "      border-radius: 50%;\n",
              "      cursor: pointer;\n",
              "      display: none;\n",
              "      fill: #1967D2;\n",
              "      height: 32px;\n",
              "      padding: 0 0 0 0;\n",
              "      width: 32px;\n",
              "    }\n",
              "\n",
              "    .colab-df-convert:hover {\n",
              "      background-color: #E2EBFA;\n",
              "      box-shadow: 0px 1px 2px rgba(60, 64, 67, 0.3), 0px 1px 3px 1px rgba(60, 64, 67, 0.15);\n",
              "      fill: #174EA6;\n",
              "    }\n",
              "\n",
              "    [theme=dark] .colab-df-convert {\n",
              "      background-color: #3B4455;\n",
              "      fill: #D2E3FC;\n",
              "    }\n",
              "\n",
              "    [theme=dark] .colab-df-convert:hover {\n",
              "      background-color: #434B5C;\n",
              "      box-shadow: 0px 1px 3px 1px rgba(0, 0, 0, 0.15);\n",
              "      filter: drop-shadow(0px 1px 2px rgba(0, 0, 0, 0.3));\n",
              "      fill: #FFFFFF;\n",
              "    }\n",
              "  </style>\n",
              "\n",
              "      <script>\n",
              "        const buttonEl =\n",
              "          document.querySelector('#df-827bd982-0ba7-41b9-9bf3-4b525d2d42a2 button.colab-df-convert');\n",
              "        buttonEl.style.display =\n",
              "          google.colab.kernel.accessAllowed ? 'block' : 'none';\n",
              "\n",
              "        async function convertToInteractive(key) {\n",
              "          const element = document.querySelector('#df-827bd982-0ba7-41b9-9bf3-4b525d2d42a2');\n",
              "          const dataTable =\n",
              "            await google.colab.kernel.invokeFunction('convertToInteractive',\n",
              "                                                     [key], {});\n",
              "          if (!dataTable) return;\n",
              "\n",
              "          const docLinkHtml = 'Like what you see? Visit the ' +\n",
              "            '<a target=\"_blank\" href=https://colab.research.google.com/notebooks/data_table.ipynb>data table notebook</a>'\n",
              "            + ' to learn more about interactive tables.';\n",
              "          element.innerHTML = '';\n",
              "          dataTable['output_type'] = 'display_data';\n",
              "          await google.colab.output.renderOutput(dataTable, element);\n",
              "          const docLink = document.createElement('div');\n",
              "          docLink.innerHTML = docLinkHtml;\n",
              "          element.appendChild(docLink);\n",
              "        }\n",
              "      </script>\n",
              "    </div>\n",
              "  </div>\n",
              "  "
            ],
            "text/plain": [
              "              Q  DAYOFWEEK(TS)            id         T          Po  \\\n",
              "122707  28844.6            4.0  43567.333333  2.166667  733.700000   \n",
              "122708  29502.1            4.0  43567.666667  2.233333  733.800000   \n",
              "122709  30441.7            4.0  43568.000000  2.300000  733.900000   \n",
              "122710  28379.4            4.0  43568.333333  3.466667  734.166667   \n",
              "122711  21092.4            4.0  43568.666667  4.633333  734.433333   \n",
              "\n",
              "                 P        Pa     U        Ff  ff10        ff3        Tn  \\\n",
              "122707  764.000000  0.033333  93.0  3.000000  18.0  22.297633  1.700000   \n",
              "122708  764.100000  0.166667  93.0  2.000000  18.0  22.302867  1.750000   \n",
              "122709  764.200000  0.300000  93.0  1.000000  18.0  22.308100  1.800000   \n",
              "122710  764.333333  0.466667  92.0  0.666667  18.0  22.313333  1.733333   \n",
              "122711  764.466667  0.633333  91.0  0.333333  18.0  22.318567  1.666667   \n",
              "\n",
              "               Tx    VV        Td  RRR    tR   Tg  sss     timestamp  \n",
              "122707  11.858333  10.0  1.166667  1.0  12.0 -3.0  2.0  1.577819e+09  \n",
              "122708  11.804167  10.0  1.233333  1.0  12.0 -3.0  2.0  1.577822e+09  \n",
              "122709  11.750000  10.0  1.300000  1.0  12.0 -3.0  2.0  1.577826e+09  \n",
              "122710  11.695833  10.0  2.266667  1.0  12.0 -3.0  2.0  1.577830e+09  \n",
              "122711  11.641667  10.0  3.233333  1.0  12.0 -3.0  2.0  1.577833e+09  "
            ]
          },
          "execution_count": 329,
          "metadata": {},
          "output_type": "execute_result"
        }
      ],
      "source": [
        "data.tail()"
      ],
      "id": "F9yW7qqZm1hB"
    },
    {
      "cell_type": "code",
      "execution_count": null,
      "metadata": {
        "id": "58f9baa6"
      },
      "outputs": [],
      "source": [],
      "id": "58f9baa6"
    },
    {
      "cell_type": "code",
      "execution_count": null,
      "metadata": {
        "id": "46a94925"
      },
      "outputs": [],
      "source": [
        "data = data.drop(columns = ['timestamp','DAYOFWEEK(TS)','id'])"
      ],
      "id": "46a94925"
    },
    {
      "cell_type": "code",
      "execution_count": null,
      "metadata": {
        "id": "3c7a64ab"
      },
      "outputs": [],
      "source": [],
      "id": "3c7a64ab"
    },
    {
      "cell_type": "code",
      "execution_count": null,
      "metadata": {
        "colab": {
          "base_uri": "https://localhost:8080/"
        },
        "id": "lE0SQIHi0SXU",
        "outputId": "b13f8b9e-2404-481e-f4c4-8bf467aeca47"
      },
      "outputs": [
        {
          "name": "stdout",
          "output_type": "stream",
          "text": [
            "==================================================\n",
            "First Five Rows  \n",
            "\n",
            "                 Time        Q  DAYOFWEEK(TS)\n",
            "0 2006-01-01 00:00:00  40518.2              1\n",
            "1 2006-01-01 01:00:00  39043.2              1 \n",
            "\n",
            "==================================================\n",
            "Information About Dataset \n",
            "\n",
            "<class 'pandas.core.frame.DataFrame'>\n",
            "RangeIndex: 122712 entries, 0 to 122711\n",
            "Data columns (total 3 columns):\n",
            " #   Column         Non-Null Count   Dtype         \n",
            "---  ------         --------------   -----         \n",
            " 0   Time           122712 non-null  datetime64[ns]\n",
            " 1   Q              122712 non-null  float64       \n",
            " 2   DAYOFWEEK(TS)  122712 non-null  int64         \n",
            "dtypes: datetime64[ns](1), float64(1), int64(1)\n",
            "memory usage: 2.8 MB\n",
            "None \n",
            "\n",
            "==================================================\n",
            "Describe the Dataset  \n",
            "\n",
            "                   Q  DAYOFWEEK(TS)\n",
            "count  122712.000000  122712.000000\n",
            "mean    23260.283053       3.998827\n",
            "std     18292.398895       2.000106\n",
            "min       319.134000       1.000000\n",
            "25%      7868.097500       2.000000\n",
            "50%     15041.100000       4.000000\n",
            "75%     38186.100000       6.000000\n",
            "max    119741.500000       7.000000 \n",
            "\n",
            "==================================================\n",
            "Null Values t  \n",
            "\n",
            "Time             0\n",
            "Q                0\n",
            "DAYOFWEEK(TS)    0\n",
            "dtype: int64 \n",
            "\n"
          ]
        }
      ],
      "source": [
        "# output basic information about gas consumption dataset \n",
        "print(\"=\"*50)\n",
        "print(\"First Five Rows \",\"\\n\")\n",
        "print(gas_df.head(2),\"\\n\")\n",
        "\n",
        "print(\"=\"*50)\n",
        "print(\"Information About Dataset\",\"\\n\")\n",
        "print(gas_df.info(),\"\\n\")\n",
        "\n",
        "print(\"=\"*50)\n",
        "print(\"Describe the Dataset \",\"\\n\")\n",
        "print(gas_df.describe(),\"\\n\")\n",
        "\n",
        "print(\"=\"*50)\n",
        "print(\"Null Values t \",\"\\n\")\n",
        "print(gas_df.isnull().sum(),\"\\n\")"
      ],
      "id": "lE0SQIHi0SXU"
    },
    {
      "cell_type": "code",
      "execution_count": null,
      "metadata": {
        "colab": {
          "base_uri": "https://localhost:8080/",
          "height": 646
        },
        "id": "FHPwHcwp1AmV",
        "outputId": "344031b6-d5f4-4251-89d0-17692caa6cf7"
      },
      "outputs": [
        {
          "data": {
            "text/html": [
              "\n",
              "  <div id=\"df-ee38f741-7f3a-4c06-9a34-d0bd7c5c403f\">\n",
              "    <div class=\"colab-df-container\">\n",
              "      <div>\n",
              "<style scoped>\n",
              "    .dataframe tbody tr th:only-of-type {\n",
              "        vertical-align: middle;\n",
              "    }\n",
              "\n",
              "    .dataframe tbody tr th {\n",
              "        vertical-align: top;\n",
              "    }\n",
              "\n",
              "    .dataframe thead th {\n",
              "        text-align: right;\n",
              "    }\n",
              "</style>\n",
              "<table border=\"1\" class=\"dataframe\">\n",
              "  <thead>\n",
              "    <tr style=\"text-align: right;\">\n",
              "      <th></th>\n",
              "      <th>Q</th>\n",
              "      <th>T</th>\n",
              "      <th>Po</th>\n",
              "      <th>P</th>\n",
              "      <th>Pa</th>\n",
              "      <th>U</th>\n",
              "      <th>Ff</th>\n",
              "      <th>ff10</th>\n",
              "      <th>ff3</th>\n",
              "      <th>Tn</th>\n",
              "      <th>Tx</th>\n",
              "      <th>VV</th>\n",
              "      <th>Td</th>\n",
              "      <th>RRR</th>\n",
              "      <th>tR</th>\n",
              "      <th>Tg</th>\n",
              "      <th>sss</th>\n",
              "    </tr>\n",
              "  </thead>\n",
              "  <tbody>\n",
              "    <tr>\n",
              "      <th>Q</th>\n",
              "      <td>1.000000</td>\n",
              "      <td>-0.503515</td>\n",
              "      <td>0.056579</td>\n",
              "      <td>0.148122</td>\n",
              "      <td>0.054813</td>\n",
              "      <td>0.175393</td>\n",
              "      <td>0.086563</td>\n",
              "      <td>0.019948</td>\n",
              "      <td>-0.078041</td>\n",
              "      <td>-0.533895</td>\n",
              "      <td>-0.548180</td>\n",
              "      <td>-0.214740</td>\n",
              "      <td>-0.512627</td>\n",
              "      <td>-0.191110</td>\n",
              "      <td>-0.044270</td>\n",
              "      <td>-0.293040</td>\n",
              "      <td>0.289896</td>\n",
              "    </tr>\n",
              "    <tr>\n",
              "      <th>T</th>\n",
              "      <td>-0.503515</td>\n",
              "      <td>1.000000</td>\n",
              "      <td>-0.136535</td>\n",
              "      <td>-0.312794</td>\n",
              "      <td>-0.062711</td>\n",
              "      <td>-0.544849</td>\n",
              "      <td>-0.005701</td>\n",
              "      <td>-0.029918</td>\n",
              "      <td>0.112185</td>\n",
              "      <td>0.924919</td>\n",
              "      <td>0.940239</td>\n",
              "      <td>0.380915</td>\n",
              "      <td>0.914272</td>\n",
              "      <td>0.343770</td>\n",
              "      <td>0.078780</td>\n",
              "      <td>0.403669</td>\n",
              "      <td>-0.439649</td>\n",
              "    </tr>\n",
              "    <tr>\n",
              "      <th>Po</th>\n",
              "      <td>0.056579</td>\n",
              "      <td>-0.136535</td>\n",
              "      <td>1.000000</td>\n",
              "      <td>0.982959</td>\n",
              "      <td>0.036733</td>\n",
              "      <td>-0.079571</td>\n",
              "      <td>-0.192216</td>\n",
              "      <td>0.038397</td>\n",
              "      <td>0.022541</td>\n",
              "      <td>-0.185533</td>\n",
              "      <td>-0.099854</td>\n",
              "      <td>0.026942</td>\n",
              "      <td>-0.196962</td>\n",
              "      <td>-0.123721</td>\n",
              "      <td>0.111496</td>\n",
              "      <td>-0.019973</td>\n",
              "      <td>-0.002068</td>\n",
              "    </tr>\n",
              "    <tr>\n",
              "      <th>P</th>\n",
              "      <td>0.148122</td>\n",
              "      <td>-0.312794</td>\n",
              "      <td>0.982959</td>\n",
              "      <td>1.000000</td>\n",
              "      <td>0.046284</td>\n",
              "      <td>0.017689</td>\n",
              "      <td>-0.182262</td>\n",
              "      <td>0.041249</td>\n",
              "      <td>0.000351</td>\n",
              "      <td>-0.348450</td>\n",
              "      <td>-0.267753</td>\n",
              "      <td>-0.042398</td>\n",
              "      <td>-0.357860</td>\n",
              "      <td>-0.181619</td>\n",
              "      <td>0.092433</td>\n",
              "      <td>-0.096157</td>\n",
              "      <td>0.080905</td>\n",
              "    </tr>\n",
              "    <tr>\n",
              "      <th>Pa</th>\n",
              "      <td>0.054813</td>\n",
              "      <td>-0.062711</td>\n",
              "      <td>0.036733</td>\n",
              "      <td>0.046284</td>\n",
              "      <td>1.000000</td>\n",
              "      <td>0.128168</td>\n",
              "      <td>0.028988</td>\n",
              "      <td>-0.047040</td>\n",
              "      <td>-0.022018</td>\n",
              "      <td>0.001142</td>\n",
              "      <td>-0.029755</td>\n",
              "      <td>-0.093175</td>\n",
              "      <td>-0.001333</td>\n",
              "      <td>0.014815</td>\n",
              "      <td>0.010334</td>\n",
              "      <td>-0.162470</td>\n",
              "      <td>-0.006603</td>\n",
              "    </tr>\n",
              "    <tr>\n",
              "      <th>U</th>\n",
              "      <td>0.175393</td>\n",
              "      <td>-0.544849</td>\n",
              "      <td>-0.079571</td>\n",
              "      <td>0.017689</td>\n",
              "      <td>0.128168</td>\n",
              "      <td>1.000000</td>\n",
              "      <td>-0.186847</td>\n",
              "      <td>-0.023345</td>\n",
              "      <td>-0.080118</td>\n",
              "      <td>-0.266577</td>\n",
              "      <td>-0.420065</td>\n",
              "      <td>-0.565440</td>\n",
              "      <td>-0.166642</td>\n",
              "      <td>-0.052670</td>\n",
              "      <td>-0.103712</td>\n",
              "      <td>-0.166385</td>\n",
              "      <td>0.169710</td>\n",
              "    </tr>\n",
              "    <tr>\n",
              "      <th>Ff</th>\n",
              "      <td>0.086563</td>\n",
              "      <td>-0.005701</td>\n",
              "      <td>-0.192216</td>\n",
              "      <td>-0.182262</td>\n",
              "      <td>0.028988</td>\n",
              "      <td>-0.186847</td>\n",
              "      <td>1.000000</td>\n",
              "      <td>0.038452</td>\n",
              "      <td>0.014853</td>\n",
              "      <td>-0.044677</td>\n",
              "      <td>-0.155042</td>\n",
              "      <td>0.104060</td>\n",
              "      <td>-0.091979</td>\n",
              "      <td>-0.054299</td>\n",
              "      <td>-0.099336</td>\n",
              "      <td>-0.049129</td>\n",
              "      <td>0.005741</td>\n",
              "    </tr>\n",
              "    <tr>\n",
              "      <th>ff10</th>\n",
              "      <td>0.019948</td>\n",
              "      <td>-0.029918</td>\n",
              "      <td>0.038397</td>\n",
              "      <td>0.041249</td>\n",
              "      <td>-0.047040</td>\n",
              "      <td>-0.023345</td>\n",
              "      <td>0.038452</td>\n",
              "      <td>1.000000</td>\n",
              "      <td>0.124649</td>\n",
              "      <td>-0.027365</td>\n",
              "      <td>-0.033359</td>\n",
              "      <td>0.003097</td>\n",
              "      <td>-0.044685</td>\n",
              "      <td>-0.004084</td>\n",
              "      <td>-0.008395</td>\n",
              "      <td>0.003096</td>\n",
              "      <td>0.001841</td>\n",
              "    </tr>\n",
              "    <tr>\n",
              "      <th>ff3</th>\n",
              "      <td>-0.078041</td>\n",
              "      <td>0.112185</td>\n",
              "      <td>0.022541</td>\n",
              "      <td>0.000351</td>\n",
              "      <td>-0.022018</td>\n",
              "      <td>-0.080118</td>\n",
              "      <td>0.014853</td>\n",
              "      <td>0.124649</td>\n",
              "      <td>1.000000</td>\n",
              "      <td>0.107702</td>\n",
              "      <td>0.120818</td>\n",
              "      <td>0.060423</td>\n",
              "      <td>0.094410</td>\n",
              "      <td>0.063019</td>\n",
              "      <td>0.016836</td>\n",
              "      <td>0.131477</td>\n",
              "      <td>-0.109429</td>\n",
              "    </tr>\n",
              "    <tr>\n",
              "      <th>Tn</th>\n",
              "      <td>-0.533895</td>\n",
              "      <td>0.924919</td>\n",
              "      <td>-0.185533</td>\n",
              "      <td>-0.348450</td>\n",
              "      <td>0.001142</td>\n",
              "      <td>-0.266577</td>\n",
              "      <td>-0.044677</td>\n",
              "      <td>-0.027365</td>\n",
              "      <td>0.107702</td>\n",
              "      <td>1.000000</td>\n",
              "      <td>0.928736</td>\n",
              "      <td>0.271392</td>\n",
              "      <td>0.964646</td>\n",
              "      <td>0.370497</td>\n",
              "      <td>0.058718</td>\n",
              "      <td>0.414356</td>\n",
              "      <td>-0.478212</td>\n",
              "    </tr>\n",
              "    <tr>\n",
              "      <th>Tx</th>\n",
              "      <td>-0.548180</td>\n",
              "      <td>0.940239</td>\n",
              "      <td>-0.099854</td>\n",
              "      <td>-0.267753</td>\n",
              "      <td>-0.029755</td>\n",
              "      <td>-0.420065</td>\n",
              "      <td>-0.155042</td>\n",
              "      <td>-0.033359</td>\n",
              "      <td>0.120818</td>\n",
              "      <td>0.928736</td>\n",
              "      <td>1.000000</td>\n",
              "      <td>0.351167</td>\n",
              "      <td>0.908768</td>\n",
              "      <td>0.353394</td>\n",
              "      <td>0.103792</td>\n",
              "      <td>0.420376</td>\n",
              "      <td>-0.449180</td>\n",
              "    </tr>\n",
              "    <tr>\n",
              "      <th>VV</th>\n",
              "      <td>-0.214740</td>\n",
              "      <td>0.380915</td>\n",
              "      <td>0.026942</td>\n",
              "      <td>-0.042398</td>\n",
              "      <td>-0.093175</td>\n",
              "      <td>-0.565440</td>\n",
              "      <td>0.104060</td>\n",
              "      <td>0.003097</td>\n",
              "      <td>0.060423</td>\n",
              "      <td>0.271392</td>\n",
              "      <td>0.351167</td>\n",
              "      <td>1.000000</td>\n",
              "      <td>0.194427</td>\n",
              "      <td>0.078793</td>\n",
              "      <td>0.093793</td>\n",
              "      <td>0.274308</td>\n",
              "      <td>-0.152600</td>\n",
              "    </tr>\n",
              "    <tr>\n",
              "      <th>Td</th>\n",
              "      <td>-0.512627</td>\n",
              "      <td>0.914272</td>\n",
              "      <td>-0.196962</td>\n",
              "      <td>-0.357860</td>\n",
              "      <td>-0.001333</td>\n",
              "      <td>-0.166642</td>\n",
              "      <td>-0.091979</td>\n",
              "      <td>-0.044685</td>\n",
              "      <td>0.094410</td>\n",
              "      <td>0.964646</td>\n",
              "      <td>0.908768</td>\n",
              "      <td>0.194427</td>\n",
              "      <td>1.000000</td>\n",
              "      <td>0.378784</td>\n",
              "      <td>0.044733</td>\n",
              "      <td>0.393709</td>\n",
              "      <td>-0.443253</td>\n",
              "    </tr>\n",
              "    <tr>\n",
              "      <th>RRR</th>\n",
              "      <td>-0.191110</td>\n",
              "      <td>0.343770</td>\n",
              "      <td>-0.123721</td>\n",
              "      <td>-0.181619</td>\n",
              "      <td>0.014815</td>\n",
              "      <td>-0.052670</td>\n",
              "      <td>-0.054299</td>\n",
              "      <td>-0.004084</td>\n",
              "      <td>0.063019</td>\n",
              "      <td>0.370497</td>\n",
              "      <td>0.353394</td>\n",
              "      <td>0.078793</td>\n",
              "      <td>0.378784</td>\n",
              "      <td>1.000000</td>\n",
              "      <td>0.081512</td>\n",
              "      <td>0.180971</td>\n",
              "      <td>-0.097146</td>\n",
              "    </tr>\n",
              "    <tr>\n",
              "      <th>tR</th>\n",
              "      <td>-0.044270</td>\n",
              "      <td>0.078780</td>\n",
              "      <td>0.111496</td>\n",
              "      <td>0.092433</td>\n",
              "      <td>0.010334</td>\n",
              "      <td>-0.103712</td>\n",
              "      <td>-0.099336</td>\n",
              "      <td>-0.008395</td>\n",
              "      <td>0.016836</td>\n",
              "      <td>0.058718</td>\n",
              "      <td>0.103792</td>\n",
              "      <td>0.093793</td>\n",
              "      <td>0.044733</td>\n",
              "      <td>0.081512</td>\n",
              "      <td>1.000000</td>\n",
              "      <td>0.059248</td>\n",
              "      <td>-0.054755</td>\n",
              "    </tr>\n",
              "    <tr>\n",
              "      <th>Tg</th>\n",
              "      <td>-0.293040</td>\n",
              "      <td>0.403669</td>\n",
              "      <td>-0.019973</td>\n",
              "      <td>-0.096157</td>\n",
              "      <td>-0.162470</td>\n",
              "      <td>-0.166385</td>\n",
              "      <td>-0.049129</td>\n",
              "      <td>0.003096</td>\n",
              "      <td>0.131477</td>\n",
              "      <td>0.414356</td>\n",
              "      <td>0.420376</td>\n",
              "      <td>0.274308</td>\n",
              "      <td>0.393709</td>\n",
              "      <td>0.180971</td>\n",
              "      <td>0.059248</td>\n",
              "      <td>1.000000</td>\n",
              "      <td>-0.101066</td>\n",
              "    </tr>\n",
              "    <tr>\n",
              "      <th>sss</th>\n",
              "      <td>0.289896</td>\n",
              "      <td>-0.439649</td>\n",
              "      <td>-0.002068</td>\n",
              "      <td>0.080905</td>\n",
              "      <td>-0.006603</td>\n",
              "      <td>0.169710</td>\n",
              "      <td>0.005741</td>\n",
              "      <td>0.001841</td>\n",
              "      <td>-0.109429</td>\n",
              "      <td>-0.478212</td>\n",
              "      <td>-0.449180</td>\n",
              "      <td>-0.152600</td>\n",
              "      <td>-0.443253</td>\n",
              "      <td>-0.097146</td>\n",
              "      <td>-0.054755</td>\n",
              "      <td>-0.101066</td>\n",
              "      <td>1.000000</td>\n",
              "    </tr>\n",
              "  </tbody>\n",
              "</table>\n",
              "</div>\n",
              "      <button class=\"colab-df-convert\" onclick=\"convertToInteractive('df-ee38f741-7f3a-4c06-9a34-d0bd7c5c403f')\"\n",
              "              title=\"Convert this dataframe to an interactive table.\"\n",
              "              style=\"display:none;\">\n",
              "        \n",
              "  <svg xmlns=\"http://www.w3.org/2000/svg\" height=\"24px\"viewBox=\"0 0 24 24\"\n",
              "       width=\"24px\">\n",
              "    <path d=\"M0 0h24v24H0V0z\" fill=\"none\"/>\n",
              "    <path d=\"M18.56 5.44l.94 2.06.94-2.06 2.06-.94-2.06-.94-.94-2.06-.94 2.06-2.06.94zm-11 1L8.5 8.5l.94-2.06 2.06-.94-2.06-.94L8.5 2.5l-.94 2.06-2.06.94zm10 10l.94 2.06.94-2.06 2.06-.94-2.06-.94-.94-2.06-.94 2.06-2.06.94z\"/><path d=\"M17.41 7.96l-1.37-1.37c-.4-.4-.92-.59-1.43-.59-.52 0-1.04.2-1.43.59L10.3 9.45l-7.72 7.72c-.78.78-.78 2.05 0 2.83L4 21.41c.39.39.9.59 1.41.59.51 0 1.02-.2 1.41-.59l7.78-7.78 2.81-2.81c.8-.78.8-2.07 0-2.86zM5.41 20L4 18.59l7.72-7.72 1.47 1.35L5.41 20z\"/>\n",
              "  </svg>\n",
              "      </button>\n",
              "      \n",
              "  <style>\n",
              "    .colab-df-container {\n",
              "      display:flex;\n",
              "      flex-wrap:wrap;\n",
              "      gap: 12px;\n",
              "    }\n",
              "\n",
              "    .colab-df-convert {\n",
              "      background-color: #E8F0FE;\n",
              "      border: none;\n",
              "      border-radius: 50%;\n",
              "      cursor: pointer;\n",
              "      display: none;\n",
              "      fill: #1967D2;\n",
              "      height: 32px;\n",
              "      padding: 0 0 0 0;\n",
              "      width: 32px;\n",
              "    }\n",
              "\n",
              "    .colab-df-convert:hover {\n",
              "      background-color: #E2EBFA;\n",
              "      box-shadow: 0px 1px 2px rgba(60, 64, 67, 0.3), 0px 1px 3px 1px rgba(60, 64, 67, 0.15);\n",
              "      fill: #174EA6;\n",
              "    }\n",
              "\n",
              "    [theme=dark] .colab-df-convert {\n",
              "      background-color: #3B4455;\n",
              "      fill: #D2E3FC;\n",
              "    }\n",
              "\n",
              "    [theme=dark] .colab-df-convert:hover {\n",
              "      background-color: #434B5C;\n",
              "      box-shadow: 0px 1px 3px 1px rgba(0, 0, 0, 0.15);\n",
              "      filter: drop-shadow(0px 1px 2px rgba(0, 0, 0, 0.3));\n",
              "      fill: #FFFFFF;\n",
              "    }\n",
              "  </style>\n",
              "\n",
              "      <script>\n",
              "        const buttonEl =\n",
              "          document.querySelector('#df-ee38f741-7f3a-4c06-9a34-d0bd7c5c403f button.colab-df-convert');\n",
              "        buttonEl.style.display =\n",
              "          google.colab.kernel.accessAllowed ? 'block' : 'none';\n",
              "\n",
              "        async function convertToInteractive(key) {\n",
              "          const element = document.querySelector('#df-ee38f741-7f3a-4c06-9a34-d0bd7c5c403f');\n",
              "          const dataTable =\n",
              "            await google.colab.kernel.invokeFunction('convertToInteractive',\n",
              "                                                     [key], {});\n",
              "          if (!dataTable) return;\n",
              "\n",
              "          const docLinkHtml = 'Like what you see? Visit the ' +\n",
              "            '<a target=\"_blank\" href=https://colab.research.google.com/notebooks/data_table.ipynb>data table notebook</a>'\n",
              "            + ' to learn more about interactive tables.';\n",
              "          element.innerHTML = '';\n",
              "          dataTable['output_type'] = 'display_data';\n",
              "          await google.colab.output.renderOutput(dataTable, element);\n",
              "          const docLink = document.createElement('div');\n",
              "          docLink.innerHTML = docLinkHtml;\n",
              "          element.appendChild(docLink);\n",
              "        }\n",
              "      </script>\n",
              "    </div>\n",
              "  </div>\n",
              "  "
            ],
            "text/plain": [
              "             Q         T        Po         P        Pa         U        Ff  \\\n",
              "Q     1.000000 -0.503515  0.056579  0.148122  0.054813  0.175393  0.086563   \n",
              "T    -0.503515  1.000000 -0.136535 -0.312794 -0.062711 -0.544849 -0.005701   \n",
              "Po    0.056579 -0.136535  1.000000  0.982959  0.036733 -0.079571 -0.192216   \n",
              "P     0.148122 -0.312794  0.982959  1.000000  0.046284  0.017689 -0.182262   \n",
              "Pa    0.054813 -0.062711  0.036733  0.046284  1.000000  0.128168  0.028988   \n",
              "U     0.175393 -0.544849 -0.079571  0.017689  0.128168  1.000000 -0.186847   \n",
              "Ff    0.086563 -0.005701 -0.192216 -0.182262  0.028988 -0.186847  1.000000   \n",
              "ff10  0.019948 -0.029918  0.038397  0.041249 -0.047040 -0.023345  0.038452   \n",
              "ff3  -0.078041  0.112185  0.022541  0.000351 -0.022018 -0.080118  0.014853   \n",
              "Tn   -0.533895  0.924919 -0.185533 -0.348450  0.001142 -0.266577 -0.044677   \n",
              "Tx   -0.548180  0.940239 -0.099854 -0.267753 -0.029755 -0.420065 -0.155042   \n",
              "VV   -0.214740  0.380915  0.026942 -0.042398 -0.093175 -0.565440  0.104060   \n",
              "Td   -0.512627  0.914272 -0.196962 -0.357860 -0.001333 -0.166642 -0.091979   \n",
              "RRR  -0.191110  0.343770 -0.123721 -0.181619  0.014815 -0.052670 -0.054299   \n",
              "tR   -0.044270  0.078780  0.111496  0.092433  0.010334 -0.103712 -0.099336   \n",
              "Tg   -0.293040  0.403669 -0.019973 -0.096157 -0.162470 -0.166385 -0.049129   \n",
              "sss   0.289896 -0.439649 -0.002068  0.080905 -0.006603  0.169710  0.005741   \n",
              "\n",
              "          ff10       ff3        Tn        Tx        VV        Td       RRR  \\\n",
              "Q     0.019948 -0.078041 -0.533895 -0.548180 -0.214740 -0.512627 -0.191110   \n",
              "T    -0.029918  0.112185  0.924919  0.940239  0.380915  0.914272  0.343770   \n",
              "Po    0.038397  0.022541 -0.185533 -0.099854  0.026942 -0.196962 -0.123721   \n",
              "P     0.041249  0.000351 -0.348450 -0.267753 -0.042398 -0.357860 -0.181619   \n",
              "Pa   -0.047040 -0.022018  0.001142 -0.029755 -0.093175 -0.001333  0.014815   \n",
              "U    -0.023345 -0.080118 -0.266577 -0.420065 -0.565440 -0.166642 -0.052670   \n",
              "Ff    0.038452  0.014853 -0.044677 -0.155042  0.104060 -0.091979 -0.054299   \n",
              "ff10  1.000000  0.124649 -0.027365 -0.033359  0.003097 -0.044685 -0.004084   \n",
              "ff3   0.124649  1.000000  0.107702  0.120818  0.060423  0.094410  0.063019   \n",
              "Tn   -0.027365  0.107702  1.000000  0.928736  0.271392  0.964646  0.370497   \n",
              "Tx   -0.033359  0.120818  0.928736  1.000000  0.351167  0.908768  0.353394   \n",
              "VV    0.003097  0.060423  0.271392  0.351167  1.000000  0.194427  0.078793   \n",
              "Td   -0.044685  0.094410  0.964646  0.908768  0.194427  1.000000  0.378784   \n",
              "RRR  -0.004084  0.063019  0.370497  0.353394  0.078793  0.378784  1.000000   \n",
              "tR   -0.008395  0.016836  0.058718  0.103792  0.093793  0.044733  0.081512   \n",
              "Tg    0.003096  0.131477  0.414356  0.420376  0.274308  0.393709  0.180971   \n",
              "sss   0.001841 -0.109429 -0.478212 -0.449180 -0.152600 -0.443253 -0.097146   \n",
              "\n",
              "            tR        Tg       sss  \n",
              "Q    -0.044270 -0.293040  0.289896  \n",
              "T     0.078780  0.403669 -0.439649  \n",
              "Po    0.111496 -0.019973 -0.002068  \n",
              "P     0.092433 -0.096157  0.080905  \n",
              "Pa    0.010334 -0.162470 -0.006603  \n",
              "U    -0.103712 -0.166385  0.169710  \n",
              "Ff   -0.099336 -0.049129  0.005741  \n",
              "ff10 -0.008395  0.003096  0.001841  \n",
              "ff3   0.016836  0.131477 -0.109429  \n",
              "Tn    0.058718  0.414356 -0.478212  \n",
              "Tx    0.103792  0.420376 -0.449180  \n",
              "VV    0.093793  0.274308 -0.152600  \n",
              "Td    0.044733  0.393709 -0.443253  \n",
              "RRR   0.081512  0.180971 -0.097146  \n",
              "tR    1.000000  0.059248 -0.054755  \n",
              "Tg    0.059248  1.000000 -0.101066  \n",
              "sss  -0.054755 -0.101066  1.000000  "
            ]
          },
          "execution_count": 332,
          "metadata": {},
          "output_type": "execute_result"
        }
      ],
      "source": [
        "data.corr()"
      ],
      "id": "FHPwHcwp1AmV"
    },
    {
      "cell_type": "code",
      "execution_count": null,
      "metadata": {
        "colab": {
          "base_uri": "https://localhost:8080/",
          "height": 443
        },
        "id": "8jRY0V4xzuTp",
        "outputId": "43ab69c9-4d63-4b7f-88a6-e0fcaffcc105"
      },
      "outputs": [
        {
          "data": {
            "image/png": "[encoded data removed]",
            "text/plain": [
              "<Figure size 2304x864 with 2 Axes>"
            ]
          },
          "metadata": {},
          "output_type": "display_data"
        }
      ],
      "source": [
        "# Increase the size of the heatmap.\n",
        "plt.figure(figsize=(32, 12))\n",
        "# Store heatmap object in a variable to easily access it when you want to include more features (such as title).\n",
        "# Set the range of values to be displayed on the colormap from -1 to 1, and set the annotation to True to display the correlation values on the heatmap.\n",
        "heatmap = sns.heatmap(data.corr(), annot=True)\n",
        "# Give a title to the heatmap. Pad defines the distance of the title from the top of the heatmap.\n",
        "heatmap.set_title('Correlation Heatmap', fontdict={'fontsize':12}, pad=12);"
      ],
      "id": "8jRY0V4xzuTp"
    },
    {
      "cell_type": "code",
      "execution_count": null,
      "metadata": {
        "colab": {
          "base_uri": "https://localhost:8080/",
          "height": 311
        },
        "id": "qM6GRBEZYrIY",
        "outputId": "0b3eb479-d5e3-4ffe-93bc-818e343d169c"
      },
      "outputs": [
        {
          "ename": "KeyError",
          "evalue": "ignored",
          "output_type": "error",
          "traceback": [
            "\u001b[0;31m---------------------------------------------------------------------------\u001b[0m",
            "\u001b[0;31mKeyError\u001b[0m                                  Traceback (most recent call last)",
            "\u001b[0;32m<ipython-input-335-97aa30ccc19b>\u001b[0m in \u001b[0;36m<module>\u001b[0;34m()\u001b[0m\n\u001b[0;32m----> 1\u001b[0;31m \u001b[0mdata\u001b[0m \u001b[0;34m=\u001b[0m \u001b[0mdata\u001b[0m\u001b[0;34m.\u001b[0m\u001b[0mdrop\u001b[0m\u001b[0;34m(\u001b[0m\u001b[0mcolumns\u001b[0m\u001b[0;34m=\u001b[0m\u001b[0;34m[\u001b[0m\u001b[0;34m'Po'\u001b[0m\u001b[0;34m,\u001b[0m\u001b[0;34m'Tx'\u001b[0m\u001b[0;34m,\u001b[0m\u001b[0;34m'Tn'\u001b[0m\u001b[0;34m,\u001b[0m\u001b[0;34m'Tg'\u001b[0m\u001b[0;34m,\u001b[0m\u001b[0;34m'ff3'\u001b[0m\u001b[0;34m,\u001b[0m\u001b[0;34m'ff10'\u001b[0m\u001b[0;34m,\u001b[0m\u001b[0;34m'Td'\u001b[0m\u001b[0;34m,\u001b[0m\u001b[0;34m'Pa'\u001b[0m\u001b[0;34m]\u001b[0m\u001b[0;34m)\u001b[0m\u001b[0;34m\u001b[0m\u001b[0;34m\u001b[0m\u001b[0m\n\u001b[0m",
            "\u001b[0;32m/usr/local/lib/python3.7/dist-packages/pandas/util/_decorators.py\u001b[0m in \u001b[0;36mwrapper\u001b[0;34m(*args, **kwargs)\u001b[0m\n\u001b[1;32m    309\u001b[0m                     \u001b[0mstacklevel\u001b[0m\u001b[0;34m=\u001b[0m\u001b[0mstacklevel\u001b[0m\u001b[0;34m,\u001b[0m\u001b[0;34m\u001b[0m\u001b[0;34m\u001b[0m\u001b[0m\n\u001b[1;32m    310\u001b[0m                 )\n\u001b[0;32m--> 311\u001b[0;31m             \u001b[0;32mreturn\u001b[0m \u001b[0mfunc\u001b[0m\u001b[0;34m(\u001b[0m\u001b[0;34m*\u001b[0m\u001b[0margs\u001b[0m\u001b[0;34m,\u001b[0m \u001b[0;34m**\u001b[0m\u001b[0mkwargs\u001b[0m\u001b[0;34m)\u001b[0m\u001b[0;34m\u001b[0m\u001b[0;34m\u001b[0m\u001b[0m\n\u001b[0m\u001b[1;32m    312\u001b[0m \u001b[0;34m\u001b[0m\u001b[0m\n\u001b[1;32m    313\u001b[0m         \u001b[0;32mreturn\u001b[0m \u001b[0mwrapper\u001b[0m\u001b[0;34m\u001b[0m\u001b[0;34m\u001b[0m\u001b[0m\n",
            "\u001b[0;32m/usr/local/lib/python3.7/dist-packages/pandas/core/frame.py\u001b[0m in \u001b[0;36mdrop\u001b[0;34m(self, labels, axis, index, columns, level, inplace, errors)\u001b[0m\n\u001b[1;32m   4911\u001b[0m             \u001b[0mlevel\u001b[0m\u001b[0;34m=\u001b[0m\u001b[0mlevel\u001b[0m\u001b[0;34m,\u001b[0m\u001b[0;34m\u001b[0m\u001b[0;34m\u001b[0m\u001b[0m\n\u001b[1;32m   4912\u001b[0m             \u001b[0minplace\u001b[0m\u001b[0;34m=\u001b[0m\u001b[0minplace\u001b[0m\u001b[0;34m,\u001b[0m\u001b[0;34m\u001b[0m\u001b[0;34m\u001b[0m\u001b[0m\n\u001b[0;32m-> 4913\u001b[0;31m             \u001b[0merrors\u001b[0m\u001b[0;34m=\u001b[0m\u001b[0merrors\u001b[0m\u001b[0;34m,\u001b[0m\u001b[0;34m\u001b[0m\u001b[0;34m\u001b[0m\u001b[0m\n\u001b[0m\u001b[1;32m   4914\u001b[0m         )\n\u001b[1;32m   4915\u001b[0m \u001b[0;34m\u001b[0m\u001b[0m\n",
            "\u001b[0;32m/usr/local/lib/python3.7/dist-packages/pandas/core/generic.py\u001b[0m in \u001b[0;36mdrop\u001b[0;34m(self, labels, axis, index, columns, level, inplace, errors)\u001b[0m\n\u001b[1;32m   4148\u001b[0m         \u001b[0;32mfor\u001b[0m \u001b[0maxis\u001b[0m\u001b[0;34m,\u001b[0m \u001b[0mlabels\u001b[0m \u001b[0;32min\u001b[0m \u001b[0maxes\u001b[0m\u001b[0;34m.\u001b[0m\u001b[0mitems\u001b[0m\u001b[0;34m(\u001b[0m\u001b[0;34m)\u001b[0m\u001b[0;34m:\u001b[0m\u001b[0;34m\u001b[0m\u001b[0;34m\u001b[0m\u001b[0m\n\u001b[1;32m   4149\u001b[0m             \u001b[0;32mif\u001b[0m \u001b[0mlabels\u001b[0m \u001b[0;32mis\u001b[0m \u001b[0;32mnot\u001b[0m \u001b[0;32mNone\u001b[0m\u001b[0;34m:\u001b[0m\u001b[0;34m\u001b[0m\u001b[0;34m\u001b[0m\u001b[0m\n\u001b[0;32m-> 4150\u001b[0;31m                 \u001b[0mobj\u001b[0m \u001b[0;34m=\u001b[0m \u001b[0mobj\u001b[0m\u001b[0;34m.\u001b[0m\u001b[0m_drop_axis\u001b[0m\u001b[0;34m(\u001b[0m\u001b[0mlabels\u001b[0m\u001b[0;34m,\u001b[0m \u001b[0maxis\u001b[0m\u001b[0;34m,\u001b[0m \u001b[0mlevel\u001b[0m\u001b[0;34m=\u001b[0m\u001b[0mlevel\u001b[0m\u001b[0;34m,\u001b[0m \u001b[0merrors\u001b[0m\u001b[0;34m=\u001b[0m\u001b[0merrors\u001b[0m\u001b[0;34m)\u001b[0m\u001b[0;34m\u001b[0m\u001b[0;34m\u001b[0m\u001b[0m\n\u001b[0m\u001b[1;32m   4151\u001b[0m \u001b[0;34m\u001b[0m\u001b[0m\n\u001b[1;32m   4152\u001b[0m         \u001b[0;32mif\u001b[0m \u001b[0minplace\u001b[0m\u001b[0;34m:\u001b[0m\u001b[0;34m\u001b[0m\u001b[0;34m\u001b[0m\u001b[0m\n",
            "\u001b[0;32m/usr/local/lib/python3.7/dist-packages/pandas/core/generic.py\u001b[0m in \u001b[0;36m_drop_axis\u001b[0;34m(self, labels, axis, level, errors)\u001b[0m\n\u001b[1;32m   4183\u001b[0m                 \u001b[0mnew_axis\u001b[0m \u001b[0;34m=\u001b[0m \u001b[0maxis\u001b[0m\u001b[0;34m.\u001b[0m\u001b[0mdrop\u001b[0m\u001b[0;34m(\u001b[0m\u001b[0mlabels\u001b[0m\u001b[0;34m,\u001b[0m \u001b[0mlevel\u001b[0m\u001b[0;34m=\u001b[0m\u001b[0mlevel\u001b[0m\u001b[0;34m,\u001b[0m \u001b[0merrors\u001b[0m\u001b[0;34m=\u001b[0m\u001b[0merrors\u001b[0m\u001b[0;34m)\u001b[0m\u001b[0;34m\u001b[0m\u001b[0;34m\u001b[0m\u001b[0m\n\u001b[1;32m   4184\u001b[0m             \u001b[0;32melse\u001b[0m\u001b[0;34m:\u001b[0m\u001b[0;34m\u001b[0m\u001b[0;34m\u001b[0m\u001b[0m\n\u001b[0;32m-> 4185\u001b[0;31m                 \u001b[0mnew_axis\u001b[0m \u001b[0;34m=\u001b[0m \u001b[0maxis\u001b[0m\u001b[0;34m.\u001b[0m\u001b[0mdrop\u001b[0m\u001b[0;34m(\u001b[0m\u001b[0mlabels\u001b[0m\u001b[0;34m,\u001b[0m \u001b[0merrors\u001b[0m\u001b[0;34m=\u001b[0m\u001b[0merrors\u001b[0m\u001b[0;34m)\u001b[0m\u001b[0;34m\u001b[0m\u001b[0;34m\u001b[0m\u001b[0m\n\u001b[0m\u001b[1;32m   4186\u001b[0m             \u001b[0mresult\u001b[0m \u001b[0;34m=\u001b[0m \u001b[0mself\u001b[0m\u001b[0;34m.\u001b[0m\u001b[0mreindex\u001b[0m\u001b[0;34m(\u001b[0m\u001b[0;34m**\u001b[0m\u001b[0;34m{\u001b[0m\u001b[0maxis_name\u001b[0m\u001b[0;34m:\u001b[0m \u001b[0mnew_axis\u001b[0m\u001b[0;34m}\u001b[0m\u001b[0;34m)\u001b[0m\u001b[0;34m\u001b[0m\u001b[0;34m\u001b[0m\u001b[0m\n\u001b[1;32m   4187\u001b[0m \u001b[0;34m\u001b[0m\u001b[0m\n",
            "\u001b[0;32m/usr/local/lib/python3.7/dist-packages/pandas/core/indexes/base.py\u001b[0m in \u001b[0;36mdrop\u001b[0;34m(self, labels, errors)\u001b[0m\n\u001b[1;32m   6015\u001b[0m         \u001b[0;32mif\u001b[0m \u001b[0mmask\u001b[0m\u001b[0;34m.\u001b[0m\u001b[0many\u001b[0m\u001b[0;34m(\u001b[0m\u001b[0;34m)\u001b[0m\u001b[0;34m:\u001b[0m\u001b[0;34m\u001b[0m\u001b[0;34m\u001b[0m\u001b[0m\n\u001b[1;32m   6016\u001b[0m             \u001b[0;32mif\u001b[0m \u001b[0merrors\u001b[0m \u001b[0;34m!=\u001b[0m \u001b[0;34m\"ignore\"\u001b[0m\u001b[0;34m:\u001b[0m\u001b[0;34m\u001b[0m\u001b[0;34m\u001b[0m\u001b[0m\n\u001b[0;32m-> 6017\u001b[0;31m                 \u001b[0;32mraise\u001b[0m \u001b[0mKeyError\u001b[0m\u001b[0;34m(\u001b[0m\u001b[0;34mf\"{labels[mask]} not found in axis\"\u001b[0m\u001b[0;34m)\u001b[0m\u001b[0;34m\u001b[0m\u001b[0;34m\u001b[0m\u001b[0m\n\u001b[0m\u001b[1;32m   6018\u001b[0m             \u001b[0mindexer\u001b[0m \u001b[0;34m=\u001b[0m \u001b[0mindexer\u001b[0m\u001b[0;34m[\u001b[0m\u001b[0;34m~\u001b[0m\u001b[0mmask\u001b[0m\u001b[0;34m]\u001b[0m\u001b[0;34m\u001b[0m\u001b[0;34m\u001b[0m\u001b[0m\n\u001b[1;32m   6019\u001b[0m         \u001b[0;32mreturn\u001b[0m \u001b[0mself\u001b[0m\u001b[0;34m.\u001b[0m\u001b[0mdelete\u001b[0m\u001b[0;34m(\u001b[0m\u001b[0mindexer\u001b[0m\u001b[0;34m)\u001b[0m\u001b[0;34m\u001b[0m\u001b[0;34m\u001b[0m\u001b[0m\n",
            "\u001b[0;31mKeyError\u001b[0m: \"['Po' 'Tx' 'Tn' 'Tg' 'ff3' 'ff10' 'Td' 'Pa'] not found in axis\""
          ]
        }
      ],
      "source": [
        "data = data.drop(columns=['Po','Tx','Tn','Tg','ff3','ff10','Td','Pa'])"
      ],
      "id": "qM6GRBEZYrIY"
    },
    {
      "cell_type": "code",
      "execution_count": null,
      "metadata": {
        "colab": {
          "base_uri": "https://localhost:8080/",
          "height": 443
        },
        "id": "CE-bfo4lDz22",
        "outputId": "f2017fe3-c41b-45c7-882d-79aeb92a677a"
      },
      "outputs": [
        {
          "data": {
            "image/png": "[encoded data removed]",
            "text/plain": [
              "<Figure size 2304x864 with 2 Axes>"
            ]
          },
          "metadata": {},
          "output_type": "display_data"
        }
      ],
      "source": [
        "# Increase the size of the heatmap.\n",
        "plt.figure(figsize=(32, 12))\n",
        "# Store heatmap object in a variable to easily access it when you want to include more features (such as title).\n",
        "# Set the range of values to be displayed on the colormap from -1 to 1, and set the annotation to True to display the correlation values on the heatmap.\n",
        "heatmap = sns.heatmap(data.corr(), annot=True)\n",
        "# Give a title to the heatmap. Pad defines the distance of the title from the top of the heatmap.\n",
        "heatmap.set_title('Correlation Heatmap', fontdict={'fontsize':12}, pad=12);"
      ],
      "id": "CE-bfo4lDz22"
    },
    {
      "cell_type": "markdown",
      "metadata": {
        "id": "Ecp1yzW-w5a4"
      },
      "source": [
        "#Preparing data for SLP and MLP"
      ],
      "id": "Ecp1yzW-w5a4"
    },
    {
      "cell_type": "code",
      "execution_count": null,
      "metadata": {
        "id": "9546875d"
      },
      "outputs": [],
      "source": [],
      "id": "9546875d"
    },
    {
      "cell_type": "code",
      "execution_count": null,
      "metadata": {
        "id": "1yuh8s0EzRls"
      },
      "outputs": [],
      "source": [
        "df = df.drop(columns=['DAYOFWEEK(TS)','Po','Tx','Tn','Tg','ff3','ff10','Td','Pa','id','Time'])"
      ],
      "id": "1yuh8s0EzRls"
    },
    {
      "cell_type": "code",
      "execution_count": null,
      "metadata": {
        "colab": {
          "base_uri": "https://localhost:8080/"
        },
        "id": "hRZWb5OjxWGN",
        "outputId": "673951bd-072b-4b89-fff5-fc22d7f6be73"
      },
      "outputs": [
        {
          "name": "stdout",
          "output_type": "stream",
          "text": [
            "<class 'pandas.core.frame.DataFrame'>\n",
            "Int64Index: 122712 entries, 0 to 122711\n",
            "Data columns (total 9 columns):\n",
            " #   Column  Non-Null Count   Dtype  \n",
            "---  ------  --------------   -----  \n",
            " 0   Q       122712 non-null  float64\n",
            " 1   T       122712 non-null  float64\n",
            " 2   P       122712 non-null  float64\n",
            " 3   U       122712 non-null  float64\n",
            " 4   Ff      122712 non-null  float64\n",
            " 5   VV      122712 non-null  float64\n",
            " 6   RRR     122712 non-null  float64\n",
            " 7   tR      122712 non-null  float64\n",
            " 8   sss     122712 non-null  float64\n",
            "dtypes: float64(9)\n",
            "memory usage: 9.4 MB\n"
          ]
        }
      ],
      "source": [
        "\n",
        "#print (df)\n",
        "df.info()        "
      ],
      "id": "hRZWb5OjxWGN"
    },
    {
      "cell_type": "code",
      "execution_count": null,
      "metadata": {
        "id": "8500447e"
      },
      "outputs": [],
      "source": [
        "from sklearn.model_selection import train_test_split\n"
      ],
      "id": "8500447e"
    },
    {
      "cell_type": "code",
      "execution_count": null,
      "metadata": {
        "id": "qZdRBCjMYR8d"
      },
      "outputs": [],
      "source": [
        "X = df.iloc[:,1:]\n",
        "X = X.values\n",
        "y = df.iloc[:,0:1]\n",
        "y = y.values"
      ],
      "id": "qZdRBCjMYR8d"
    },
    {
      "cell_type": "code",
      "execution_count": null,
      "metadata": {
        "id": "Fqc20yJAVV7G"
      },
      "outputs": [],
      "source": [
        "scaler = MinMaxScaler()\n",
        "# transform data\n",
        "X = scaler.fit_transform(X)\n",
        "y = scaler.fit_transform(y)\n",
        "\n"
      ],
      "id": "Fqc20yJAVV7G"
    },
    {
      "cell_type": "code",
      "execution_count": null,
      "metadata": {
        "id": "2dfd9690"
      },
      "outputs": [],
      "source": [
        "train_X, test_X, train_y, test_y = train_test_split(X, y, train_size=0.999, test_size=0.001)"
      ],
      "id": "2dfd9690"
    },
    {
      "cell_type": "code",
      "execution_count": null,
      "metadata": {
        "colab": {
          "base_uri": "https://localhost:8080/"
        },
        "id": "7e44def4",
        "outputId": "2d706007-8fa1-4b6a-98f5-a3bd4b48015e"
      },
      "outputs": [
        {
          "data": {
            "text/plain": [
              "(122589, 1)"
            ]
          },
          "execution_count": 367,
          "metadata": {},
          "output_type": "execute_result"
        }
      ],
      "source": [
        "type(train_X)\n",
        "train_X.shape\n",
        "train_y.shape"
      ],
      "id": "7e44def4"
    },
    {
      "cell_type": "code",
      "execution_count": null,
      "metadata": {
        "id": "d0f1ed40"
      },
      "outputs": [],
      "source": [],
      "id": "d0f1ed40"
    },
    {
      "cell_type": "code",
      "execution_count": null,
      "metadata": {
        "id": "70ee5b0a"
      },
      "outputs": [],
      "source": [
        "# create model\n",
        "model_8 = Sequential()\n",
        "model_8.add(Dense(8, input_shape=(8,),kernel_initializer='normal', activation='linear'))\n",
        "model_8.add(Dense(4,   activation='linear'))\n",
        "model_8.add(Dense(1, activation='linear'))\n",
        "# Compile model\n",
        "model_8.compile(loss='mean_absolute_error', optimizer='adam')"
      ],
      "id": "70ee5b0a"
    },
    {
      "cell_type": "code",
      "execution_count": null,
      "metadata": {
        "colab": {
          "base_uri": "https://localhost:8080/"
        },
        "id": "ff01225e",
        "outputId": "314f5571-38a5-4da9-ebfb-5066cd0fbebc"
      },
      "outputs": [
        {
          "name": "stdout",
          "output_type": "stream",
          "text": [
            "Model: \"sequential_11\"\n",
            "_________________________________________________________________\n",
            " Layer (type)                Output Shape              Param #   \n",
            "=================================================================\n",
            " dense_28 (Dense)            (None, 8)                 72        \n",
            "                                                                 \n",
            " dense_29 (Dense)            (None, 4)                 36        \n",
            "                                                                 \n",
            " dense_30 (Dense)            (None, 1)                 5         \n",
            "                                                                 \n",
            "=================================================================\n",
            "Total params: 113\n",
            "Trainable params: 113\n",
            "Non-trainable params: 0\n",
            "_________________________________________________________________\n"
          ]
        }
      ],
      "source": [
        "model_8.summary()"
      ],
      "id": "ff01225e"
    },
    {
      "cell_type": "code",
      "execution_count": null,
      "metadata": {
        "id": "4a53e8f5"
      },
      "outputs": [],
      "source": [
        "model_8.fit(train_X, train_y, epochs=20, batch_size=32,\n",
        "          verbose=2)"
      ],
      "id": "4a53e8f5"
    },
    {
      "cell_type": "markdown",
      "metadata": {
        "id": "VNr0XsaVFEpp"
      },
      "source": [
        "#Prediction MLP"
      ],
      "id": "VNr0XsaVFEpp"
    },
    {
      "cell_type": "code",
      "execution_count": null,
      "metadata": {
        "id": "b6bbdd24"
      },
      "outputs": [],
      "source": [
        "predicted_y  = model_8.predict(test_X)\n",
        "predicted_y = scaler.inverse_transform(predicted_y)"
      ],
      "id": "b6bbdd24"
    },
    {
      "cell_type": "code",
      "execution_count": null,
      "metadata": {
        "id": "eFrWwvjmF4Ke"
      },
      "outputs": [],
      "source": [],
      "id": "eFrWwvjmF4Ke"
    },
    {
      "cell_type": "code",
      "execution_count": null,
      "metadata": {
        "id": "dpMjX369aZjV"
      },
      "outputs": [],
      "source": [
        "import math\n",
        "\n",
        " \n",
        "MSE = np.square(np.subtract(test_y, predicted_y)).mean() \n",
        " \n",
        "RMSE = math.sqrt(MSE)\n",
        "print(\"Root Mean Square Error:\\n\")\n",
        "print(RMSE)"
      ],
      "id": "dpMjX369aZjV"
    },
    {
      "cell_type": "code",
      "execution_count": null,
      "metadata": {
        "id": "ZmY29y6PXfQy"
      },
      "outputs": [],
      "source": [],
      "id": "ZmY29y6PXfQy"
    },
    {
      "cell_type": "code",
      "execution_count": null,
      "metadata": {
        "colab": {
          "base_uri": "https://localhost:8080/"
        },
        "id": "d7ea9c9b",
        "outputId": "81c2490f-7e6e-4eef-dd5e-03276435f592"
      },
      "outputs": [
        {
          "data": {
            "text/plain": [
              "0.03819700477603996"
            ]
          },
          "execution_count": 398,
          "metadata": {},
          "output_type": "execute_result"
        }
      ],
      "source": [
        "mean_squared_error(test_y, predicted_y)\n"
      ],
      "id": "d7ea9c9b"
    },
    {
      "cell_type": "code",
      "execution_count": null,
      "metadata": {
        "colab": {
          "base_uri": "https://localhost:8080/"
        },
        "id": "a8dbec1e",
        "outputId": "679961c2-7be5-4d12-ba21-871607485ef8"
      },
      "outputs": [
        {
          "name": "stdout",
          "output_type": "stream",
          "text": [
            "Model: \"sequential_13\"\n",
            "_________________________________________________________________\n",
            " Layer (type)                Output Shape              Param #   \n",
            "=================================================================\n",
            " dense_33 (Dense)            (None, 8)                 72        \n",
            "                                                                 \n",
            " dense_34 (Dense)            (None, 1)                 9         \n",
            "                                                                 \n",
            "=================================================================\n",
            "Total params: 81\n",
            "Trainable params: 81\n",
            "Non-trainable params: 0\n",
            "_________________________________________________________________\n"
          ]
        }
      ],
      "source": [
        "model_2 = Sequential()\n",
        "model_2.add(Dense(8, input_dim=8, activation='linear'))\n",
        "model_2.add(Dense(1))\n",
        "model_2.compile(loss='mean_squared_error', optimizer='adam')\n",
        "model_2.summary()\n"
      ],
      "id": "a8dbec1e"
    },
    {
      "cell_type": "code",
      "execution_count": null,
      "metadata": {
        "colab": {
          "base_uri": "https://localhost:8080/",
          "height": 347
        },
        "id": "9903ac3c",
        "outputId": "16fddda9-0df0-4daa-cbd1-184cc0ce1ac2"
      },
      "outputs": [
        {
          "name": "stdout",
          "output_type": "stream",
          "text": [
            "Epoch 1/20\n"
          ]
        },
        {
          "ename": "KeyboardInterrupt",
          "evalue": "ignored",
          "output_type": "error",
          "traceback": [
            "\u001b[0;31m---------------------------------------------------------------------------\u001b[0m",
            "\u001b[0;31mKeyboardInterrupt\u001b[0m                         Traceback (most recent call last)",
            "\u001b[0;32m<ipython-input-397-71b23e347dc2>\u001b[0m in \u001b[0;36m<module>\u001b[0;34m()\u001b[0m\n\u001b[0;32m----> 1\u001b[0;31m \u001b[0mmodel_2\u001b[0m\u001b[0;34m.\u001b[0m\u001b[0mfit\u001b[0m\u001b[0;34m(\u001b[0m\u001b[0mtrain_X\u001b[0m\u001b[0;34m,\u001b[0m \u001b[0mtrain_y\u001b[0m\u001b[0;34m,\u001b[0m \u001b[0mepochs\u001b[0m\u001b[0;34m=\u001b[0m\u001b[0;36m20\u001b[0m\u001b[0;34m,\u001b[0m \u001b[0mbatch_size\u001b[0m\u001b[0;34m=\u001b[0m\u001b[0;36m2\u001b[0m\u001b[0;34m,\u001b[0m \u001b[0mverbose\u001b[0m\u001b[0;34m=\u001b[0m\u001b[0;36m2\u001b[0m\u001b[0;34m)\u001b[0m\u001b[0;34m\u001b[0m\u001b[0;34m\u001b[0m\u001b[0m\n\u001b[0m",
            "\u001b[0;32m/usr/local/lib/python3.7/dist-packages/keras/utils/traceback_utils.py\u001b[0m in \u001b[0;36merror_handler\u001b[0;34m(*args, **kwargs)\u001b[0m\n\u001b[1;32m     62\u001b[0m     \u001b[0mfiltered_tb\u001b[0m \u001b[0;34m=\u001b[0m \u001b[0;32mNone\u001b[0m\u001b[0;34m\u001b[0m\u001b[0;34m\u001b[0m\u001b[0m\n\u001b[1;32m     63\u001b[0m     \u001b[0;32mtry\u001b[0m\u001b[0;34m:\u001b[0m\u001b[0;34m\u001b[0m\u001b[0;34m\u001b[0m\u001b[0m\n\u001b[0;32m---> 64\u001b[0;31m       \u001b[0;32mreturn\u001b[0m \u001b[0mfn\u001b[0m\u001b[0;34m(\u001b[0m\u001b[0;34m*\u001b[0m\u001b[0margs\u001b[0m\u001b[0;34m,\u001b[0m \u001b[0;34m**\u001b[0m\u001b[0mkwargs\u001b[0m\u001b[0;34m)\u001b[0m\u001b[0;34m\u001b[0m\u001b[0;34m\u001b[0m\u001b[0m\n\u001b[0m\u001b[1;32m     65\u001b[0m     \u001b[0;32mexcept\u001b[0m \u001b[0mException\u001b[0m \u001b[0;32mas\u001b[0m \u001b[0me\u001b[0m\u001b[0;34m:\u001b[0m  \u001b[0;31m# pylint: disable=broad-except\u001b[0m\u001b[0;34m\u001b[0m\u001b[0;34m\u001b[0m\u001b[0m\n\u001b[1;32m     66\u001b[0m       \u001b[0mfiltered_tb\u001b[0m \u001b[0;34m=\u001b[0m \u001b[0m_process_traceback_frames\u001b[0m\u001b[0;34m(\u001b[0m\u001b[0me\u001b[0m\u001b[0;34m.\u001b[0m\u001b[0m__traceback__\u001b[0m\u001b[0;34m)\u001b[0m\u001b[0;34m\u001b[0m\u001b[0;34m\u001b[0m\u001b[0m\n",
            "\u001b[0;32m/usr/local/lib/python3.7/dist-packages/keras/engine/training.py\u001b[0m in \u001b[0;36mfit\u001b[0;34m(self, x, y, batch_size, epochs, verbose, callbacks, validation_split, validation_data, shuffle, class_weight, sample_weight, initial_epoch, steps_per_epoch, validation_steps, validation_batch_size, validation_freq, max_queue_size, workers, use_multiprocessing)\u001b[0m\n\u001b[1;32m   1382\u001b[0m                 _r=1):\n\u001b[1;32m   1383\u001b[0m               \u001b[0mcallbacks\u001b[0m\u001b[0;34m.\u001b[0m\u001b[0mon_train_batch_begin\u001b[0m\u001b[0;34m(\u001b[0m\u001b[0mstep\u001b[0m\u001b[0;34m)\u001b[0m\u001b[0;34m\u001b[0m\u001b[0;34m\u001b[0m\u001b[0m\n\u001b[0;32m-> 1384\u001b[0;31m               \u001b[0mtmp_logs\u001b[0m \u001b[0;34m=\u001b[0m \u001b[0mself\u001b[0m\u001b[0;34m.\u001b[0m\u001b[0mtrain_function\u001b[0m\u001b[0;34m(\u001b[0m\u001b[0miterator\u001b[0m\u001b[0;34m)\u001b[0m\u001b[0;34m\u001b[0m\u001b[0;34m\u001b[0m\u001b[0m\n\u001b[0m\u001b[1;32m   1385\u001b[0m               \u001b[0;32mif\u001b[0m \u001b[0mdata_handler\u001b[0m\u001b[0;34m.\u001b[0m\u001b[0mshould_sync\u001b[0m\u001b[0;34m:\u001b[0m\u001b[0;34m\u001b[0m\u001b[0;34m\u001b[0m\u001b[0m\n\u001b[1;32m   1386\u001b[0m                 \u001b[0mcontext\u001b[0m\u001b[0;34m.\u001b[0m\u001b[0masync_wait\u001b[0m\u001b[0;34m(\u001b[0m\u001b[0;34m)\u001b[0m\u001b[0;34m\u001b[0m\u001b[0;34m\u001b[0m\u001b[0m\n",
            "\u001b[0;32m/usr/local/lib/python3.7/dist-packages/tensorflow/python/util/traceback_utils.py\u001b[0m in \u001b[0;36merror_handler\u001b[0;34m(*args, **kwargs)\u001b[0m\n\u001b[1;32m    148\u001b[0m     \u001b[0mfiltered_tb\u001b[0m \u001b[0;34m=\u001b[0m \u001b[0;32mNone\u001b[0m\u001b[0;34m\u001b[0m\u001b[0;34m\u001b[0m\u001b[0m\n\u001b[1;32m    149\u001b[0m     \u001b[0;32mtry\u001b[0m\u001b[0;34m:\u001b[0m\u001b[0;34m\u001b[0m\u001b[0;34m\u001b[0m\u001b[0m\n\u001b[0;32m--> 150\u001b[0;31m       \u001b[0;32mreturn\u001b[0m \u001b[0mfn\u001b[0m\u001b[0;34m(\u001b[0m\u001b[0;34m*\u001b[0m\u001b[0margs\u001b[0m\u001b[0;34m,\u001b[0m \u001b[0;34m**\u001b[0m\u001b[0mkwargs\u001b[0m\u001b[0;34m)\u001b[0m\u001b[0;34m\u001b[0m\u001b[0;34m\u001b[0m\u001b[0m\n\u001b[0m\u001b[1;32m    151\u001b[0m     \u001b[0;32mexcept\u001b[0m \u001b[0mException\u001b[0m \u001b[0;32mas\u001b[0m \u001b[0me\u001b[0m\u001b[0;34m:\u001b[0m\u001b[0;34m\u001b[0m\u001b[0;34m\u001b[0m\u001b[0m\n\u001b[1;32m    152\u001b[0m       \u001b[0mfiltered_tb\u001b[0m \u001b[0;34m=\u001b[0m \u001b[0m_process_traceback_frames\u001b[0m\u001b[0;34m(\u001b[0m\u001b[0me\u001b[0m\u001b[0;34m.\u001b[0m\u001b[0m__traceback__\u001b[0m\u001b[0;34m)\u001b[0m\u001b[0;34m\u001b[0m\u001b[0;34m\u001b[0m\u001b[0m\n",
            "\u001b[0;32m/usr/local/lib/python3.7/dist-packages/tensorflow/python/eager/def_function.py\u001b[0m in \u001b[0;36m__call__\u001b[0;34m(self, *args, **kwds)\u001b[0m\n\u001b[1;32m    913\u001b[0m \u001b[0;34m\u001b[0m\u001b[0m\n\u001b[1;32m    914\u001b[0m       \u001b[0;32mwith\u001b[0m \u001b[0mOptionalXlaContext\u001b[0m\u001b[0;34m(\u001b[0m\u001b[0mself\u001b[0m\u001b[0;34m.\u001b[0m\u001b[0m_jit_compile\u001b[0m\u001b[0;34m)\u001b[0m\u001b[0;34m:\u001b[0m\u001b[0;34m\u001b[0m\u001b[0;34m\u001b[0m\u001b[0m\n\u001b[0;32m--> 915\u001b[0;31m         \u001b[0mresult\u001b[0m \u001b[0;34m=\u001b[0m \u001b[0mself\u001b[0m\u001b[0;34m.\u001b[0m\u001b[0m_call\u001b[0m\u001b[0;34m(\u001b[0m\u001b[0;34m*\u001b[0m\u001b[0margs\u001b[0m\u001b[0;34m,\u001b[0m \u001b[0;34m**\u001b[0m\u001b[0mkwds\u001b[0m\u001b[0;34m)\u001b[0m\u001b[0;34m\u001b[0m\u001b[0;34m\u001b[0m\u001b[0m\n\u001b[0m\u001b[1;32m    916\u001b[0m \u001b[0;34m\u001b[0m\u001b[0m\n\u001b[1;32m    917\u001b[0m       \u001b[0mnew_tracing_count\u001b[0m \u001b[0;34m=\u001b[0m \u001b[0mself\u001b[0m\u001b[0;34m.\u001b[0m\u001b[0mexperimental_get_tracing_count\u001b[0m\u001b[0;34m(\u001b[0m\u001b[0;34m)\u001b[0m\u001b[0;34m\u001b[0m\u001b[0;34m\u001b[0m\u001b[0m\n",
            "\u001b[0;32m/usr/local/lib/python3.7/dist-packages/tensorflow/python/eager/def_function.py\u001b[0m in \u001b[0;36m_call\u001b[0;34m(self, *args, **kwds)\u001b[0m\n\u001b[1;32m    945\u001b[0m       \u001b[0;31m# In this case we have created variables on the first call, so we run the\u001b[0m\u001b[0;34m\u001b[0m\u001b[0;34m\u001b[0m\u001b[0;34m\u001b[0m\u001b[0m\n\u001b[1;32m    946\u001b[0m       \u001b[0;31m# defunned version which is guaranteed to never create variables.\u001b[0m\u001b[0;34m\u001b[0m\u001b[0;34m\u001b[0m\u001b[0;34m\u001b[0m\u001b[0m\n\u001b[0;32m--> 947\u001b[0;31m       \u001b[0;32mreturn\u001b[0m \u001b[0mself\u001b[0m\u001b[0;34m.\u001b[0m\u001b[0m_stateless_fn\u001b[0m\u001b[0;34m(\u001b[0m\u001b[0;34m*\u001b[0m\u001b[0margs\u001b[0m\u001b[0;34m,\u001b[0m \u001b[0;34m**\u001b[0m\u001b[0mkwds\u001b[0m\u001b[0;34m)\u001b[0m  \u001b[0;31m# pylint: disable=not-callable\u001b[0m\u001b[0;34m\u001b[0m\u001b[0;34m\u001b[0m\u001b[0m\n\u001b[0m\u001b[1;32m    948\u001b[0m     \u001b[0;32melif\u001b[0m \u001b[0mself\u001b[0m\u001b[0;34m.\u001b[0m\u001b[0m_stateful_fn\u001b[0m \u001b[0;32mis\u001b[0m \u001b[0;32mnot\u001b[0m \u001b[0;32mNone\u001b[0m\u001b[0;34m:\u001b[0m\u001b[0;34m\u001b[0m\u001b[0;34m\u001b[0m\u001b[0m\n\u001b[1;32m    949\u001b[0m       \u001b[0;31m# Release the lock early so that multiple threads can perform the call\u001b[0m\u001b[0;34m\u001b[0m\u001b[0;34m\u001b[0m\u001b[0;34m\u001b[0m\u001b[0m\n",
            "\u001b[0;32m/usr/local/lib/python3.7/dist-packages/tensorflow/python/eager/function.py\u001b[0m in \u001b[0;36m__call__\u001b[0;34m(self, *args, **kwargs)\u001b[0m\n\u001b[1;32m   2955\u001b[0m        filtered_flat_args) = self._maybe_define_function(args, kwargs)\n\u001b[1;32m   2956\u001b[0m     return graph_function._call_flat(\n\u001b[0;32m-> 2957\u001b[0;31m         filtered_flat_args, captured_inputs=graph_function.captured_inputs)  # pylint: disable=protected-access\n\u001b[0m\u001b[1;32m   2958\u001b[0m \u001b[0;34m\u001b[0m\u001b[0m\n\u001b[1;32m   2959\u001b[0m   \u001b[0;34m@\u001b[0m\u001b[0mproperty\u001b[0m\u001b[0;34m\u001b[0m\u001b[0;34m\u001b[0m\u001b[0m\n",
            "\u001b[0;32m/usr/local/lib/python3.7/dist-packages/tensorflow/python/eager/function.py\u001b[0m in \u001b[0;36m_call_flat\u001b[0;34m(self, args, captured_inputs, cancellation_manager)\u001b[0m\n\u001b[1;32m   1815\u001b[0m     \u001b[0mvariables_used\u001b[0m \u001b[0;34m=\u001b[0m \u001b[0mset\u001b[0m\u001b[0;34m(\u001b[0m\u001b[0;34m[\u001b[0m\u001b[0;34m]\u001b[0m\u001b[0;34m)\u001b[0m\u001b[0;34m\u001b[0m\u001b[0;34m\u001b[0m\u001b[0m\n\u001b[1;32m   1816\u001b[0m     \u001b[0;32mfor\u001b[0m \u001b[0mi\u001b[0m\u001b[0;34m,\u001b[0m \u001b[0marg\u001b[0m \u001b[0;32min\u001b[0m \u001b[0menumerate\u001b[0m\u001b[0;34m(\u001b[0m\u001b[0margs\u001b[0m\u001b[0;34m)\u001b[0m\u001b[0;34m:\u001b[0m\u001b[0;34m\u001b[0m\u001b[0;34m\u001b[0m\u001b[0m\n\u001b[0;32m-> 1817\u001b[0;31m       \u001b[0;32mif\u001b[0m \u001b[0misinstance\u001b[0m\u001b[0;34m(\u001b[0m\u001b[0marg\u001b[0m\u001b[0;34m,\u001b[0m \u001b[0mresource_variable_ops\u001b[0m\u001b[0;34m.\u001b[0m\u001b[0mBaseResourceVariable\u001b[0m\u001b[0;34m)\u001b[0m\u001b[0;34m:\u001b[0m\u001b[0;34m\u001b[0m\u001b[0;34m\u001b[0m\u001b[0m\n\u001b[0m\u001b[1;32m   1818\u001b[0m         \u001b[0;31m# We can pass a variable more than once, and in this case we need to\u001b[0m\u001b[0;34m\u001b[0m\u001b[0;34m\u001b[0m\u001b[0;34m\u001b[0m\u001b[0m\n\u001b[1;32m   1819\u001b[0m         \u001b[0;31m# pass its handle only once.\u001b[0m\u001b[0;34m\u001b[0m\u001b[0;34m\u001b[0m\u001b[0;34m\u001b[0m\u001b[0m\n",
            "\u001b[0;31mKeyboardInterrupt\u001b[0m: "
          ]
        }
      ],
      "source": [
        "model_2.fit(train_X, train_y, epochs=20, batch_size=2, verbose=2)"
      ],
      "id": "9903ac3c"
    },
    {
      "cell_type": "markdown",
      "metadata": {
        "id": "f1fUFE24FPC-"
      },
      "source": [
        "#Prediction SLP"
      ],
      "id": "f1fUFE24FPC-"
    },
    {
      "cell_type": "code",
      "execution_count": null,
      "metadata": {
        "colab": {
          "base_uri": "https://localhost:8080/",
          "height": 236
        },
        "id": "c71c7f0b",
        "outputId": "c3e8f061-ae06-4426-8670-b07ef8618363"
      },
      "outputs": [
        {
          "ename": "AttributeError",
          "evalue": "ignored",
          "output_type": "error",
          "traceback": [
            "\u001b[0;31m---------------------------------------------------------------------------\u001b[0m",
            "\u001b[0;31mAttributeError\u001b[0m                            Traceback (most recent call last)",
            "\u001b[0;32m<ipython-input-420-55cf65eb72e1>\u001b[0m in \u001b[0;36m<module>\u001b[0;34m()\u001b[0m\n\u001b[1;32m      2\u001b[0m \u001b[0mpredicted_y2\u001b[0m \u001b[0;34m=\u001b[0m \u001b[0mscaler\u001b[0m\u001b[0;34m.\u001b[0m\u001b[0minverse_transform\u001b[0m\u001b[0;34m(\u001b[0m\u001b[0mpredicted_y2\u001b[0m\u001b[0;34m)\u001b[0m\u001b[0;34m\u001b[0m\u001b[0;34m\u001b[0m\u001b[0m\n\u001b[1;32m      3\u001b[0m \u001b[0;34m\u001b[0m\u001b[0m\n\u001b[0;32m----> 4\u001b[0;31m \u001b[0mpredicted_y\u001b[0m \u001b[0;34m=\u001b[0m \u001b[0mpredicted_y\u001b[0m\u001b[0;34m.\u001b[0m\u001b[0mtolist\u001b[0m\u001b[0;34m(\u001b[0m\u001b[0;34m)\u001b[0m\u001b[0;34m\u001b[0m\u001b[0;34m\u001b[0m\u001b[0m\n\u001b[0m\u001b[1;32m      5\u001b[0m \u001b[0mpredicted_y2\u001b[0m \u001b[0;34m=\u001b[0m \u001b[0mpredicted_y2\u001b[0m\u001b[0;34m.\u001b[0m\u001b[0mtolist\u001b[0m\u001b[0;34m(\u001b[0m\u001b[0;34m)\u001b[0m\u001b[0;34m\u001b[0m\u001b[0;34m\u001b[0m\u001b[0m\n\u001b[1;32m      6\u001b[0m \u001b[0;34m\u001b[0m\u001b[0m\n",
            "\u001b[0;31mAttributeError\u001b[0m: 'list' object has no attribute 'tolist'"
          ]
        }
      ],
      "source": [
        "predicted_y2  = model_2.predict(test_X)\n",
        "predicted_y2 = scaler.inverse_transform(predicted_y2)\n",
        "\n",
        "predicted_y = predicted_y.tolist()\n",
        "predicted_y2 = predicted_y2.tolist()\n",
        "\n"
      ],
      "id": "c71c7f0b"
    },
    {
      "cell_type": "code",
      "execution_count": null,
      "metadata": {
        "id": "qGSpOasrMJdN"
      },
      "outputs": [],
      "source": [
        "REAL = scaler.inverse_transform(test_y)"
      ],
      "id": "qGSpOasrMJdN"
    },
    {
      "cell_type": "code",
      "execution_count": null,
      "metadata": {
        "id": "B6jwglpMKwKf"
      },
      "outputs": [],
      "source": [
        "Results_MLP_SLP = pd.DataFrame(data={\n",
        "    \"REAL\":[x[0] for x in REAL ],\n",
        "    \"MLP\": [x[0] for x in predicted_y ],\n",
        "    \"SLP\":[x[0] for x in predicted_y2 ]\n",
        "})"
      ],
      "id": "B6jwglpMKwKf"
    },
    {
      "cell_type": "code",
      "execution_count": null,
      "metadata": {
        "colab": {
          "base_uri": "https://localhost:8080/",
          "height": 213
        },
        "id": "ULkPtenPLl8c",
        "outputId": "1605beba-0f79-46dd-b7b6-0b714d6b10dc"
      },
      "outputs": [
        {
          "data": {
            "text/html": [
              "\n",
              "  <div id=\"df-174b7742-d5a3-4120-b22a-a879159d225a\">\n",
              "    <div class=\"colab-df-container\">\n",
              "      <div>\n",
              "<style scoped>\n",
              "    .dataframe tbody tr th:only-of-type {\n",
              "        vertical-align: middle;\n",
              "    }\n",
              "\n",
              "    .dataframe tbody tr th {\n",
              "        vertical-align: top;\n",
              "    }\n",
              "\n",
              "    .dataframe thead th {\n",
              "        text-align: right;\n",
              "    }\n",
              "</style>\n",
              "<table border=\"1\" class=\"dataframe\">\n",
              "  <thead>\n",
              "    <tr style=\"text-align: right;\">\n",
              "      <th></th>\n",
              "      <th>REAL</th>\n",
              "      <th>MLP</th>\n",
              "      <th>SLP</th>\n",
              "    </tr>\n",
              "  </thead>\n",
              "  <tbody>\n",
              "    <tr>\n",
              "      <th>0</th>\n",
              "      <td>36930.80</td>\n",
              "      <td>3.152798e+09</td>\n",
              "      <td>24182.578125</td>\n",
              "    </tr>\n",
              "    <tr>\n",
              "      <th>1</th>\n",
              "      <td>49375.40</td>\n",
              "      <td>4.108761e+09</td>\n",
              "      <td>30127.296875</td>\n",
              "    </tr>\n",
              "    <tr>\n",
              "      <th>2</th>\n",
              "      <td>6962.39</td>\n",
              "      <td>1.845355e+09</td>\n",
              "      <td>17261.964844</td>\n",
              "    </tr>\n",
              "    <tr>\n",
              "      <th>3</th>\n",
              "      <td>18958.40</td>\n",
              "      <td>2.686685e+09</td>\n",
              "      <td>22248.732422</td>\n",
              "    </tr>\n",
              "    <tr>\n",
              "      <th>4</th>\n",
              "      <td>11052.30</td>\n",
              "      <td>9.243315e+08</td>\n",
              "      <td>12689.831055</td>\n",
              "    </tr>\n",
              "  </tbody>\n",
              "</table>\n",
              "</div>\n",
              "      <button class=\"colab-df-convert\" onclick=\"convertToInteractive('df-174b7742-d5a3-4120-b22a-a879159d225a')\"\n",
              "              title=\"Convert this dataframe to an interactive table.\"\n",
              "              style=\"display:none;\">\n",
              "        \n",
              "  <svg xmlns=\"http://www.w3.org/2000/svg\" height=\"24px\"viewBox=\"0 0 24 24\"\n",
              "       width=\"24px\">\n",
              "    <path d=\"M0 0h24v24H0V0z\" fill=\"none\"/>\n",
              "    <path d=\"M18.56 5.44l.94 2.06.94-2.06 2.06-.94-2.06-.94-.94-2.06-.94 2.06-2.06.94zm-11 1L8.5 8.5l.94-2.06 2.06-.94-2.06-.94L8.5 2.5l-.94 2.06-2.06.94zm10 10l.94 2.06.94-2.06 2.06-.94-2.06-.94-.94-2.06-.94 2.06-2.06.94z\"/><path d=\"M17.41 7.96l-1.37-1.37c-.4-.4-.92-.59-1.43-.59-.52 0-1.04.2-1.43.59L10.3 9.45l-7.72 7.72c-.78.78-.78 2.05 0 2.83L4 21.41c.39.39.9.59 1.41.59.51 0 1.02-.2 1.41-.59l7.78-7.78 2.81-2.81c.8-.78.8-2.07 0-2.86zM5.41 20L4 18.59l7.72-7.72 1.47 1.35L5.41 20z\"/>\n",
              "  </svg>\n",
              "      </button>\n",
              "      \n",
              "  <style>\n",
              "    .colab-df-container {\n",
              "      display:flex;\n",
              "      flex-wrap:wrap;\n",
              "      gap: 12px;\n",
              "    }\n",
              "\n",
              "    .colab-df-convert {\n",
              "      background-color: #E8F0FE;\n",
              "      border: none;\n",
              "      border-radius: 50%;\n",
              "      cursor: pointer;\n",
              "      display: none;\n",
              "      fill: #1967D2;\n",
              "      height: 32px;\n",
              "      padding: 0 0 0 0;\n",
              "      width: 32px;\n",
              "    }\n",
              "\n",
              "    .colab-df-convert:hover {\n",
              "      background-color: #E2EBFA;\n",
              "      box-shadow: 0px 1px 2px rgba(60, 64, 67, 0.3), 0px 1px 3px 1px rgba(60, 64, 67, 0.15);\n",
              "      fill: #174EA6;\n",
              "    }\n",
              "\n",
              "    [theme=dark] .colab-df-convert {\n",
              "      background-color: #3B4455;\n",
              "      fill: #D2E3FC;\n",
              "    }\n",
              "\n",
              "    [theme=dark] .colab-df-convert:hover {\n",
              "      background-color: #434B5C;\n",
              "      box-shadow: 0px 1px 3px 1px rgba(0, 0, 0, 0.15);\n",
              "      filter: drop-shadow(0px 1px 2px rgba(0, 0, 0, 0.3));\n",
              "      fill: #FFFFFF;\n",
              "    }\n",
              "  </style>\n",
              "\n",
              "      <script>\n",
              "        const buttonEl =\n",
              "          document.querySelector('#df-174b7742-d5a3-4120-b22a-a879159d225a button.colab-df-convert');\n",
              "        buttonEl.style.display =\n",
              "          google.colab.kernel.accessAllowed ? 'block' : 'none';\n",
              "\n",
              "        async function convertToInteractive(key) {\n",
              "          const element = document.querySelector('#df-174b7742-d5a3-4120-b22a-a879159d225a');\n",
              "          const dataTable =\n",
              "            await google.colab.kernel.invokeFunction('convertToInteractive',\n",
              "                                                     [key], {});\n",
              "          if (!dataTable) return;\n",
              "\n",
              "          const docLinkHtml = 'Like what you see? Visit the ' +\n",
              "            '<a target=\"_blank\" href=https://colab.research.google.com/notebooks/data_table.ipynb>data table notebook</a>'\n",
              "            + ' to learn more about interactive tables.';\n",
              "          element.innerHTML = '';\n",
              "          dataTable['output_type'] = 'display_data';\n",
              "          await google.colab.output.renderOutput(dataTable, element);\n",
              "          const docLink = document.createElement('div');\n",
              "          docLink.innerHTML = docLinkHtml;\n",
              "          element.appendChild(docLink);\n",
              "        }\n",
              "      </script>\n",
              "    </div>\n",
              "  </div>\n",
              "  "
            ],
            "text/plain": [
              "       REAL           MLP           SLP\n",
              "0  36930.80  3.152798e+09  24182.578125\n",
              "1  49375.40  4.108761e+09  30127.296875\n",
              "2   6962.39  1.845355e+09  17261.964844\n",
              "3  18958.40  2.686685e+09  22248.732422\n",
              "4  11052.30  9.243315e+08  12689.831055"
            ]
          },
          "execution_count": 430,
          "metadata": {},
          "output_type": "execute_result"
        }
      ],
      "source": [
        "Results_MLP_SLP.head(5)"
      ],
      "id": "ULkPtenPLl8c"
    },
    {
      "cell_type": "markdown",
      "metadata": {
        "id": "t2QU0Akxwson"
      },
      "source": [],
      "id": "t2QU0Akxwson"
    },
    {
      "cell_type": "code",
      "execution_count": null,
      "metadata": {
        "colab": {
          "base_uri": "https://localhost:8080/",
          "height": 380
        },
        "id": "fbb3b79d",
        "outputId": "4fafc0ee-f965-4b00-9467-a57265dced52"
      },
      "outputs": [
        {
          "ename": "ValueError",
          "evalue": "ignored",
          "output_type": "error",
          "traceback": [
            "\u001b[0;31m---------------------------------------------------------------------------\u001b[0m",
            "\u001b[0;31mValueError\u001b[0m                                Traceback (most recent call last)",
            "\u001b[0;32m<ipython-input-237-bf9e59df8536>\u001b[0m in \u001b[0;36m<module>\u001b[0;34m()\u001b[0m\n\u001b[0;32m----> 1\u001b[0;31m \u001b[0mMSE\u001b[0m \u001b[0;34m=\u001b[0m \u001b[0mnp\u001b[0m\u001b[0;34m.\u001b[0m\u001b[0msquare\u001b[0m\u001b[0;34m(\u001b[0m\u001b[0mnp\u001b[0m\u001b[0;34m.\u001b[0m\u001b[0msubtract\u001b[0m\u001b[0;34m(\u001b[0m\u001b[0mtest_y\u001b[0m\u001b[0;34m,\u001b[0m \u001b[0mpredicted_y2\u001b[0m\u001b[0;34m)\u001b[0m\u001b[0;34m)\u001b[0m\u001b[0;34m.\u001b[0m\u001b[0mmean\u001b[0m\u001b[0;34m(\u001b[0m\u001b[0;34m)\u001b[0m\u001b[0;34m\u001b[0m\u001b[0;34m\u001b[0m\u001b[0m\n\u001b[0m\u001b[1;32m      2\u001b[0m \u001b[0;34m\u001b[0m\u001b[0m\n\u001b[1;32m      3\u001b[0m \u001b[0mRMSE\u001b[0m \u001b[0;34m=\u001b[0m \u001b[0mmath\u001b[0m\u001b[0;34m.\u001b[0m\u001b[0msqrt\u001b[0m\u001b[0;34m(\u001b[0m\u001b[0mMSE\u001b[0m\u001b[0;34m)\u001b[0m\u001b[0;34m\u001b[0m\u001b[0;34m\u001b[0m\u001b[0m\n\u001b[1;32m      4\u001b[0m \u001b[0mprint\u001b[0m\u001b[0;34m(\u001b[0m\u001b[0;34m\"Root Mean Square Error:\\n\"\u001b[0m\u001b[0;34m)\u001b[0m\u001b[0;34m\u001b[0m\u001b[0;34m\u001b[0m\u001b[0m\n\u001b[1;32m      5\u001b[0m \u001b[0mprint\u001b[0m\u001b[0;34m(\u001b[0m\u001b[0mRMSE\u001b[0m\u001b[0;34m)\u001b[0m\u001b[0;34m\u001b[0m\u001b[0;34m\u001b[0m\u001b[0m\n",
            "\u001b[0;32m/usr/local/lib/python3.7/dist-packages/pandas/core/generic.py\u001b[0m in \u001b[0;36m__array_ufunc__\u001b[0;34m(self, ufunc, method, *inputs, **kwargs)\u001b[0m\n\u001b[1;32m   2030\u001b[0m         \u001b[0mself\u001b[0m\u001b[0;34m,\u001b[0m \u001b[0mufunc\u001b[0m\u001b[0;34m:\u001b[0m \u001b[0mnp\u001b[0m\u001b[0;34m.\u001b[0m\u001b[0mufunc\u001b[0m\u001b[0;34m,\u001b[0m \u001b[0mmethod\u001b[0m\u001b[0;34m:\u001b[0m \u001b[0mstr\u001b[0m\u001b[0;34m,\u001b[0m \u001b[0;34m*\u001b[0m\u001b[0minputs\u001b[0m\u001b[0;34m:\u001b[0m \u001b[0mAny\u001b[0m\u001b[0;34m,\u001b[0m \u001b[0;34m**\u001b[0m\u001b[0mkwargs\u001b[0m\u001b[0;34m:\u001b[0m \u001b[0mAny\u001b[0m\u001b[0;34m\u001b[0m\u001b[0;34m\u001b[0m\u001b[0m\n\u001b[1;32m   2031\u001b[0m     ):\n\u001b[0;32m-> 2032\u001b[0;31m         \u001b[0;32mreturn\u001b[0m \u001b[0marraylike\u001b[0m\u001b[0;34m.\u001b[0m\u001b[0marray_ufunc\u001b[0m\u001b[0;34m(\u001b[0m\u001b[0mself\u001b[0m\u001b[0;34m,\u001b[0m \u001b[0mufunc\u001b[0m\u001b[0;34m,\u001b[0m \u001b[0mmethod\u001b[0m\u001b[0;34m,\u001b[0m \u001b[0;34m*\u001b[0m\u001b[0minputs\u001b[0m\u001b[0;34m,\u001b[0m \u001b[0;34m**\u001b[0m\u001b[0mkwargs\u001b[0m\u001b[0;34m)\u001b[0m\u001b[0;34m\u001b[0m\u001b[0;34m\u001b[0m\u001b[0m\n\u001b[0m\u001b[1;32m   2033\u001b[0m \u001b[0;34m\u001b[0m\u001b[0m\n\u001b[1;32m   2034\u001b[0m     \u001b[0;31m# ideally we would define this to avoid the getattr checks, but\u001b[0m\u001b[0;34m\u001b[0m\u001b[0;34m\u001b[0m\u001b[0;34m\u001b[0m\u001b[0m\n",
            "\u001b[0;32m/usr/local/lib/python3.7/dist-packages/pandas/core/arraylike.py\u001b[0m in \u001b[0;36marray_ufunc\u001b[0;34m(self, ufunc, method, *inputs, **kwargs)\u001b[0m\n\u001b[1;32m    251\u001b[0m \u001b[0;34m\u001b[0m\u001b[0m\n\u001b[1;32m    252\u001b[0m     \u001b[0;31m# for binary ops, use our custom dunder methods\u001b[0m\u001b[0;34m\u001b[0m\u001b[0;34m\u001b[0m\u001b[0;34m\u001b[0m\u001b[0m\n\u001b[0;32m--> 253\u001b[0;31m     \u001b[0mresult\u001b[0m \u001b[0;34m=\u001b[0m \u001b[0mmaybe_dispatch_ufunc_to_dunder_op\u001b[0m\u001b[0;34m(\u001b[0m\u001b[0mself\u001b[0m\u001b[0;34m,\u001b[0m \u001b[0mufunc\u001b[0m\u001b[0;34m,\u001b[0m \u001b[0mmethod\u001b[0m\u001b[0;34m,\u001b[0m \u001b[0;34m*\u001b[0m\u001b[0minputs\u001b[0m\u001b[0;34m,\u001b[0m \u001b[0;34m**\u001b[0m\u001b[0mkwargs\u001b[0m\u001b[0;34m)\u001b[0m\u001b[0;34m\u001b[0m\u001b[0;34m\u001b[0m\u001b[0m\n\u001b[0m\u001b[1;32m    254\u001b[0m     \u001b[0;32mif\u001b[0m \u001b[0mresult\u001b[0m \u001b[0;32mis\u001b[0m \u001b[0;32mnot\u001b[0m \u001b[0mNotImplemented\u001b[0m\u001b[0;34m:\u001b[0m\u001b[0;34m\u001b[0m\u001b[0;34m\u001b[0m\u001b[0m\n\u001b[1;32m    255\u001b[0m         \u001b[0;32mreturn\u001b[0m \u001b[0mresult\u001b[0m\u001b[0;34m\u001b[0m\u001b[0;34m\u001b[0m\u001b[0m\n",
            "\u001b[0;32m/usr/local/lib/python3.7/dist-packages/pandas/_libs/ops_dispatch.pyx\u001b[0m in \u001b[0;36mpandas._libs.ops_dispatch.maybe_dispatch_ufunc_to_dunder_op\u001b[0;34m()\u001b[0m\n",
            "\u001b[0;32m/usr/local/lib/python3.7/dist-packages/pandas/core/ops/common.py\u001b[0m in \u001b[0;36mnew_method\u001b[0;34m(self, other)\u001b[0m\n\u001b[1;32m     67\u001b[0m         \u001b[0mother\u001b[0m \u001b[0;34m=\u001b[0m \u001b[0mitem_from_zerodim\u001b[0m\u001b[0;34m(\u001b[0m\u001b[0mother\u001b[0m\u001b[0;34m)\u001b[0m\u001b[0;34m\u001b[0m\u001b[0;34m\u001b[0m\u001b[0m\n\u001b[1;32m     68\u001b[0m \u001b[0;34m\u001b[0m\u001b[0m\n\u001b[0;32m---> 69\u001b[0;31m         \u001b[0;32mreturn\u001b[0m \u001b[0mmethod\u001b[0m\u001b[0;34m(\u001b[0m\u001b[0mself\u001b[0m\u001b[0;34m,\u001b[0m \u001b[0mother\u001b[0m\u001b[0;34m)\u001b[0m\u001b[0;34m\u001b[0m\u001b[0;34m\u001b[0m\u001b[0m\n\u001b[0m\u001b[1;32m     70\u001b[0m \u001b[0;34m\u001b[0m\u001b[0m\n\u001b[1;32m     71\u001b[0m     \u001b[0;32mreturn\u001b[0m \u001b[0mnew_method\u001b[0m\u001b[0;34m\u001b[0m\u001b[0;34m\u001b[0m\u001b[0m\n",
            "\u001b[0;32m/usr/local/lib/python3.7/dist-packages/pandas/core/arraylike.py\u001b[0m in \u001b[0;36m__sub__\u001b[0;34m(self, other)\u001b[0m\n\u001b[1;32m     98\u001b[0m     \u001b[0;34m@\u001b[0m\u001b[0munpack_zerodim_and_defer\u001b[0m\u001b[0;34m(\u001b[0m\u001b[0;34m\"__sub__\"\u001b[0m\u001b[0;34m)\u001b[0m\u001b[0;34m\u001b[0m\u001b[0;34m\u001b[0m\u001b[0m\n\u001b[1;32m     99\u001b[0m     \u001b[0;32mdef\u001b[0m \u001b[0m__sub__\u001b[0m\u001b[0;34m(\u001b[0m\u001b[0mself\u001b[0m\u001b[0;34m,\u001b[0m \u001b[0mother\u001b[0m\u001b[0;34m)\u001b[0m\u001b[0;34m:\u001b[0m\u001b[0;34m\u001b[0m\u001b[0;34m\u001b[0m\u001b[0m\n\u001b[0;32m--> 100\u001b[0;31m         \u001b[0;32mreturn\u001b[0m \u001b[0mself\u001b[0m\u001b[0;34m.\u001b[0m\u001b[0m_arith_method\u001b[0m\u001b[0;34m(\u001b[0m\u001b[0mother\u001b[0m\u001b[0;34m,\u001b[0m \u001b[0moperator\u001b[0m\u001b[0;34m.\u001b[0m\u001b[0msub\u001b[0m\u001b[0;34m)\u001b[0m\u001b[0;34m\u001b[0m\u001b[0;34m\u001b[0m\u001b[0m\n\u001b[0m\u001b[1;32m    101\u001b[0m \u001b[0;34m\u001b[0m\u001b[0m\n\u001b[1;32m    102\u001b[0m     \u001b[0;34m@\u001b[0m\u001b[0munpack_zerodim_and_defer\u001b[0m\u001b[0;34m(\u001b[0m\u001b[0;34m\"__rsub__\"\u001b[0m\u001b[0;34m)\u001b[0m\u001b[0;34m\u001b[0m\u001b[0;34m\u001b[0m\u001b[0m\n",
            "\u001b[0;32m/usr/local/lib/python3.7/dist-packages/pandas/core/series.py\u001b[0m in \u001b[0;36m_arith_method\u001b[0;34m(self, other, op)\u001b[0m\n\u001b[1;32m   5526\u001b[0m             \u001b[0mresult\u001b[0m \u001b[0;34m=\u001b[0m \u001b[0mops\u001b[0m\u001b[0;34m.\u001b[0m\u001b[0marithmetic_op\u001b[0m\u001b[0;34m(\u001b[0m\u001b[0mlvalues\u001b[0m\u001b[0;34m,\u001b[0m \u001b[0mrvalues\u001b[0m\u001b[0;34m,\u001b[0m \u001b[0mop\u001b[0m\u001b[0;34m)\u001b[0m\u001b[0;34m\u001b[0m\u001b[0;34m\u001b[0m\u001b[0m\n\u001b[1;32m   5527\u001b[0m \u001b[0;34m\u001b[0m\u001b[0m\n\u001b[0;32m-> 5528\u001b[0;31m         \u001b[0;32mreturn\u001b[0m \u001b[0mself\u001b[0m\u001b[0;34m.\u001b[0m\u001b[0m_construct_result\u001b[0m\u001b[0;34m(\u001b[0m\u001b[0mresult\u001b[0m\u001b[0;34m,\u001b[0m \u001b[0mname\u001b[0m\u001b[0;34m=\u001b[0m\u001b[0mres_name\u001b[0m\u001b[0;34m)\u001b[0m\u001b[0;34m\u001b[0m\u001b[0;34m\u001b[0m\u001b[0m\n\u001b[0m\u001b[1;32m   5529\u001b[0m \u001b[0;34m\u001b[0m\u001b[0m\n\u001b[1;32m   5530\u001b[0m \u001b[0;34m\u001b[0m\u001b[0m\n",
            "\u001b[0;32m/usr/local/lib/python3.7/dist-packages/pandas/core/series.py\u001b[0m in \u001b[0;36m_construct_result\u001b[0;34m(self, result, name)\u001b[0m\n\u001b[1;32m   2943\u001b[0m         \u001b[0;31m# We do not pass dtype to ensure that the Series constructor\u001b[0m\u001b[0;34m\u001b[0m\u001b[0;34m\u001b[0m\u001b[0;34m\u001b[0m\u001b[0m\n\u001b[1;32m   2944\u001b[0m         \u001b[0;31m#  does inference in the case where `result` has object-dtype.\u001b[0m\u001b[0;34m\u001b[0m\u001b[0;34m\u001b[0m\u001b[0;34m\u001b[0m\u001b[0m\n\u001b[0;32m-> 2945\u001b[0;31m         \u001b[0mout\u001b[0m \u001b[0;34m=\u001b[0m \u001b[0mself\u001b[0m\u001b[0;34m.\u001b[0m\u001b[0m_constructor\u001b[0m\u001b[0;34m(\u001b[0m\u001b[0mresult\u001b[0m\u001b[0;34m,\u001b[0m \u001b[0mindex\u001b[0m\u001b[0;34m=\u001b[0m\u001b[0mself\u001b[0m\u001b[0;34m.\u001b[0m\u001b[0mindex\u001b[0m\u001b[0;34m)\u001b[0m\u001b[0;34m\u001b[0m\u001b[0;34m\u001b[0m\u001b[0m\n\u001b[0m\u001b[1;32m   2946\u001b[0m         \u001b[0mout\u001b[0m \u001b[0;34m=\u001b[0m \u001b[0mout\u001b[0m\u001b[0;34m.\u001b[0m\u001b[0m__finalize__\u001b[0m\u001b[0;34m(\u001b[0m\u001b[0mself\u001b[0m\u001b[0;34m)\u001b[0m\u001b[0;34m\u001b[0m\u001b[0;34m\u001b[0m\u001b[0m\n\u001b[1;32m   2947\u001b[0m \u001b[0;34m\u001b[0m\u001b[0m\n",
            "\u001b[0;32m/usr/local/lib/python3.7/dist-packages/pandas/core/series.py\u001b[0m in \u001b[0;36m__init__\u001b[0;34m(self, data, index, dtype, name, copy, fastpath)\u001b[0m\n\u001b[1;32m    437\u001b[0m                     \u001b[0mdata\u001b[0m \u001b[0;34m=\u001b[0m \u001b[0mdata\u001b[0m\u001b[0;34m.\u001b[0m\u001b[0mcopy\u001b[0m\u001b[0;34m(\u001b[0m\u001b[0;34m)\u001b[0m\u001b[0;34m\u001b[0m\u001b[0;34m\u001b[0m\u001b[0m\n\u001b[1;32m    438\u001b[0m             \u001b[0;32melse\u001b[0m\u001b[0;34m:\u001b[0m\u001b[0;34m\u001b[0m\u001b[0;34m\u001b[0m\u001b[0m\n\u001b[0;32m--> 439\u001b[0;31m                 \u001b[0mdata\u001b[0m \u001b[0;34m=\u001b[0m \u001b[0msanitize_array\u001b[0m\u001b[0;34m(\u001b[0m\u001b[0mdata\u001b[0m\u001b[0;34m,\u001b[0m \u001b[0mindex\u001b[0m\u001b[0;34m,\u001b[0m \u001b[0mdtype\u001b[0m\u001b[0;34m,\u001b[0m \u001b[0mcopy\u001b[0m\u001b[0;34m)\u001b[0m\u001b[0;34m\u001b[0m\u001b[0;34m\u001b[0m\u001b[0m\n\u001b[0m\u001b[1;32m    440\u001b[0m \u001b[0;34m\u001b[0m\u001b[0m\n\u001b[1;32m    441\u001b[0m                 \u001b[0mmanager\u001b[0m \u001b[0;34m=\u001b[0m \u001b[0mget_option\u001b[0m\u001b[0;34m(\u001b[0m\u001b[0;34m\"mode.data_manager\"\u001b[0m\u001b[0;34m)\u001b[0m\u001b[0;34m\u001b[0m\u001b[0;34m\u001b[0m\u001b[0m\n",
            "\u001b[0;32m/usr/local/lib/python3.7/dist-packages/pandas/core/construction.py\u001b[0m in \u001b[0;36msanitize_array\u001b[0;34m(data, index, dtype, copy, raise_cast_failure, allow_2d)\u001b[0m\n\u001b[1;32m    574\u001b[0m                 \u001b[0msubarr\u001b[0m \u001b[0;34m=\u001b[0m \u001b[0mmaybe_infer_to_datetimelike\u001b[0m\u001b[0;34m(\u001b[0m\u001b[0msubarr\u001b[0m\u001b[0;34m)\u001b[0m\u001b[0;34m\u001b[0m\u001b[0;34m\u001b[0m\u001b[0m\n\u001b[1;32m    575\u001b[0m \u001b[0;34m\u001b[0m\u001b[0m\n\u001b[0;32m--> 576\u001b[0;31m     \u001b[0msubarr\u001b[0m \u001b[0;34m=\u001b[0m \u001b[0m_sanitize_ndim\u001b[0m\u001b[0;34m(\u001b[0m\u001b[0msubarr\u001b[0m\u001b[0;34m,\u001b[0m \u001b[0mdata\u001b[0m\u001b[0;34m,\u001b[0m \u001b[0mdtype\u001b[0m\u001b[0;34m,\u001b[0m \u001b[0mindex\u001b[0m\u001b[0;34m,\u001b[0m \u001b[0mallow_2d\u001b[0m\u001b[0;34m=\u001b[0m\u001b[0mallow_2d\u001b[0m\u001b[0;34m)\u001b[0m\u001b[0;34m\u001b[0m\u001b[0;34m\u001b[0m\u001b[0m\n\u001b[0m\u001b[1;32m    577\u001b[0m \u001b[0;34m\u001b[0m\u001b[0m\n\u001b[1;32m    578\u001b[0m     \u001b[0;32mif\u001b[0m \u001b[0misinstance\u001b[0m\u001b[0;34m(\u001b[0m\u001b[0msubarr\u001b[0m\u001b[0;34m,\u001b[0m \u001b[0mnp\u001b[0m\u001b[0;34m.\u001b[0m\u001b[0mndarray\u001b[0m\u001b[0;34m)\u001b[0m\u001b[0;34m:\u001b[0m\u001b[0;34m\u001b[0m\u001b[0;34m\u001b[0m\u001b[0m\n",
            "\u001b[0;32m/usr/local/lib/python3.7/dist-packages/pandas/core/construction.py\u001b[0m in \u001b[0;36m_sanitize_ndim\u001b[0;34m(result, data, dtype, index, allow_2d)\u001b[0m\n\u001b[1;32m    625\u001b[0m             \u001b[0;32mif\u001b[0m \u001b[0mallow_2d\u001b[0m\u001b[0;34m:\u001b[0m\u001b[0;34m\u001b[0m\u001b[0;34m\u001b[0m\u001b[0m\n\u001b[1;32m    626\u001b[0m                 \u001b[0;32mreturn\u001b[0m \u001b[0mresult\u001b[0m\u001b[0;34m\u001b[0m\u001b[0;34m\u001b[0m\u001b[0m\n\u001b[0;32m--> 627\u001b[0;31m             \u001b[0;32mraise\u001b[0m \u001b[0mValueError\u001b[0m\u001b[0;34m(\u001b[0m\u001b[0;34m\"Data must be 1-dimensional\"\u001b[0m\u001b[0;34m)\u001b[0m\u001b[0;34m\u001b[0m\u001b[0;34m\u001b[0m\u001b[0m\n\u001b[0m\u001b[1;32m    628\u001b[0m         \u001b[0;32mif\u001b[0m \u001b[0mis_object_dtype\u001b[0m\u001b[0;34m(\u001b[0m\u001b[0mdtype\u001b[0m\u001b[0;34m)\u001b[0m \u001b[0;32mand\u001b[0m \u001b[0misinstance\u001b[0m\u001b[0;34m(\u001b[0m\u001b[0mdtype\u001b[0m\u001b[0;34m,\u001b[0m \u001b[0mExtensionDtype\u001b[0m\u001b[0;34m)\u001b[0m\u001b[0;34m:\u001b[0m\u001b[0;34m\u001b[0m\u001b[0;34m\u001b[0m\u001b[0m\n\u001b[1;32m    629\u001b[0m             \u001b[0;31m# i.e. PandasDtype(\"O\")\u001b[0m\u001b[0;34m\u001b[0m\u001b[0;34m\u001b[0m\u001b[0;34m\u001b[0m\u001b[0m\n",
            "\u001b[0;31mValueError\u001b[0m: Data must be 1-dimensional"
          ]
        }
      ],
      "source": [
        "MSE = np.square(np.subtract(test_y, predicted_y2)).mean() \n",
        " \n",
        "RMSE = math.sqrt(MSE)\n",
        "print(\"Root Mean Square Error:\\n\")\n",
        "print(RMSE)"
      ],
      "id": "fbb3b79d"
    },
    {
      "cell_type": "code",
      "execution_count": null,
      "metadata": {
        "colab": {
          "base_uri": "https://localhost:8080/"
        },
        "id": "Sfo6I-pvv6Ul",
        "outputId": "9ef8eff8-4a3c-4777-9c38-cd0fc601e5fd"
      },
      "outputs": [
        {
          "name": "stdout",
          "output_type": "stream",
          "text": [
            "Root Mean Square Error:\n",
            "\n",
            "0.1423673785204798\n"
          ]
        }
      ],
      "source": [
        "MSE = np.square(np.subtract(test_y, predicted_y)).mean() \n",
        " \n",
        "RMSE = math.sqrt(MSE)\n",
        "print(\"Root Mean Square Error:\\n\")\n",
        "print(RMSE)"
      ],
      "id": "Sfo6I-pvv6Ul"
    },
    {
      "cell_type": "code",
      "execution_count": null,
      "metadata": {
        "id": "QGvFFc0rx6jh"
      },
      "outputs": [],
      "source": [],
      "id": "QGvFFc0rx6jh"
    },
    {
      "cell_type": "code",
      "execution_count": null,
      "metadata": {
        "colab": {
          "base_uri": "https://localhost:8080/"
        },
        "id": "GGaf1hhrwnyI",
        "outputId": "2a5ce102-9122-4c8e-8dd7-45de12207775"
      },
      "outputs": [
        {
          "name": "stdout",
          "output_type": "stream",
          "text": [
            "Root Mean Square Error:\n",
            "\n",
            "1419.6013651381297\n"
          ]
        }
      ],
      "source": [
        "True_M3 = TestData[\"Q\"].to_list()\n",
        "#Predicted_M3  = [x[0] for x in Predicted_M3]\n",
        "\n",
        "MSE = np.square(np.subtract(True_M3, Predicted_M3)).mean() \n",
        " \n",
        "RMSE = math.sqrt(MSE)\n",
        "print(\"Root Mean Square Error:\\n\")\n",
        "print(RMSE)"
      ],
      "id": "GGaf1hhrwnyI"
    }
  ],
  "metadata": {
    "colab": {
      "collapsed_sections": [],
      "provenance": [],
      "include_colab_link": true
    },
    "kernelspec": {
      "display_name": "Python 3",
      "language": "python",
      "name": "python3"
    },
    "language_info": {
      "codemirror_mode": {
        "name": "ipython",
        "version": 3
      },
      "file_extension": ".py",
      "mimetype": "text/x-python",
      "name": "python",
      "nbconvert_exporter": "python",
      "pygments_lexer": "ipython3",
      "version": "3.8.8"
    }
  },
  "nbformat": 4,
  "nbformat_minor": 5
}